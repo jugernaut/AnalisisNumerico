{
  "cells": [
    {
      "cell_type": "markdown",
      "metadata": {
        "id": "view-in-github",
        "colab_type": "text"
      },
      "source": [
        "<a href=\"https://colab.research.google.com/github/jugernaut/AnalisisNumerico/blob/desarrollo/00_Introduccion/DecToBinaryToDec.ipynb\" target=\"_parent\"><img src=\"https://colab.research.google.com/assets/colab-badge.svg\" alt=\"Open In Colab\"/></a>"
      ]
    },
    {
      "cell_type": "markdown",
      "metadata": {
        "id": "CKkAPHkQgVZP"
      },
      "source": [
        "# Conversion de binario a decimal y viceversa usando utilireias de Python"
      ]
    },
    {
      "cell_type": "markdown",
      "metadata": {
        "id": "TJxxQu5lgVZT"
      },
      "source": [
        "## Como se expresa un número en base 10 "
      ]
    },
    {
      "cell_type": "markdown",
      "metadata": {
        "id": "_4SNTlxIgVZU"
      },
      "source": [
        "Sea $N$ un número natural, entonces existen $k+1$ cifras $a_0,a_1,\\ldots,a_k$\n",
        "tomadas del conjunto $\\{0,1,2,\\ldots,9\\}$ tales que $N$ admite el siguiente desarrollo:\n",
        "$$\n",
        "N=a_k \\cdot 10^{k}+a_{k-1}\\cdot 10^{k-1}+ \\ldots + a_0 \\cdot 10^0\n",
        "$$\n",
        "Por lo que en notaci\\'on en base 10 tenemos:\n",
        "$$\n",
        "N=a_ka_{k-1}\\ldots a_1 a_0\n",
        "$$\n",
        "Sea $N$ un número natural, entonces existen $j+1$ cifras $b_0,b_1,\\ldots,b_j$\n",
        "tomadas del conjunto $\\{0,1\\}$ tales que $N$ admite el siguiente desarrollo:\n",
        "$$\n",
        "N=b_j \\cdot 2^{j}+b_{j-1}\\cdot 2^{j-1}+ \\ldots + b_0 \\cdot 2^0\n",
        "$$\n",
        "\n",
        "Por lo que en notación en base 2 (binaria) tenemos:\n",
        "$$\n",
        "N=b_j b_{j-1}\\ldots b_1 b_0\n",
        "$$\n",
        "con $b_i \\, \\in \\, \\{0,1\\}$\n"
      ]
    },
    {
      "cell_type": "markdown",
      "metadata": {
        "id": "EHhJ3LI5gVZV"
      },
      "source": [
        "## Algoritmo para encontrar la representación en base 2 de un número natural"
      ]
    },
    {
      "cell_type": "markdown",
      "metadata": {
        "id": "B12IsSx4gVZW"
      },
      "source": [
        "$$\n",
        "N = b_j \\cdot 2^{j}+b_{j-1}\\cdot 2^{j-1}+ \\ldots + b_0 \\cdot 2^0 \\\\\n",
        "\\Rightarrow \\frac{N}{2} =\\frac{b_j \\cdot 2^j}{2}+\\frac{b_{j-1} \\cdot 2^{j-1}}{2}+ \\cdots\\frac{b_1 \\cdot 2^1}{2}+\\frac{b_0 \\cdot 2^0}{2} \\\\\n",
        "=b_j \\cdot 2^{j-1}+b_{j-1}\\cdot 2^{j-2}+ \\ldots + b_1 \\cdot 2^0+\\frac{b_0}{2} \\\\\n",
        "\\frac{N}{2}=Q_0+\\frac{b_0}{2} \\\\\n",
        "\\frac{Q_0}{2} = b_j \\cdot 2^{j-2}+b_{j-1} \\cdot 2^{j-3}+ \\ldots +b_2+\\frac{b_1}{2}\n",
        "$$\n",
        "\n",
        "con $Q_0=b_j \\cdot 2^{j-1}+b_{j-1}\\cdot 2{j-2}+ \\ldots + b_1 \\cdot 2^0$. Continuando\n",
        "el proceso generamos sucesiones $\\{Q_k\\}$ y $\\{b_k\\}$ de cocientes y residuos. El proceso\n",
        "termina cuando encontramos un número natrual $j$ tal que $Q_j=0$. Es decir:\n",
        "$$\n",
        "N = 2Q_0+b_0   \\\\\n",
        "Q_0 = 2 Q_1 + b_1 \\\\\n",
        "Q_1 = 2Q_2 + b_2   \\\\\n",
        " \\vdots   \\\\\n",
        "Q_{j-2} = 2Q_{j-1}+b_{j-1}   \\\\\n",
        "Q_{j-1} = 2Q_j+b_j \\;\\;\\; (Q_j=0) \n",
        "$$\n"
      ]
    },
    {
      "cell_type": "markdown",
      "metadata": {
        "id": "9pgjYxhTgVZW"
      },
      "source": [
        "### Ejemplo: convertir a binario el número $N=2021$"
      ]
    },
    {
      "cell_type": "markdown",
      "metadata": {
        "id": "xD3kmNqkgVZX"
      },
      "source": [
        "$$\n",
        "2021 = 2*1010+1  \\; \\Leftarrow  \\; b_0  \\\\\n",
        "1010 = 2*505 + 0  \\; \\Leftarrow  \\; b_1 \\\\\n",
        "505 = 2*252 + 1   \\; \\Leftarrow  \\; b_2  \\\\\n",
        "252 = 2*126 +0   \\; \\Leftarrow  \\; b_3  \\\\\n",
        "126 = 2*63+0   \\; \\Leftarrow  \\; b_4  \\\\\n",
        "63 = 2*31+1 \\; \\Leftarrow  \\; b_5  \\\\\n",
        "31=2*15+1 \\; \\Leftarrow  \\; b_6  \\\\\n",
        "15=2*7+1 \\; \\Leftarrow  \\; b_7  \\\\\n",
        "7=2*3+1 \\; \\Leftarrow  \\; b_8  \\\\\n",
        "3=2*1+1 \\; \\Leftarrow  \\; b_9  \\\\\n",
        "1=2*0+1 \\; \\Leftarrow  \\; b_{10}  \\;\\;\\; (Q_{10}=0) \n",
        "$$\n",
        "\n",
        "Tenemos entonces que $N$ se puede escribir en base 2 como sigue:\n",
        "\n",
        "$$\n",
        "N=b_{10} b_{9}\\ldots b_1 b_0 =(11111100101)_2\n",
        "$$\n"
      ]
    },
    {
      "cell_type": "markdown",
      "metadata": {
        "id": "B3V_qgC2gVZY"
      },
      "source": [
        "### Codigo que implementa esta algoritmo"
      ]
    },
    {
      "cell_type": "markdown",
      "metadata": {
        "id": "pnejIHU0gVZY"
      },
      "source": [
        "**Parte Entera:** \n",
        "\n",
        "Repetir los siguientes dos pasos mientras el entero a dividir sea diferente de cero\n",
        "\n",
        "**Paso 1:** Dividir la parte entera entre 2 y guardar su residuo que será 0 o 1.\n",
        "\n",
        "**Paso 2:** Volver a dividir la parte entera (obtenida en el Paso 1) entre 2 y guardar su residuo que será 0 o \n",
        "\n",
        "**Paso 3:** Escribir la secuencia de residuos en orden invertido (el primero obtenido será el último en la representación binaria). Este resultado corresponde a la representación binaria de la parte entera del número en base 10."
      ]
    },
    {
      "cell_type": "code",
      "execution_count": null,
      "metadata": {
        "id": "IsgbXXmxgVZZ"
      },
      "outputs": [],
      "source": [
        "# Funcion que convierte la parte entera (en base 10) en binario  \n",
        "def intpartbinary(m):\n",
        "      \n",
        "    a = []\n",
        "    n = int(m) #Tomo la parte entera\n",
        "      \n",
        "    while n != 0:\n",
        "          \n",
        "        a.append(n % 2)\n",
        "        n = n//2  #Obtiene el cociente entero de dividir el operando de la izquierda por el de la derecha\n",
        "          \n",
        "    a.reverse()\n",
        "    return a\n",
        "  \n"
      ]
    },
    {
      "cell_type": "markdown",
      "metadata": {
        "id": "x5xS-aSwgVZb"
      },
      "source": [
        "## Fracciones binarias"
      ]
    },
    {
      "cell_type": "markdown",
      "metadata": {
        "id": "Q2NHUrurgVZc"
      },
      "source": [
        "Las fracciones binarias pueden expresarse como sumas en las que aparecen potencias negativas de 2.\n",
        "Si $R \\in \\mathbb{R}$ tal que $0 < R <1$ entonces existe una sucesión de cifras $d_1,d_2, \\ldots, d_n$\n",
        "todas ellas en $\\{0,1\\}$ tales que queremos:\n",
        "\n",
        "$$\n",
        "R = \\left(d_1 \\times 2^{-1}\\right)+\\left(d_2 \\times 2^{-2}\\right)+\\ldots + \\left(d_n \\times 2^{-n}\\right) \\\\\n",
        "  = 0.d_1 d_2 \\ldots d_n \n",
        "$$\n",
        "\n",
        "Algoritmo: Multiplicando por 2 ambos lados de la ecuación anterior obtenemos:\n",
        "\n",
        "$$\n",
        "2R = \\underbrace{d_1}_{\\mathrm{parte\\; entera\\; de \\; }2R}  \\\\\n",
        "+ \\underbrace{  \\left(d_2 \\times 2^{-1}\\right)+ \\ldots +\\left(d_n \\times 2^{-n+1}\\right) }_{\\mathrm{numero\\; positivo\\; menor\\; que \\; 1}} \\label{Rbinfrac}  \\\\\n",
        "d_1 = \\mathrm{ent}(2R) \\;\\mathrm{Para} \\; \\mathrm{continuar} \\; \\mathrm{tomamos} \\; \\mathrm{la} \\; \\mathrm{parte} \\; \\mathrm{fraccionaria}  \\\\\n",
        "F_1 = \\mathrm{frac}(2R) \\\\\n",
        "=  \\left(d_2 \\times 2^{-1}\\right)+\\left(d_3 \\times 2^{-2}\\right)+ \\ldots + d_n \\times 2^{-n+1}  \\\\\n",
        "2F_1 = d_2+ \\underbrace{d_3\\times 2^{-1}+d_3 \\times 2^{-2}+ \\ldots + d_n 2^{-n+2}}  \\\\\n",
        "d_2=\\mathrm{ent}(2F_1) \n",
        "$$\n",
        "\n",
        "Se genera de forma recurrente las dos sucesiones $\\{d_k\\}$ y $\\{F_k\\}$ \n",
        "$$\n",
        "d_k=\\mathrm{ent}(2F_{k-1}) \\;\\;\\;\\;\\; \\mathrm{donde} \\;\\;\\;\\;\\;\\; d_1=\\mathrm{ent}(2R)\n",
        "$$\n",
        "\n",
        "$$\n",
        "F_k=\\mathrm{frac}(2F_{k-1}) \\;\\;\\;\\;\\; \\mathrm{y} \\;\\;\\;\\;\\;\\; F_1=\\mathrm{frac}(2R)\n",
        "$$\n",
        "\n",
        "La representación binaria de $R$ esta dada entonces por la serie convergente:\n",
        "$$\n",
        "R=\\sum\\limits_{j=1}^{\\infty} d_j(2^{-j}) \\;\\;\\;\\;\\; \\mathrm{que}\\; \\mathrm{es}\\; \\mathrm{una} \\; \\mathrm{serie}\\; \\mathrm{geometrica}\\;\n",
        "$$\n"
      ]
    },
    {
      "cell_type": "markdown",
      "metadata": {
        "id": "J0LfNr5SgVZd"
      },
      "source": [
        "### Ejemplo: Sea $R=\\frac{7}{10}=0.7$ encontrar su representación binaria "
      ]
    },
    {
      "cell_type": "markdown",
      "metadata": {
        "id": "U2tRdq7RgVZe"
      },
      "source": [
        "$$\n",
        "2R = 1.4 \\;\\;\\; d_1=\\mathrm{ent}(1.4)=1 \\;\\;\\; F_1=\\mathrm{frac}(1.4)=0.4 \\\\\n",
        "2F_1 = 0.8 \\;\\;\\; d_2=\\mathrm{ent}(0.8)=0 \\;\\;\\; F_2=\\mathrm{frac}(0.8)=0.8  \\\\\n",
        "2F_2 = 1.6 \\;\\;\\; d_3=\\mathrm{ent}(1.6)=1 \\;\\;\\; F_3=\\mathrm{frac}(1.6)=0.6  \\\\\n",
        "2F_3 = 1.2 \\;\\;\\; d_4=\\mathrm{ent}(1.2)=1 \\;\\;\\; F_4=\\mathrm{frac}(1.2)=0.2  \\\\\n",
        "2F_4 = 0.4 \\;\\;\\; d_2=\\mathrm{ent}(0.4)=0 \\;\\;\\; F_5=\\mathrm{frac}(0.4)=0.4  \\\\\n",
        "2F_5 = 0.8 \\;\\;\\; d_2=\\mathrm{ent}(0.8)=0 \\;\\;\\; F_6=\\mathrm{frac}(0.8)=0.8  \\\\\n",
        "2F_6 = 1.6 \\;\\;\\; d_2=\\mathrm{ent}(1.6)=1 \\;\\;\\; F_7=\\mathrm{frac}(1.6)=0.6  \n",
        "$$\n",
        "\n",
        "de donde concluimos que:\n",
        "$$\n",
        "R=\\left(\\frac{7}{10}\\right)_{\\mathrm{base}\\; 10}=\\left(0.7\\right)_{\\mathrm{base}\\; 10}=\\left(0.1\\underbrace{0110}_{\\mathrm{se}\\;\\mathrm{repite}}\\right)_{\\mathrm{base}\\; 2}\n",
        "$$\n",
        "\n",
        "\n"
      ]
    },
    {
      "cell_type": "markdown",
      "metadata": {
        "id": "p6zR1BPrgVZe"
      },
      "source": [
        "### Otro ejemplo: Convertir $0.2$ de base 10 a base 2:"
      ]
    },
    {
      "cell_type": "markdown",
      "metadata": {
        "id": "Wy6layMtgVZf"
      },
      "source": [
        "$$\n",
        "2R = 0.4 \\;\\;\\; d_1=\\mathrm{ent}(0.4)=0 \\;\\;\\; F_1=\\mathrm{frac}(0.4)=0.4  \\\\\n",
        "2F_1 = 0.8 \\;\\;\\; d_2=\\mathrm{ent}(0.8)=0 \\;\\;\\; F_2=\\mathrm{frac}(0.8)=0.8  \\\\\n",
        "2F_2 = 1.6 \\;\\;\\; d_3=\\mathrm{ent}(1.6)=1 \\;\\;\\; F_3=\\mathrm{frac}(1.6)=0.6  \\\\\n",
        "2F_3 = 1.2 \\;\\;\\; d_4=\\mathrm{ent}(1.2)=1 \\;\\;\\; F_4=\\mathrm{frac}(1.2)=0.2  \\\\\n",
        "2F_4 = 0.4 \\;\\;\\; d_2=\\mathrm{ent}(0.4)=0 \\;\\;\\; F_5=\\mathrm{frac}(0.4)=0.4  \\\\\n",
        "$$"
      ]
    },
    {
      "cell_type": "markdown",
      "metadata": {
        "id": "TS45sE3ngVZf"
      },
      "source": [
        "### Codigo que implementa esta algoritmo"
      ]
    },
    {
      "cell_type": "markdown",
      "metadata": {
        "id": "oa1MFGfugVZg"
      },
      "source": [
        "**Parte Fraccionaria:**\n",
        "    \n",
        "**Paso 1:** Multiplicar la parte fraccionaria por 2 y escribir solamente el entero (parte entera) resultante.\n",
        "\n",
        "**Paso 2:** Restar la parte entera del número obtaenido en el Paso 1 (multiplicar la fracción por 2) and y otra vez multiplicar la parte fraccionaria por 2.\n",
        "Repetir estos pasos mientras la parte Fraccionaria no se haga cero. La sequencia obtenida es la representación binaria de la parte fraccionaria dada."
      ]
    },
    {
      "cell_type": "code",
      "execution_count": null,
      "metadata": {
        "id": "7Bn-WXe3gVZg"
      },
      "outputs": [],
      "source": [
        "# Funcion que convierte la parte fraccionaria (en base 10) a binario\n",
        "def decimalpartbinary(m):\n",
        "      \n",
        "    a = []\n",
        "    n = m-int(m) #Tomo la parte fraccionaria quitando la parte entera\n",
        "      \n",
        "    while n != 0:\n",
        "          \n",
        "        x = 2 * n\n",
        "        y = int(x)\n",
        "        a.append(y)\n",
        "        n = x-y\n",
        "          \n",
        "    return a\n"
      ]
    },
    {
      "cell_type": "markdown",
      "metadata": {
        "id": "YcH8ZjLYgVZh"
      },
      "source": [
        "Combinando las conversiones de la parte entera y fraccionaria. Primero se escribe la secuencia invertida (de la parte entera) y se escribe un punto \".\" despues se escribe la parte fraccionaria que se obtuvo multiplicando por 2 esta parte y guardando la parte entera. Se define una lista vacia c=[], primero para almacenar la lista invertida de residuos obtenidos dividiendo la parte entera por 2. Despues almacenar la lista de enteros obtenidos multiplicando por 2 la parte fraccionaria. Imprimir la lista c que será la representacion binaria del número en base 10 dado. "
      ]
    },
    {
      "cell_type": "code",
      "execution_count": null,
      "metadata": {
        "id": "eQlp7GXbgVZi"
      },
      "outputs": [],
      "source": [
        "# Escribir los datos en forma adecuada, separando la parte entera de la fraccionaria y convirtiendolas a binarios\n",
        "def binarycode(m):\n",
        "      \n",
        "    \n",
        "    a = intpartbinary(m) #Parte entera convertida a binario\n",
        "    b = decimalpartbinary(m) #Parte fraccionaria convertida a binario\n",
        "    c =[]\n",
        "      \n",
        "    for i in range(0, len(a)):\n",
        "        c.append(a[i])\n",
        "          \n",
        "    c.append('.')\n",
        "      \n",
        "    for j in range(0, len(b)):\n",
        "        c.append(b[j])\n",
        "          \n",
        "    print('El numero en base 10 convertido a binario es:\\n')\n",
        "      \n",
        "    for k in range(0, len(c)):\n",
        "        print(c[k], end =' ')\n",
        "          \n",
        "  \n"
      ]
    },
    {
      "cell_type": "code",
      "execution_count": null,
      "metadata": {
        "id": "jnC6YdB_gVZi",
        "outputId": "b77728bf-8065-448c-a165-d44aac5d8626"
      },
      "outputs": [
        {
          "name": "stdout",
          "output_type": "stream",
          "text": [
            "El numero en base 10 convertido a binario es:\n",
            "\n",
            "1 1 0 0 1 0 1 1 0 0 . 0 0 1 0 0 1 1 0 0 1 1 0 0 1 1 0 0 1 1 0 0 1 1 0 0 1 1 0 0 1 1 0 0 1 1 0 0 1 1 0 0 1 1 "
          ]
        }
      ],
      "source": [
        "# Correr el programa con un numero real en base 10 para obtener su representacion binaria\n",
        "binarycode(812.15)"
      ]
    },
    {
      "cell_type": "markdown",
      "metadata": {
        "id": "JUAsInTJgVZj"
      },
      "source": [
        "#### Algunos trucos con Python para obtener este resultado"
      ]
    },
    {
      "cell_type": "code",
      "execution_count": null,
      "metadata": {
        "id": "_TD-TGC_gVZj",
        "outputId": "e75df87e-eacb-4a40-f7f5-6510d8c4c670"
      },
      "outputs": [
        {
          "data": {
            "text/plain": [
              "255"
            ]
          },
          "execution_count": 26,
          "metadata": {},
          "output_type": "execute_result"
        }
      ],
      "source": [
        "binary_string = '11111111' \n",
        "int(binary_string,2) "
      ]
    },
    {
      "cell_type": "code",
      "execution_count": null,
      "metadata": {
        "id": "gp_YjuDIgVZk",
        "outputId": "61ff1b6f-1909-4287-e250-046c55dd6b0e"
      },
      "outputs": [
        {
          "data": {
            "text/plain": [
              "'11111111'"
            ]
          },
          "execution_count": 27,
          "metadata": {},
          "output_type": "execute_result"
        }
      ],
      "source": [
        "decimal_number = 255 \n",
        "\"{:b}\".format(decimal_number) "
      ]
    },
    {
      "cell_type": "markdown",
      "metadata": {
        "id": "ZKrfSpNLgVZk"
      },
      "source": [
        "Este código esta tomado/adaptado del original en:\n",
        "<https://www.geeksforgeeks.org/python-program-to-convert-any-positive-real-number-to-binary-string/>"
      ]
    },
    {
      "cell_type": "markdown",
      "metadata": {
        "id": "pnbrwCqFgVZl"
      },
      "source": [
        "## Números de punto flotante representados en la computadora como fracciones binarias"
      ]
    },
    {
      "cell_type": "markdown",
      "metadata": {
        "id": "v3znyLT-gVZl"
      },
      "source": [
        "Ejempo: La fracción en base 10:\n",
        "$$\n",
        "0.25=\\frac{1}{10}+\\frac{2}{100}+\\frac{5}{1000}\n",
        "$$\n",
        "Por otro lado la fracción binaria\n",
        "$$\n",
        "0.001=\\frac{0}{2}+\\frac{0}{4}+\\frac{1}{8}\n",
        "$$\n",
        "Estas dos fracciones son idénticas, solo que la primera esta en base 10\n",
        "y la seguna esta en base 2. Desafortunadamente la mayoría de las fracciones en base 10 no \n",
        "se pueden representar de forma exacta en base 2."
      ]
    },
    {
      "cell_type": "markdown",
      "metadata": {
        "id": "MNInwJMYgVZl"
      },
      "source": [
        "## N\\'umeros en base 10 que no se pueden representar exactamente en binario"
      ]
    },
    {
      "cell_type": "markdown",
      "metadata": {
        "id": "Um3yPt2igVZm"
      },
      "source": [
        "La fracción $\\frac{1}{3}$ se puede aproximar en base 10, como $0.3$, ó como $0.33$ o mejor aún $0.333$, \n",
        "esto continua y sin importar cuantos dígitos agreguemos, el resultado no será nunca exacto, pues esta \n",
        "fracción tiene una expansión decimal periódica e infinita. Lo mismo pasa con las fracciones binarias. \n",
        "\n",
        "Representación en base 2 de la fracción en base 10: $\\frac{1}{10}$\n",
        "En base 2, la fracción $\\frac{1}{10}$ tiene una representación periódica, infinita:\n",
        "$$\n",
        "\\frac{1}{10}=0.0001100110011001100110011001100110011001100110011...\n",
        "$$\n"
      ]
    }
  ],
  "metadata": {
    "kernelspec": {
      "display_name": "Python 3",
      "language": "python",
      "name": "python3"
    },
    "language_info": {
      "codemirror_mode": {
        "name": "ipython",
        "version": 3
      },
      "file_extension": ".py",
      "mimetype": "text/x-python",
      "name": "python",
      "nbconvert_exporter": "python",
      "pygments_lexer": "ipython3",
      "version": "3.8.5"
    },
    "colab": {
      "name": "DecToBinaryToDec.ipynb",
      "provenance": [],
      "toc_visible": true,
      "include_colab_link": true
    }
  },
  "nbformat": 4,
  "nbformat_minor": 0
}