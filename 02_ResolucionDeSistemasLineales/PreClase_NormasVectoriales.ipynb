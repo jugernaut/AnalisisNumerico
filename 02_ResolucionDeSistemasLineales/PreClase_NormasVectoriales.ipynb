{
  "cells": [
    {
      "cell_type": "markdown",
      "metadata": {
        "id": "view-in-github",
        "colab_type": "text"
      },
      "source": [
        "<a href=\"https://colab.research.google.com/github/jugernaut/AnalisisNumerico/blob/desarrollo/02_ResolucionDeSistemasLineales/PreClase_NormasVectoriales.ipynb\" target=\"_parent\"><img src=\"https://colab.research.google.com/assets/colab-badge.svg\" alt=\"Open In Colab\"/></a>"
      ]
    },
    {
      "cell_type": "markdown",
      "id": "fd2a4f2e",
      "metadata": {
        "deletable": false,
        "editable": false,
        "nbgrader": {
          "cell_type": "markdown",
          "checksum": "587372320683936e86482008833e33fe",
          "grade": false,
          "grade_id": "cell-6d34478931632506",
          "locked": true,
          "schema_version": 3,
          "solution": false,
          "task": false
        },
        "id": "fd2a4f2e"
      },
      "source": [
        "# Normas vectoriales y matriciales\n",
        "\n",
        "## Notebook pre-clase\n",
        "\n",
        "---"
      ]
    },
    {
      "cell_type": "markdown",
      "id": "72cfd0c5",
      "metadata": {
        "deletable": false,
        "editable": false,
        "nbgrader": {
          "cell_type": "markdown",
          "checksum": "2c328f36af649842981cf9d0c179047c",
          "grade": false,
          "grade_id": "cell-543204b92169542a",
          "locked": true,
          "schema_version": 3,
          "solution": false,
          "task": false
        },
        "id": "72cfd0c5"
      },
      "source": [
        "## Introducción\n",
        "\n",
        "En todo espacio vectorial es de suma importancia definir una metrica, es decir, una forma de conocer la distancia entre los diferentes elementos dentro de este espacio vectorial o la distancia de cada uno de estos al origen.\n",
        "\n",
        "El concepto de distancia es de gran importancia para el estudio de los espacios vectoriales. \n",
        "\n",
        "Un ejemplo es el calculo de la distancia entre un vector $\\vec{x}$ y un vector $\\vec{y}$ en donde estos vectores pueden representar la fuerza de coriolis que genera la tierra y la aceleracion de una bala de 35mm. Esto puede escalar si agregamos que estamos sobre una superficie no plana.\n",
        "\n",
        "Es por este motivo que es necesario definir una forma de medicion entre distancias en cualquier espacio vectorial. A este concepto se le conoce como **norma**."
      ]
    },
    {
      "cell_type": "markdown",
      "id": "9c4e4ea0",
      "metadata": {
        "deletable": false,
        "editable": false,
        "nbgrader": {
          "cell_type": "markdown",
          "checksum": "4b031d06572421a58103d730ebd22a7e",
          "grade": false,
          "grade_id": "cell-cc2237aa0b063347",
          "locked": true,
          "schema_version": 3,
          "solution": false,
          "task": false
        },
        "id": "9c4e4ea0"
      },
      "source": [
        "## Normas Vectoriales\n",
        "\n",
        "Sea $V$ un espacio vectorial sobre $k$. Una función $\\left\\Vert \\cdot\\right\\Vert$ de vectores, se denomina norma vectorial a $\\left\\Vert \\cdot\\right\\Vert$ si, para cualesquiera vectores $\\vec{x},\\vec{y},$ se satisfacen las siguientes propiedades.\n",
        "\n",
        "1. $\\left\\Vert \\vec{x}\\right\\Vert \\geq0.$\n",
        "2. $\\left\\Vert \\vec{x}\\right\\Vert =0\\,\\Longleftrightarrow\\vec{x}=\\vec{0}.$\n",
        "3. $\\left\\Vert \\alpha\\vec{x}\\right\\Vert =\\left|\\alpha\\right|\\left\\Vert \\vec{x}\\right\\Vert$, donde $a$ es una constante.\n",
        "4. $\\left\\Vert \\vec{x}+\\vec{y}\\right\\Vert \\leq\\left\\Vert \\vec{x}\\right\\Vert +\\left\\Vert \\vec{y}\\right\\Vert.$"
      ]
    },
    {
      "cell_type": "markdown",
      "id": "6b8ed4be",
      "metadata": {
        "deletable": false,
        "editable": false,
        "nbgrader": {
          "cell_type": "markdown",
          "checksum": "6ec7439a6d7d50b1ba16fe5c53ff9059",
          "grade": false,
          "grade_id": "cell-2f036e9619a9317d",
          "locked": true,
          "schema_version": 3,
          "solution": false,
          "task": false
        },
        "id": "6b8ed4be"
      },
      "source": [
        "### Tipos de normas (Hölder)\n",
        "\n",
        "Sea $p\\geq1$, las normas de *Hölder*, o *normas-p* están definidas por\n",
        "\n",
        "$$\n",
        "\\left\\Vert\\vec{x}\\right\\Vert_{p}=\\left[\\sum_{i=1}^{n}\\left|x_{i}\\right|^{p}\\right]^{1/p}\n",
        "\\qquad \\text{para}\\,1\\leq p<\\infty\n",
        "$$\n",
        "\n",
        "De ellas, las mas importantes son:\n",
        "\n",
        "* La $\\text{Norma}-1$\n",
        "\n",
        "$$\n",
        "\\left\\Vert \\vec{x}\\right\\Vert _{1}=\\sum_{i=1}^{n}\\left|x_{i}\\right|\n",
        "$$\n",
        "\n",
        "* La $\\text{Norma}-2$ (norma euclidiana = espacio plano)\n",
        "\n",
        "$$\n",
        "\\left\\Vert\\vec{x}\\right\\Vert_{2}=\\left[\\sum_{i=1}^{n}\\left|x_{i}\\right|^{2}\\right]^{1/2}\n",
        "$$\n",
        "\n",
        "* y la $\\text{Norma}-\\infty$ (norma del supremo)\n",
        "\n",
        "$$\n",
        "\\lim_{p \\rightarrow \\infty} \\left\\Vert \\vec{x}\\right\\Vert _{p} = \\left\\Vert \\vec{x}\\right\\Vert _{\\infty}= \\max_{1 \\leq i \\leq n} \\left| x_i \\right|\n",
        "$$\n",
        "\n",
        "Observacion: En la norma euclidiana podemos observar como es el calculo que normalmente utilizamos para calcular la distancia entre dos puntos en un espacio plano."
      ]
    },
    {
      "cell_type": "markdown",
      "id": "922a2ede",
      "metadata": {
        "deletable": false,
        "editable": false,
        "nbgrader": {
          "cell_type": "markdown",
          "checksum": "7bd2b9e8dcbc6cf4274ea73f4be2ed14",
          "grade": false,
          "grade_id": "cell-0ad659c90155467c",
          "locked": true,
          "schema_version": 3,
          "solution": false,
          "task": false
        },
        "id": "922a2ede"
      },
      "source": [
        "### Ejemplo\n",
        "\n",
        "Sea $\\vec{x} \\in\\mathbb{R}^{2}$, $\\vec{x}=(2,5)$, calcule las normas de Hölder.\n",
        "\n",
        "* Norma-1\n",
        "\n",
        "$$\\left\\Vert \\vec{x}\\right\\Vert _{1}=\\sum_{i=1}^{2}\\left|x_{i}\\right|=\\left|x_{1}\\right|+\\left|x_{2}\\right|=2+5=7$$\n",
        "\n",
        "* Norma-2 (norma euclidiana)\n",
        "\n",
        "$$\\left\\Vert \\vec{x}\\right\\Vert _{2}=\\left[\\sum_{i=1}^{2}\\left|x_{i}\\right|^{2}\\right]^{1/2}=\\sqrt{\\left|x_{1}\\right|^{2}+\\left|x_{2}\\right|^{2}}=\\sqrt{\\left|2\\right|^{2}+\\left|5\\right|^{2}}=\\sqrt{4+25}=\\sqrt{29}$$\n",
        "\n",
        "* Norma-$\\infty$ (norma del supremo)\n",
        "\n",
        "$$\\left\\Vert \\vec{x}\\right\\Vert _{\\infty} = \\max_{1\\leq i\\leq 2}\\left|x_{i}\\right|= \\max\\{|2|,|5|\\} = \\max\\{2,5\\}=5$$"
      ]
    },
    {
      "cell_type": "markdown",
      "id": "8a92f61c",
      "metadata": {
        "deletable": false,
        "editable": false,
        "nbgrader": {
          "cell_type": "markdown",
          "checksum": "b13fbdf411d7f25e3fa4631f727f73f7",
          "grade": false,
          "grade_id": "cell-0f8be69356f86bd0",
          "locked": true,
          "schema_version": 3,
          "solution": false,
          "task": false
        },
        "id": "8a92f61c"
      },
      "source": [
        "### Ejercicio 1\n",
        "\n",
        "Usando las definiciones para los tipos de normas y basádose en el ejemplo anterior, escribe la función ```norma1``` que calcule dicha norma para vectores.\n",
        "\n",
        "**NOTA**: Resolver el ejercicio sin usar el módulo ```numpy```"
      ]
    },
    {
      "cell_type": "code",
      "execution_count": null,
      "id": "b8e81fd2",
      "metadata": {
        "deletable": false,
        "nbgrader": {
          "cell_type": "code",
          "checksum": "bcdf0d97e209f22c9ed5904bbac6d517",
          "grade": false,
          "grade_id": "cell-05da1ca36f6875bc",
          "locked": false,
          "schema_version": 3,
          "solution": true,
          "task": false
        },
        "id": "b8e81fd2"
      },
      "outputs": [],
      "source": [
        "def norma1(vector):\n",
        "    \n",
        "    # YOUR CODE HERE\n",
        "    raise NotImplementedError()\n",
        "    \n",
        "    return norma"
      ]
    },
    {
      "cell_type": "code",
      "execution_count": null,
      "id": "2fd57071",
      "metadata": {
        "deletable": false,
        "editable": false,
        "nbgrader": {
          "cell_type": "code",
          "checksum": "667dd30c92c7181eada697ca66078f15",
          "grade": true,
          "grade_id": "cell-2b8dc53b0dabc206",
          "locked": true,
          "points": 10,
          "schema_version": 3,
          "solution": false,
          "task": false
        },
        "id": "2fd57071"
      },
      "outputs": [],
      "source": [
        "\"\"\"Prueba 1: Función para la norma-1\"\"\"\n",
        "from nose.tools import assert_equal\n",
        "from numpy.linalg import norm\n",
        "\n",
        "assert_equal(norma1([2, 4]), norm([2, 4], 1), \"Error: Revisa tu función\")\n",
        "print(\"Norma-1 del vector\", [2, 4], \":\", norma1([2, 4]))\n",
        "assert_equal(norma1([3, 0, 12, 4]), norm([3, 0, 12, 4], 1), \"Error: Revisa tu función\")\n",
        "print(\"Norma-1 del vector\", [3, 0, 12, 4], \":\", norma1([3, 0, 12, 4]))"
      ]
    },
    {
      "cell_type": "code",
      "execution_count": null,
      "id": "b00b0c41",
      "metadata": {
        "deletable": false,
        "editable": false,
        "nbgrader": {
          "cell_type": "code",
          "checksum": "6ba490c6984793211cc3d6c2ee54a64e",
          "grade": true,
          "grade_id": "cell-8441580043fb74d6",
          "locked": true,
          "points": 10,
          "schema_version": 3,
          "solution": false,
          "task": false
        },
        "id": "b00b0c41"
      },
      "outputs": [],
      "source": [
        "\"\"\"Prueba 2: Función para la norma-1\"\"\"\n",
        "from nose.tools import assert_equal\n",
        "from numpy.linalg import norm\n",
        "\n",
        "assert_equal(norma1([-2, 0, 2, -4]), norm([-2, 0, 2, -4], 1), \"Error: Revisa tu función\")\n",
        "print(\"Norma-1 del vector\", [-2, 0, 2, -4], \":\", norma1([-2, 0, 2, -4]))\n",
        "assert_equal(norma1([-2.43, 23.67, 34.5, -50, 12, 32.4, -5]), norm([-2.43, 23.67, 34.5, -50, 12, 32.4, -5], 1), \"Error: Revisa tu función\")\n",
        "print(\"Norma-1 del vector\", [-2.43, 23.67, 34.5, -50, 12, 32.4, -5], \":\", norma1([-2.43, 23.67, 34.5, -50, 12, 32.4, -5]))"
      ]
    },
    {
      "cell_type": "markdown",
      "id": "f5e89c4d",
      "metadata": {
        "deletable": false,
        "editable": false,
        "nbgrader": {
          "cell_type": "markdown",
          "checksum": "266040f6ea568d05ecf768b066dfb041",
          "grade": false,
          "grade_id": "cell-688c5ebbf1203767",
          "locked": true,
          "schema_version": 3,
          "solution": false,
          "task": false
        },
        "id": "f5e89c4d"
      },
      "source": [
        "### Ejercicio 2\n",
        "\n",
        "Siguiendo el ejercicio 1, escribe ahora la función ```norma2``` que calcule la norma-2 para vectores.\n",
        "\n",
        "**NOTA**: Resolver el ejercicio sin usar el módulo numpy"
      ]
    },
    {
      "cell_type": "code",
      "execution_count": null,
      "id": "23a62aa2",
      "metadata": {
        "deletable": false,
        "nbgrader": {
          "cell_type": "code",
          "checksum": "0a8cdf906c6eddbaa6e496ba3d6f79ee",
          "grade": false,
          "grade_id": "cell-785ddb55557b8e5d",
          "locked": false,
          "schema_version": 3,
          "solution": true,
          "task": false
        },
        "id": "23a62aa2"
      },
      "outputs": [],
      "source": [
        "def norma2(vector):\n",
        "    \n",
        "    # YOUR CODE HERE\n",
        "    raise NotImplementedError()\n",
        "    \n",
        "    return norma"
      ]
    },
    {
      "cell_type": "code",
      "execution_count": null,
      "id": "653b41ad",
      "metadata": {
        "deletable": false,
        "editable": false,
        "nbgrader": {
          "cell_type": "code",
          "checksum": "f8d32725741b4652f1cbf60909387e71",
          "grade": true,
          "grade_id": "cell-9fcab781df214f4a",
          "locked": true,
          "points": 10,
          "schema_version": 3,
          "solution": false,
          "task": false
        },
        "id": "653b41ad"
      },
      "outputs": [],
      "source": [
        "\"\"\"Prueba 3: Función para la norma-2\"\"\"\n",
        "from nose.tools import assert_equal\n",
        "from numpy.linalg import norm\n",
        "\n",
        "assert_equal(norma2([2, 4]), norm([2, 4]), \"Error: Revisa tu función\")\n",
        "print(\"Norma-2 del vector\", [2, 4], \":\", norma2([2, 4]))\n",
        "assert_equal(norma2([3, 0, 12, 4]), norm([3, 0, 12, 4]), \"Error: Revisa tu función\")\n",
        "print(\"Norma-2 del vector\", [3, 0, 12, 4], \":\", norma2([3, 0, 12, 4]))"
      ]
    },
    {
      "cell_type": "code",
      "execution_count": null,
      "id": "86072d0d",
      "metadata": {
        "deletable": false,
        "editable": false,
        "nbgrader": {
          "cell_type": "code",
          "checksum": "246f5e942f18501ee99d6ee32c01dfcb",
          "grade": true,
          "grade_id": "cell-fe8cab83615339b6",
          "locked": true,
          "points": 10,
          "schema_version": 3,
          "solution": false,
          "task": false
        },
        "id": "86072d0d"
      },
      "outputs": [],
      "source": [
        "\"\"\"Prueba 4: Función para la norma-2\"\"\"\n",
        "from nose.tools import assert_equal\n",
        "from numpy.linalg import norm\n",
        "\n",
        "assert_equal(norma2([-2, 0, 2, -4]), norm([-2, 0, 2, -4]), \"Error: Revisa tu función\")\n",
        "print(\"Norma-2 del vector\", [-2, 0, 2, -4], \":\", norma2([-2, 0, 2, -4]))\n",
        "assert_equal(norma2([-2.43, 23.67, 34.5, -50, 12, 32.4, -5]), norm([-2.43, 23.67, 34.5, -50, 12, 32.4, -5]), \"Error: Revisa tu función\")\n",
        "print(\"Norma-2 del vector\", [-2.43, 23.67, 34.5, -50, 12, 32.4, -5], \":\", norma2([-2.43, 23.67, 34.5, -50, 12, 32.4, -5]))"
      ]
    },
    {
      "cell_type": "markdown",
      "id": "ab04412b",
      "metadata": {
        "deletable": false,
        "editable": false,
        "nbgrader": {
          "cell_type": "markdown",
          "checksum": "d4535717d4e4e1d6a8c413db0b44ccd4",
          "grade": false,
          "grade_id": "cell-d9d563f69f36bb1e",
          "locked": true,
          "schema_version": 3,
          "solution": false,
          "task": false
        },
        "id": "ab04412b"
      },
      "source": [
        "### Ejercicio 3\n",
        "\n",
        "Siguiendo las definiciones dada para las normas y los ejercicios realizados con anterioridad, escribe la función ```norma_inf``` que calcule la norma del supremo para vectores.\n",
        "\n",
        "**NOTA**: Resolver el ejercicio sin hacer uso del módulo ```numpy```"
      ]
    },
    {
      "cell_type": "code",
      "execution_count": null,
      "id": "1b430491",
      "metadata": {
        "deletable": false,
        "nbgrader": {
          "cell_type": "code",
          "checksum": "f1c39aad2c62b4b3d99ac5b94906598f",
          "grade": false,
          "grade_id": "cell-bf7ace22816786fe",
          "locked": false,
          "schema_version": 3,
          "solution": true,
          "task": false
        },
        "id": "1b430491"
      },
      "outputs": [],
      "source": [
        "def norma_inf(vector):\n",
        "    \n",
        "    # YOUR CODE HERE\n",
        "    raise NotImplementedError()\n",
        "    \n",
        "    return norma"
      ]
    },
    {
      "cell_type": "code",
      "execution_count": null,
      "id": "a2a9bd5a",
      "metadata": {
        "deletable": false,
        "editable": false,
        "nbgrader": {
          "cell_type": "code",
          "checksum": "081d6eb6d54f9c68ed134a5dd0392bf3",
          "grade": true,
          "grade_id": "cell-b722b0277b30169c",
          "locked": true,
          "points": 10,
          "schema_version": 3,
          "solution": false,
          "task": false
        },
        "id": "a2a9bd5a"
      },
      "outputs": [],
      "source": [
        "\"\"\"Prueba 5: Función para la norma-inf\"\"\"\n",
        "from nose.tools import assert_equal\n",
        "from numpy.linalg import norm\n",
        "from numpy import inf\n",
        "\n",
        "assert_equal(norma_inf([2, 4]), norm([2, 4], inf), \"Error: Revisa tu función\")\n",
        "print(\"Norma-Inf del vector\", [2, 4], \":\", norma_inf([2, 4]))\n",
        "assert_equal(norma_inf([3, 0, 12, 4]), norm([3, 0, 12, 4], inf), \"Error: Revisa tu función\")\n",
        "print(\"Norma-Inf del vector\", [3, 0, 12, 4], \":\", norma_inf([3, 0, 12, 4]))"
      ]
    },
    {
      "cell_type": "code",
      "execution_count": null,
      "id": "513bdfc4",
      "metadata": {
        "deletable": false,
        "editable": false,
        "nbgrader": {
          "cell_type": "code",
          "checksum": "3ce35bafa639b11df50390c205e94976",
          "grade": true,
          "grade_id": "cell-b96fa0abb68ba6c6",
          "locked": true,
          "points": 10,
          "schema_version": 3,
          "solution": false,
          "task": false
        },
        "id": "513bdfc4"
      },
      "outputs": [],
      "source": [
        "\"\"\"Prueba 6: Función para la norma-inf\"\"\"\n",
        "from nose.tools import assert_equal\n",
        "from numpy.linalg import norm\n",
        "from numpy import inf\n",
        "\n",
        "assert_equal(norma_inf([-2, 0, 2, -4]), norm([-2, 0, 2, -4], inf), \"Error: Revisa tu función\")\n",
        "print(\"Norma-Inf del vector\", [-2, 0, 2, -4], \":\", norma_inf([-2, 0, 2, -4]))\n",
        "assert_equal(norma_inf([-2.43, 23.67, 34.5, -50, 12, 32.4, -5]), norm([-2.43, 23.67, 34.5, -50, 12, 32.4, -5], inf), \"Error: Revisa tu función\")\n",
        "print(\"Norma-Inf del vector\", [-2.43, 23.67, 34.5, -50, 12, 32.4, -5], \":\", norma_inf([-2.43, 23.67, 34.5, -50, 12, 32.4, -5]))"
      ]
    },
    {
      "cell_type": "markdown",
      "id": "8de7a253",
      "metadata": {
        "deletable": false,
        "editable": false,
        "nbgrader": {
          "cell_type": "markdown",
          "checksum": "f833fdfd9f562b5969f8cf477041b674",
          "grade": false,
          "grade_id": "cell-f55a65957bd15381",
          "locked": true,
          "schema_version": 3,
          "solution": false,
          "task": false
        },
        "id": "8de7a253"
      },
      "source": [
        "### Ejercicio 4\n",
        "\n",
        "Como ejercicio final, y siguiendo la definición general para la norma de Hölder, escribe la función ```norma_p```.\n",
        "\n",
        "**NOTA**: Resolver sin utilizar el módulo ```numpy```"
      ]
    },
    {
      "cell_type": "code",
      "execution_count": null,
      "id": "1ad91a63",
      "metadata": {
        "deletable": false,
        "nbgrader": {
          "cell_type": "code",
          "checksum": "509ec7847d90443f258c66823387c391",
          "grade": false,
          "grade_id": "cell-a6a95a62f52a9c20",
          "locked": false,
          "schema_version": 3,
          "solution": true,
          "task": false
        },
        "id": "1ad91a63"
      },
      "outputs": [],
      "source": [
        "def norma_p(vector, p):\n",
        "    \n",
        "    # YOUR CODE HERE\n",
        "    raise NotImplementedError()\n",
        "    \n",
        "    return norma"
      ]
    },
    {
      "cell_type": "code",
      "execution_count": null,
      "id": "9cf24c64",
      "metadata": {
        "deletable": false,
        "editable": false,
        "nbgrader": {
          "cell_type": "code",
          "checksum": "57a6e7ed67024d565e753cf1bf434d11",
          "grade": true,
          "grade_id": "cell-09b3fa682a2a04f1",
          "locked": true,
          "points": 10,
          "schema_version": 3,
          "solution": false,
          "task": false
        },
        "id": "9cf24c64"
      },
      "outputs": [],
      "source": [
        "\"\"\"Prueba 7: Función para la norma-p\"\"\"\n",
        "from nose.tools import assert_equal\n",
        "from numpy.linalg import norm\n",
        "\n",
        "assert_equal(norma_p([2, 4], 4), norm([2, 4], 4), \"Error: Revisa tu función\")\n",
        "print(\"Norma-p del vector\", [2, 4], \":\", norma_p([2, 4], 4))\n",
        "assert_equal(norma_p([3, 0, 12, 4], 8), norm([3, 12, 4], 8), \"Error: Revisa tu función\")\n",
        "print(\"Norma-p del vector\", [3, 12, 4], \":\", norma_p([3, 12, 4], 8))"
      ]
    },
    {
      "cell_type": "code",
      "execution_count": null,
      "id": "d6de22f6",
      "metadata": {
        "deletable": false,
        "editable": false,
        "nbgrader": {
          "cell_type": "code",
          "checksum": "5f7ae5d5f51b663698746d23d067d1f2",
          "grade": true,
          "grade_id": "cell-7114d5cde20c969f",
          "locked": true,
          "points": 10,
          "schema_version": 3,
          "solution": false,
          "task": false
        },
        "id": "d6de22f6"
      },
      "outputs": [],
      "source": [
        "\"\"\"Prueba 8: Función para la norma-p\"\"\"\n",
        "from nose.tools import assert_equal\n",
        "from numpy.linalg import norm\n",
        "\n",
        "assert_equal(norma_p([-2, 0, 2, -4], 3), norm([-2, 0, 2, -4], 3), \"Error: Revisa tu función\")\n",
        "print(\"Norma-p del vector\", [-2, 0, 2, -4], \":\", norma_p([-2, 0, 2, -4], 3))\n",
        "assert_equal(norma_p([-2.43, 23.67, 34.5, -50, 12, 32.4, -5], 13), norm([-2.43, 23.67, 34.5, -50, 12, 32.4, -5], 13), \"Error: Revisa tu función\")\n",
        "print(\"Norma-p del vector\", [-2.43, 23.67, 34.5, -50, 12, 32.4, -5], \":\", norma_p([-2.43, 23.67, 34.5, -50, 12, 32.4, -5], 13))"
      ]
    },
    {
      "cell_type": "markdown",
      "id": "58982508",
      "metadata": {
        "deletable": false,
        "editable": false,
        "nbgrader": {
          "cell_type": "markdown",
          "checksum": "f4ab1826ade08ac6ec915eb7e0972033",
          "grade": false,
          "grade_id": "cell-77f8fdd65b66c269",
          "locked": true,
          "schema_version": 3,
          "solution": false,
          "task": false
        },
        "id": "58982508"
      },
      "source": [
        "### Bola (Esfera) Unitaria\n",
        "\n",
        "Es importante notar, cómo es que la elección de la norma, modifica la forma en la que se percibe el espacio (ó subespacio) vectorial en cuestión.\n",
        "\n",
        "Para cada norma, se dibuja a manera de ilustración la bola de unidad definida como.\n",
        "\n",
        "$$\\bar{B}\\left(0,1\\right):=\\left\\{ \\vec{x}\\in\\mathbb{R}^{2}\\mid\\left\\Vert \\vec{x}\\right\\Vert _{p}\\leq1\\right\\}$$\n",
        "\n",
        "<center> <img src=\"https://github.com/jugernaut/Numerico2021/blob/desarrollo/Figuras/Normas/p1.png?raw=1\" width=\"150\"> <img src=\"https://github.com/jugernaut/Numerico2021/blob/desarrollo/Figuras/Normas/p2.png?raw=1\" width=\"150\">  <img src=\"https://github.com/jugernaut/Numerico2021/blob/desarrollo/Figuras/Normas/pinf.png?raw=1\" width=\"150\"> <img src=\"https://github.com/jugernaut/Numerico2021/blob/desarrollo/Figuras/Normas/pmedios.png?raw=1\" width=\"150\"> </center>\n",
        "\n",
        "Lo que muestra la bola unitaria en realidad son todos los $\\vec{x}\\in R^{2}$\n",
        "cuya distancia al origen es menor ó igual que 1, es decir que podemos\n",
        "pensar en la bola unitaria de la siguiente manera.\n",
        "$$\\bar{B}\\left(0,1\\right)=\\left\\{ \\vec{x}\\in\\mathbb{R}^{2}\\mid d_{p}\\left(\\vec{x}-\\vec{0}\\right)\\leq1\\right\\} $$"
      ]
    },
    {
      "cell_type": "markdown",
      "id": "9e7ee9f7",
      "metadata": {
        "deletable": false,
        "editable": false,
        "nbgrader": {
          "cell_type": "markdown",
          "checksum": "d81689328f81bf2c58646abc514ff38c",
          "grade": false,
          "grade_id": "cell-d56100e5dc4355fb",
          "locked": true,
          "schema_version": 3,
          "solution": false,
          "task": false
        },
        "id": "9e7ee9f7"
      },
      "source": [
        "## Equivalencia de normas\n",
        "\n",
        "Las normas son herramientas básicas para definir y analizar la\n",
        "convergencia de una sucesión de vectores en espacios vectoriales. La\n",
        "convergencia depende de las definición de norma que se usa. Podría\n",
        "suceder que una sucesión de vectores convergiera para una norma, pero no\n",
        "para otra. Pero en un espacio vectorial de dimensión finita todas las\n",
        "normas son equivalentes en el siguiente sentido:\n",
        "\n",
        "Dos normas $\\left\\Vert\\cdot\\right\\Vert, \\left\\Vert\\cdot\\right\\Vert'$ son equivalentes si existen $m$ y $M$ constantes reales positivas tales que para cualquier $x$ tenemos\n",
        "\n",
        "$$\n",
        "m||x||  \\leq  ||x||^{'} \\leq M ||x||\n",
        "$$"
      ]
    },
    {
      "cell_type": "markdown",
      "id": "7675153c",
      "metadata": {
        "deletable": false,
        "editable": false,
        "nbgrader": {
          "cell_type": "markdown",
          "checksum": "6fd316e32373fcff23f16e1ac37b253e",
          "grade": false,
          "grade_id": "cell-f6a54cba4f2f3990",
          "locked": true,
          "schema_version": 3,
          "solution": false,
          "task": false
        },
        "id": "7675153c"
      },
      "source": [
        "## Distancia entre dos vectores\n",
        "\n",
        "Sean $\\vec{x}$, $\\vec{y}$ $\\in \\mathbb{R}^{n}$ la distancia entre $\\vec{x}$, $\\vec{y}$ se define de la siguiente manera.\n",
        "\n",
        "$$d\\left(\\vec{x},\\vec{y}\\right) = \\left\\Vert \\vec{x}-\\vec{y}\\right\\Vert$$\n",
        "\n",
        "La importancia de una norma es que una vez definida la norma\n",
        "en $\\mathbb{R}^{n}$ es sencillo establecer una métrica (distancia entre vectores).\n",
        "\n",
        "Si consideramos un espacio bidimensional y la norma-2 tenemos que:\n",
        "\n",
        "$$\n",
        "d_{2}\\left(\\vec{x},\\vec{y}\\right) = \\left\\Vert \\vec{x}-\\vec{y}\\right\\Vert _{2}= \\left[\\sum_{i=1}^{n}\\left|x_{i}-y_{i}\\right|^2\\right]^{1/2}\n",
        "$$"
      ]
    },
    {
      "cell_type": "markdown",
      "id": "dcaa0438",
      "metadata": {
        "deletable": false,
        "editable": false,
        "nbgrader": {
          "cell_type": "markdown",
          "checksum": "43cea54a8723b5a948e2bcfa54d0d512",
          "grade": false,
          "grade_id": "cell-1419b3a18da8cf03",
          "locked": true,
          "schema_version": 3,
          "solution": false,
          "task": false
        },
        "id": "dcaa0438"
      },
      "source": [
        "### Ejercicio 5\n",
        "\n",
        "Escribe una función llamada ```distancia``` que calcule la distancia euclideana entre dos vectores cualesquiera, siguiendo la definición anterior.\n",
        "\n",
        "**NOTA**: Resolver sin usar el módulo ```numpy```"
      ]
    },
    {
      "cell_type": "code",
      "execution_count": null,
      "id": "ca5303c9",
      "metadata": {
        "deletable": false,
        "nbgrader": {
          "cell_type": "code",
          "checksum": "4a337f66c2a76421f98e2e347ec53a3c",
          "grade": false,
          "grade_id": "cell-698682ddeb68f127",
          "locked": false,
          "schema_version": 3,
          "solution": true,
          "task": false
        },
        "id": "ca5303c9"
      },
      "outputs": [],
      "source": [
        "def distancia(x, y):\n",
        "    \n",
        "    # YOUR CODE HERE\n",
        "    raise NotImplementedError()\n",
        "    \n",
        "    return dist"
      ]
    },
    {
      "cell_type": "code",
      "execution_count": null,
      "id": "808087c0",
      "metadata": {
        "deletable": false,
        "editable": false,
        "nbgrader": {
          "cell_type": "code",
          "checksum": "5f023ec1497cc978385f280ecad1ca09",
          "grade": true,
          "grade_id": "cell-81b42969431db7a3",
          "locked": true,
          "points": 5,
          "schema_version": 3,
          "solution": false,
          "task": false
        },
        "id": "808087c0"
      },
      "outputs": [],
      "source": [
        "\"\"\"Prueba 9: Función para la distancia euclideana\"\"\"\n",
        "from nose.tools import assert_equal\n",
        "from numpy import array\n",
        "from numpy.linalg import norm\n",
        "\n",
        "assert_equal(distancia([6, 3], [6, 3]), norm(array([6, 3]) - array([6, 3])), \"Error: Revisa tu función\")\n",
        "print(\"Distancia entre\", [6, 3], \"y\", [6, 3], \"=\", distancia([6, 3], [6, 3]))\n",
        "assert_equal(distancia([6, 3], [2, 2]), norm(array([6, 3]) - array([2, 2])), \"Error: Revisa tu función\")\n",
        "print(\"Distancia entre\", [6, 3], \"y\", [2, 2], \"=\", distancia([6, 3], [2, 2]))\n",
        "assert_equal(distancia([3, 4], [6, 3]), norm(array([3, 4]) - array([6, 3])), \"Error: Revisa tu función\")\n",
        "print(\"Distancia entre\", [3, 4], \"y\", [6, 3], \"=\", distancia([3, 4], [6, 3]))\n",
        "assert_equal(distancia([-8, 1], [5, -2]), norm(array([-8, 1]) - array([5, -2])), \"Error: Revisa tu función\")\n",
        "print(\"Distancia entre\", [-8, 1], \"y\", [5, -2], \"=\", distancia([-8, 1], [5, -2]))"
      ]
    },
    {
      "cell_type": "code",
      "execution_count": null,
      "id": "956667b7",
      "metadata": {
        "deletable": false,
        "editable": false,
        "nbgrader": {
          "cell_type": "code",
          "checksum": "f5edd20cacd4b25cffa73e2f646a6bb0",
          "grade": true,
          "grade_id": "cell-9fbb32351875086b",
          "locked": true,
          "points": 5,
          "schema_version": 3,
          "solution": false,
          "task": false
        },
        "id": "956667b7"
      },
      "outputs": [],
      "source": [
        "\"\"\"Prueba 10: Función para la distancia euclideana\"\"\"\n",
        "from nose.tools import assert_equal\n",
        "from numpy import array\n",
        "from numpy.linalg import norm\n",
        "\n",
        "assert_equal(distancia([-10, 3, -3], [5, 4, -2]), norm(array([-10, 3, -3]) - array([5, 4, -2])), \"Error: Revisa tu función\")\n",
        "print(\"Distancia entre\", [-10, 3, -3], \"y\", [5, 4, -2], \"=\", distancia([-10, 3, -3], [5, 4, -2]))\n",
        "assert_equal(distancia([20, -32, 43], [4, 3, 2]), norm(array([20, -32, 43]) - array([4, 3, 2])), \"Error: Revisa tu función\")\n",
        "print(\"Distancia entre\", [20, -32, 43], \"y\", [4, 3, 2], \"=\", distancia([20, -32, 43], [4, 3, 2]))"
      ]
    },
    {
      "cell_type": "markdown",
      "id": "82fe96da",
      "metadata": {
        "deletable": false,
        "editable": false,
        "nbgrader": {
          "cell_type": "markdown",
          "checksum": "1f5651fac69e3bb7eeee397aaef979fa",
          "grade": false,
          "grade_id": "cell-91b79d46208a494a",
          "locked": true,
          "schema_version": 3,
          "solution": false,
          "task": false
        },
        "id": "82fe96da"
      },
      "source": [
        "## Ejercicio Final\n",
        "\n",
        "Para asentar los conocimientos que has adquirido para las normas vectoriales, tu trabajo será demostrar las propiedades para las 3 normas que se vieron en este documento (norma-1, norma-2 y norma-$\\infty$).\n",
        "\n",
        "1. $\\left\\Vert \\vec{x}\\right\\Vert \\geq0.$\n",
        "2. $\\left\\Vert \\vec{x}\\right\\Vert =0\\,\\Longleftrightarrow\\vec{x}=\\vec{0}.$\n",
        "3. $\\left\\Vert \\alpha\\vec{x}\\right\\Vert =\\left|\\alpha\\right|\\left\\Vert \\vec{x}\\right\\Vert$, donde $a$ es una constante.\n",
        "4. $\\left\\Vert \\vec{x}+\\vec{y}\\right\\Vert \\leq\\left\\Vert \\vec{x}\\right\\Vert +\\left\\Vert \\vec{y}\\right\\Vert.$\n",
        "\n",
        "En este ejercicio **SÍ** se puede utilizar el módulo ```numpy```.\n",
        "\n",
        "Para hacer uso de este módulo, se debe ejecutar la siguiente línea:\n",
        "\n",
        "```python\n",
        "import numpy as np\n",
        "```\n",
        "\n",
        "y para hacer uso de la norma, la función se implementa como:\n",
        "\n",
        "```python\n",
        "np.linalg.norm(x, p)\n",
        "```\n",
        "\n",
        "donde ```x``` es el vector y ```p``` es la norma que se quiera calcular (en el caso de la norma del supremo, p = ```np.inf```)"
      ]
    },
    {
      "cell_type": "code",
      "execution_count": null,
      "id": "65bac7b8",
      "metadata": {
        "deletable": false,
        "nbgrader": {
          "cell_type": "code",
          "checksum": "322fd8a6d97fec69a10296b13243d306",
          "grade": true,
          "grade_id": "cell-4c95da8fd0a363fe",
          "locked": false,
          "points": 10,
          "schema_version": 3,
          "solution": true,
          "task": false
        },
        "id": "65bac7b8"
      },
      "outputs": [],
      "source": [
        "# 1. ||x|| >= 0\n",
        "# YOUR CODE HERE\n",
        "raise NotImplementedError()\n",
        "\n",
        "# 2. ||x|| = 0 <=> x = 0\n",
        "# YOUR CODE HERE\n",
        "raise NotImplementedError()\n",
        "\n",
        "# 3. ||ax|| = ||a|| ||x||, a es constante\n",
        "# YOUR CODE HERE\n",
        "raise NotImplementedError()\n",
        "\n",
        "# 4. ||x + y|| <= ||x|| + ||y||\n",
        "# YOUR CODE HERE\n",
        "raise NotImplementedError()\n"
      ]
    }
  ],
  "metadata": {
    "kernelspec": {
      "display_name": "Python 3 (ipykernel)",
      "language": "python",
      "name": "python3"
    },
    "language_info": {
      "codemirror_mode": {
        "name": "ipython",
        "version": 3
      },
      "file_extension": ".py",
      "mimetype": "text/x-python",
      "name": "python",
      "nbconvert_exporter": "python",
      "pygments_lexer": "ipython3",
      "version": "3.8.12"
    },
    "colab": {
      "name": "PreClase_NormasVectorialesYMatriciales_Alumno.ipynb",
      "provenance": [],
      "toc_visible": true,
      "include_colab_link": true
    }
  },
  "nbformat": 4,
  "nbformat_minor": 5
}