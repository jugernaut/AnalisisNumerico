{
  "cells": [
    {
      "cell_type": "markdown",
      "metadata": {
        "id": "view-in-github",
        "colab_type": "text"
      },
      "source": [
        "<a href=\"https://colab.research.google.com/github/jugernaut/AnalisisNumerico/blob/desarrollo/02_ResolucionDeSistemasLineales/Clase_NormasVectoriales.ipynb\" target=\"_parent\"><img src=\"https://colab.research.google.com/assets/colab-badge.svg\" alt=\"Open In Colab\"/></a>"
      ]
    },
    {
      "cell_type": "markdown",
      "id": "6d9493f9",
      "metadata": {
        "deletable": false,
        "editable": false,
        "nbgrader": {
          "cell_type": "markdown",
          "checksum": "64e97a5dbd17d4b2f7af820670e23fff",
          "grade": false,
          "grade_id": "cell-5ecaef705342d000",
          "locked": true,
          "schema_version": 3,
          "solution": false,
          "task": false
        },
        "id": "6d9493f9"
      },
      "source": [
        "# Normas vectoriales y matriciales\n",
        "\n",
        "## Notebook de clase\n",
        "\n",
        "---"
      ]
    },
    {
      "cell_type": "markdown",
      "id": "f7c69d4f",
      "metadata": {
        "deletable": false,
        "editable": false,
        "nbgrader": {
          "cell_type": "markdown",
          "checksum": "98c0deb08082a3e4b86540430addaa40",
          "grade": false,
          "grade_id": "cell-06b0f4c761c0251a",
          "locked": true,
          "schema_version": 3,
          "solution": false,
          "task": false
        },
        "id": "f7c69d4f"
      },
      "source": [
        "## Introducción\n",
        "\n",
        "### ¿Qué es una norma vectorial?\n",
        "\n",
        "Sea $V$ un espacio vectorial sobre $k$. Una función $\\left\\Vert \\cdot\\right\\Vert$ de vectores, se denomina norma vectorial a $\\left\\Vert \\cdot\\right\\Vert$ si, para cualesquiera vectores $\\vec{x},\\vec{y},$ se satisfacen las siguientes propiedades.\n",
        "\n",
        "1. $\\left\\Vert \\vec{x}\\right\\Vert \\geq0.$\n",
        "2. $\\left\\Vert \\vec{x}\\right\\Vert =0\\,\\Longleftrightarrow\\vec{x}=\\vec{0}.$\n",
        "3. $\\left\\Vert \\alpha\\vec{x}\\right\\Vert =\\left|\\alpha\\right|\\left\\Vert \\vec{x}\\right\\Vert$, donde $a$ es una constante.\n",
        "4. $\\left\\Vert \\vec{x}+\\vec{y}\\right\\Vert \\leq\\left\\Vert \\vec{x}\\right\\Vert +\\left\\Vert \\vec{y}\\right\\Vert.$\n",
        "\n",
        "### Tipos de norma\n",
        "\n",
        "Sea $p \\geq 1$, las normas de Hölder, o *normas-p* están definidas por:\n",
        "\n",
        "$$\n",
        "\\left\\Vert\\vec{x}\\right\\Vert_{p}=\\left[\\sum_{i=1}^{n}\\left|x_{i}\\right|^{p}\\right]^{1/p} \\qquad \\text{para}\\,1\\leq p<\\infty\n",
        "$$\n",
        "\n",
        "Los casos más importantes de está norma son:\n",
        "\n",
        "* Norma-1 ($p = 1$):\n",
        "\n",
        "$$\n",
        "\\left\\Vert \\vec{x}\\right\\Vert _{1}=\\sum_{i=1}^{n}\\left|x_{i}\\right|\n",
        "$$\n",
        "\n",
        "* Norma-2 o norma euclideana ($p = 2$)\n",
        "\n",
        "$$\n",
        "\\left\\Vert\\vec{x}\\right\\Vert_{2}=\\left[\\sum_{i=1}^{n}\\left|x_{i}\\right|^{2}\\right]^{1/2}\n",
        "$$\n",
        "\n",
        "* Y la norma-$\\infty$ o norma del supremo ($p = \\infty$)\n",
        "\n",
        "$$\n",
        "\\lim_{p \\rightarrow \\infty} \\left\\Vert \\vec{x}\\right\\Vert _{p} = \\left\\Vert \\vec{x}\\right\\Vert _{\\infty}= \\max_{1 \\leq i \\leq n} \\left| x_i \\right|\n",
        "$$"
      ]
    },
    {
      "cell_type": "markdown",
      "id": "9111090a",
      "metadata": {
        "deletable": false,
        "editable": false,
        "nbgrader": {
          "cell_type": "markdown",
          "checksum": "bdb6aae99da07a57ec31f2e1b95ac804",
          "grade": false,
          "grade_id": "cell-ceeedb91df8e6e2e",
          "locked": true,
          "schema_version": 3,
          "solution": false,
          "task": false
        },
        "id": "9111090a"
      },
      "source": [
        "### Implementando las normas-p en Python"
      ]
    },
    {
      "cell_type": "markdown",
      "id": "1cbc42ba",
      "metadata": {
        "deletable": false,
        "editable": false,
        "nbgrader": {
          "cell_type": "markdown",
          "checksum": "df2f1f9ffd8b6a9b39e64ca07ae92b22",
          "grade": false,
          "grade_id": "cell-6aa332fc417aaef1",
          "locked": true,
          "schema_version": 3,
          "solution": false,
          "task": false
        },
        "id": "1cbc42ba"
      },
      "source": [
        "Sea $\\vec{x} \\in \\mathbb{R}^{2}$ y $\\vec{x}=(2,5)$, calcule las normas de Hölder con p = 1, 2 y $\\infty$.\n",
        "\n",
        "* Norma-1\n",
        "\n",
        "$$\\left\\Vert \\vec{x}\\right\\Vert _{1}=\\sum_{i=1}^{2}\\left|x_{i}\\right|=\\left|x_{1}\\right|+\\left|x_{2}\\right|=2+5=7$$\n",
        "\n",
        "* Norma-2 (norma euclidiana)\n",
        "\n",
        "$$\\left\\Vert \\vec{x}\\right\\Vert _{2}=\\left[\\sum_{i=1}^{2}\\left|x_{i}\\right|^{2}\\right]^{1/2}=\\sqrt{\\left|x_{1}\\right|^{2}+\\left|x_{2}\\right|^{2}}=\\sqrt{\\left|2\\right|^{2}+\\left|5\\right|^{2}}=\\sqrt{4+25}=\\sqrt{29}$$\n",
        "\n",
        "* Norma-$\\infty$ (norma del supremo)\n",
        "\n",
        "$$\\left\\Vert \\vec{x}\\right\\Vert _{\\infty} = \\max_{1\\leq i\\leq 2}\\left|x_{i}\\right|= \\max\\{|2|,|5|\\} = \\max\\{2,5\\}=5$$\n",
        "\n",
        "Con *numpy* podemos comprobar los resultados:"
      ]
    },
    {
      "cell_type": "code",
      "execution_count": null,
      "id": "05f7c7d0",
      "metadata": {
        "id": "05f7c7d0"
      },
      "outputs": [],
      "source": [
        "import numpy as np\n",
        "\n",
        "# Definimos el vector\n",
        "x = np.array([2, 5])\n",
        "\n",
        "# Se imprime el vector x\n",
        "print(\"Vector x:\", x)\n",
        "\n",
        "# Calculamos la norma 1\n",
        "print(\"Norma 1 del vector x:\",np.linalg.norm(x, 1))\n",
        "\n",
        "# Calculamos la norma 2\n",
        "print(\"Norma 2 del vector x:\",np.linalg.norm(x, 2))\n",
        "\n",
        "# Calculamos la norma del supremo\n",
        "print(\"Norma del supremo del vector x:\",np.linalg.norm(x, np.inf))"
      ]
    },
    {
      "cell_type": "markdown",
      "id": "47569282",
      "metadata": {
        "deletable": false,
        "editable": false,
        "nbgrader": {
          "cell_type": "markdown",
          "checksum": "0ead1a9a6ba3f1413abc7b814c189c37",
          "grade": false,
          "grade_id": "cell-d7375d0bcb56bba9",
          "locked": true,
          "schema_version": 3,
          "solution": false,
          "task": false
        },
        "id": "47569282"
      },
      "source": [
        "## Normas matriciales (inducida)\n",
        "\n",
        "El concepto de norma, no se aplica únicamente para vectores, en cualquier espacio vectorial o subespacio es muy útil definir el concepto de norma para poder establecer una forma de medir distancias.\n",
        "\n",
        "Dada una norma vectorial, definimos su correspondiente norma matricial de una matriz $\\mathbf{A}$ de tamaño $m \\times n$ como sigue:\n",
        "\n",
        "$$\n",
        "||\\mathbf{A}|| = \\max_{\\mathbf{x} \\not = 0}  \\frac{||A \\mathbf{x}||}{||\\mathbf{x}||}\n",
        "$$\n",
        "\n",
        "esta norma se llama inducida o subordinada a la norma vectorial.\n",
        "\n",
        "### Propiedades\n",
        "\n",
        "Una función $\\left\\Vert \\cdot\\right\\Vert$ de matrices, se denomina norma matricial $\\left\\Vert \\cdot\\right\\Vert$  si para cualesquiera matrices $A, B \\in M_{n\\times n}$ sobre $\\mathbb{R}$ se satisfacen las siguientes propiedades.\n",
        "\n",
        "1. $\\left\\Vert \\mathbf{A}\\right\\Vert \\geq0$ si $A \\neq$ 0\n",
        "2. $\\left\\Vert \\mathbf{A}\\right\\Vert =0\\,\\Longleftrightarrow A=0$.\n",
        "3. $\\left\\Vert \\alpha \\mathbf{A}\\right\\Vert =\\left|\\alpha\\right|\\left\\Vert \\mathbf{A}\\right\\Vert$.\n",
        "4. $\\left\\Vert \\mathbf{A}+\\mathbf{B}\\right\\Vert \\leq\\left\\Vert \\mathbf{A}\\right\\Vert +\\left\\Vert \\mathbf{B}\\right\\Vert$ (desigualdad triangular).\n",
        "5. $\\left\\Vert \\mathbf{AB}\\right\\Vert \\leq\\left\\Vert \\mathbf{A}\\right\\Vert \\left\\Vert \\mathbf{B}\\right\\Vert$ (compatibilidad o consistencia).\n",
        "\n",
        "Nótese que las primeras dos propiedades juntas implican que $\\left\\Vert \\mathbf{A} \\right\\Vert = 0$ sí y sólo sí $\\mathbf{A} = 0$"
      ]
    },
    {
      "cell_type": "markdown",
      "id": "f0e745a9",
      "metadata": {
        "deletable": false,
        "editable": false,
        "nbgrader": {
          "cell_type": "markdown",
          "checksum": "23d080c516decaeb41e99ae6c542f361",
          "grade": false,
          "grade_id": "cell-8825785d66cb64a7",
          "locked": true,
          "schema_version": 3,
          "solution": false,
          "task": false
        },
        "id": "f0e745a9"
      },
      "source": [
        "### Tipos de normas matriciales\n",
        "\n",
        "Sea $p\\geq1,\\:\\vec{x}\\in\\mathbb{R}^{n}$, la p-norma de una matriz $\\mathbf{A}\\in \\mathbf{M}_{n\\times n}$ esta definida por.\n",
        "\n",
        "$$\n",
        "\\left\\Vert \\mathbf{A}\\right\\Vert _{p} = \\sup_{\\vec{x}\\neq\\vec{0}}\\frac{\\left\\Vert A\\vec{x}\\right\\Vert _{p}}{\\left\\Vert \\vec{x}\\right\\Vert _{p}}\n",
        "$$\n",
        "\n",
        "* Norma matricial inducida por la norma-1 vectorial ($p = 1$).\n",
        "\n",
        "$$\n",
        "\\left\\Vert \\mathbf{A}\\right\\Vert _{1}\\ = \\sup_{\\vec{x}\\neq\\vec{0}}\\frac{\\left\\Vert A\\vec{x}\\right\\Vert _{1}}{\\left\\Vert\\vec{x}\\right\\Vert _{1}} = \\max_{1\\leq j\\leq n}\\sum_{i=1}^{n}\\left|a_{ij}\\right| = \\max_{1\\leq j\\leq n}\\left\\Vert \\vec{a}_{j}\\right\\Vert _{1} \\quad \\text{suma de columnas}\n",
        "$$\n",
        "\n",
        "* Norma matricial inducida por la norma del supremo ($p = \\infty$).\n",
        "\n",
        "$$\n",
        "\\left\\Vert \\mathbf{A}\\right\\Vert _{\\infty} = \\sup_{\\vec{x}\\neq\\vec{0}}\\frac{\\left\\Vert A\\vec{x}\\right\\Vert _{\\infty}}{\\left\\Vert \\vec{x}\\right\\Vert _{\\infty}} = \\max_{1\\leq i\\leq n}\\sum_{j=1}^{n}\\left|a_{ij}\\right| = \\max_{1\\leq i\\leq n}\\left\\Vert \\vec{a}_{i}\\right\\Vert _{1} \\quad \\text{suma de renglones}\n",
        "$$\n",
        "\n",
        "* El caso particular de $p=2$ es conocido como norma euclidiana:\n",
        "$$\\left\\Vert \\mathbf{A}\\right\\Vert _{2}=\\sqrt{\\max{\\text{eig}(\\mathbf{A}^{T}\\mathbf{A})}}$$\n",
        "\n",
        "* Además de estas, existe la norma de Frobenius:\n",
        "\n",
        "$$\n",
        "\\left\\Vert \\mathbf{A} \\right\\Vert_{F} = \\sqrt{\\sum_{i = 1}^{m} \\sum_{j = 1}^{n} |a_{ij}^2|} = \\sqrt{\\text{tr}\\,\\left(\\mathbf{A}^{*}\\mathbf{A}\\right)} = \\sqrt{\\sum_{i = 1}^{\\min{m, n}} \\sigma_{i}^2}\n",
        "$$\n",
        "\n",
        "donde $\\mathbf{A^{*}}$ es la traspuesta conjugada y $\\sigma_{i}$ son los valores singulares de $\\mathbf{A}$"
      ]
    },
    {
      "cell_type": "markdown",
      "id": "ecd19dbd",
      "metadata": {
        "deletable": false,
        "editable": false,
        "nbgrader": {
          "cell_type": "markdown",
          "checksum": "862cbc6c6a772fe415724320790e85f4",
          "grade": false,
          "grade_id": "cell-418d082314c4bad4",
          "locked": true,
          "schema_version": 3,
          "solution": false,
          "task": false
        },
        "id": "ecd19dbd"
      },
      "source": [
        "### Ejemplo 1: $\\left\\Vert \\mathbf{A} \\right\\Vert_{1}$ y $\\left\\Vert \\mathbf{A} \\right\\Vert_{\\infty}$\n",
        "\n",
        "Sea\n",
        "\n",
        "$$\n",
        "\\mathbf{A} = \n",
        "\\begin{pmatrix}\n",
        "3 & -1 & 4 \\\\\n",
        "-5 & 0 & 2 \\\\\n",
        "1 & -2 & 6 \\\\\n",
        "\\end{pmatrix}\n",
        "$$\n",
        "\n",
        "Calcular $\\left\\Vert \\mathbf{A} \\right\\Vert_{1}$ y $\\left\\Vert \\mathbf{A} \\right\\Vert_{\\infty}$\n",
        "\n",
        "$$\n",
        "\\left\\Vert \\mathbf{A}\\right\\Vert _{1} = \\max_{1\\leq j\\leq n} \\left\\Vert \\vec{a}_{j}\\right\\Vert _{1} = \\max_{1\\leq j\\leq 3} \\left\\Vert \\vec{a}_{j}\\right\\Vert _{1}= \\max\\{(3+5+1=9),(1+0+2=3),(4+2+6=12)\\}=12\n",
        "$$\n",
        "\n",
        "$$\n",
        "\\left\\Vert \\mathbf{A}\\right\\Vert _{\\infty}=\\max_{1\\leq i\\leq n} \\left\\Vert \\vec{a}_{i}\\right\\Vert _{1} = \\max_{1\\leq i\\leq 3}\\left\\Vert \\vec{a}_{i}\\right\\Vert _{1}= \\max\\{(3+1+4=8),(5+0+2=7),(1+2+6=9)\\}=9\n",
        "$$\n",
        "\n",
        "Comprobando el resultado con el módulo ```linalg``` de ```numpy```:"
      ]
    },
    {
      "cell_type": "code",
      "execution_count": null,
      "id": "58327f8a",
      "metadata": {
        "id": "58327f8a"
      },
      "outputs": [],
      "source": [
        "# Definiendo la matriz A\n",
        "A = np.array([[3, -1, 4],[-5, 0, 2],[1, -2, 6]])\n",
        "print(\"Matriz: \\n\", A)\n",
        "\n",
        "# Calculamos la 1-norma de A\n",
        "print(\"Norma-1:\", np.linalg.norm(A, 1))\n",
        "\n",
        "# Calculamos la norma del supremo de A\n",
        "print(\"Norma-inf:\", np.linalg.norm(A, np.inf))"
      ]
    },
    {
      "cell_type": "markdown",
      "id": "74a2a636",
      "metadata": {
        "deletable": false,
        "editable": false,
        "nbgrader": {
          "cell_type": "markdown",
          "checksum": "1de7bbb9f1ac4d2649e7e76ed5aa96f6",
          "grade": false,
          "grade_id": "cell-57844400aac9b669",
          "locked": true,
          "schema_version": 3,
          "solution": false,
          "task": false
        },
        "id": "74a2a636"
      },
      "source": [
        "### Ejemplo 2: $\\left\\Vert \\mathbf{A}\\right\\Vert _{2}$\n",
        "\n",
        "Sea $$\\mathbf{A}=\\left(\\begin{array}{cc}\n",
        "2 & 5\\\\\n",
        "1 & 3\n",
        "\\end{array}\\right)$$ Calcular $\\left\\Vert \\mathbf{A}\\right\\Vert _{2}$\n",
        "\n",
        "* Para encontrar los eigenvalores de A necesitamos calcular $det\\left(\\left(\\mathbf{A}^{T}\\mathbf{A}\\right)-\\lambda I\\right)$.\n",
        "\n",
        "* Lo primero es calcular la matriz transpuesta de $\\mathbf{A}$, es decir $$\\mathbf{A}^{T}=\\left(\\begin{array}{cc}\n",
        "2 & 1\\\\\n",
        "5 & 3\n",
        "\\end{array}\\right)$$\n",
        "\n",
        "* Ahora es necesario encontrar el producto de $\\mathbf{A}$ transpuesta por $\\mathbf{A}$.$$\\mathbf{A}^{T}\\mathbf{A}=\\left(\\begin{array}{cc}\n",
        "2 & 1\\\\\n",
        "5 & 3\n",
        "\\end{array}\\right)\\left(\\begin{array}{cc}\n",
        "2 & 5\\\\\n",
        "1 & 3\n",
        "\\end{array}\\right)=\\left(\\begin{array}{cc}\n",
        "5 & 13\\\\\n",
        "13 & 34\n",
        "\\end{array}\\right)$$\n",
        "\n",
        "* Lo siguiente es calcular el producto anterior menos $lambda$ por la matriz de identidad.$$\\mathbf{A}^{T}\\mathbf{A}-\\lambda I=\\left(\\begin{array}{cc}\n",
        "5 & 13\\\\\n",
        "13 & 34\n",
        "\\end{array}\\right)-\\left(\\begin{array}{cc}\n",
        "\\lambda & 0\\\\\n",
        "0 & \\lambda\n",
        "\\end{array}\\right)=\\left(\\begin{array}{cc}\n",
        "5-\\lambda & 13\\\\\n",
        "13 & 34-\\lambda\n",
        "\\end{array}\\right)$$\n",
        "\n",
        "* Finalmente se calcula el determinante de la matriz anterior \n",
        "$$\\begin{eqnarray*}\\det\\left(\\left(\\mathbf{A}^{T}\\mathbf{A}\\right)-\\lambda I\\right) =\t\\left(5-\\lambda\\right)\\left(34-\\lambda\\right)-\\left(13\\times13\\right) \\\\\n",
        "=\t170-5\\lambda-34\\lambda+\\lambda^{2}-169 \\\\\n",
        "=\t\\lambda^{2}-39\\lambda+1 \\end{eqnarray*}$$\n",
        "\n",
        "* Por lo que al encontrar las raíces de esta ecuación cuadrática, se tiene que$$\\begin{cases}\n",
        "\\lambda_{1}=\\frac{39+\\sqrt{1517}}{2} & =38.97434\\\\\n",
        "\\lambda_{2}=\\frac{39-\\sqrt{1517}}{2} & =0.02566\n",
        "\\end{cases}$$\n",
        "\n",
        "$$\\therefore\\left\\Vert \\mathbf{A}\\right\\Vert _{2}=\\sqrt{38.97434}=6.24294338$$"
      ]
    },
    {
      "cell_type": "code",
      "execution_count": null,
      "id": "beff287e",
      "metadata": {
        "id": "beff287e"
      },
      "outputs": [],
      "source": [
        "# Definimos la matriz A\n",
        "A = np.array([[2, 5],[1, 3]])\n",
        "print(\"Matriz:\\n\", A)\n",
        "\n",
        "# Calculamos la 2-norma de A\n",
        "print(\"Norma-2:\", np.linalg.norm(A, 2))"
      ]
    },
    {
      "cell_type": "markdown",
      "id": "d1c1a6c2",
      "metadata": {
        "deletable": false,
        "editable": false,
        "nbgrader": {
          "cell_type": "markdown",
          "checksum": "3a0586f22a184a7f4b1523b090433916",
          "grade": false,
          "grade_id": "cell-8a0d7e639a8326b7",
          "locked": true,
          "schema_version": 3,
          "solution": false,
          "task": false
        },
        "id": "d1c1a6c2"
      },
      "source": [
        "### Ejercicio 1\n",
        "\n",
        "Calcula los tres tipos de normas matriciales ($\\left\\Vert \\mathbf{A}\\right\\Vert _{p}$) para los siguientes ejercicios propuestos e imprime el resultado.\n",
        "\n",
        "**NOTA**: Para este ejercicio, **SÍ** puedes utilizar el módulo ```numpy```"
      ]
    },
    {
      "cell_type": "markdown",
      "id": "ce68d2ed",
      "metadata": {
        "deletable": false,
        "editable": false,
        "nbgrader": {
          "cell_type": "markdown",
          "checksum": "1043ed14c891194d3cfc45dee1222fae",
          "grade": false,
          "grade_id": "cell-f5f3ffe2fd450438",
          "locked": true,
          "schema_version": 3,
          "solution": false,
          "task": false
        },
        "id": "ce68d2ed"
      },
      "source": [
        "a) $\\mathbf{A} = \\begin{pmatrix}\n",
        "-2 & 15 & 18\\\\\n",
        "0 & 3 & 10\\\\\n",
        "0 & 0 & 1\n",
        "\\end{pmatrix}$"
      ]
    },
    {
      "cell_type": "code",
      "execution_count": null,
      "id": "053167bf",
      "metadata": {
        "deletable": false,
        "nbgrader": {
          "cell_type": "code",
          "checksum": "f5b973a3146c83720b670b6e1c3a942a",
          "grade": false,
          "grade_id": "cell-a688bdb505d1e48a",
          "locked": false,
          "schema_version": 3,
          "solution": true,
          "task": false
        },
        "id": "053167bf"
      },
      "outputs": [],
      "source": [
        "# Definición de la matriz\n",
        "# YOUR CODE HERE\n",
        "raise NotImplementedError()\n",
        "\n",
        "# Norma-1\n",
        "# YOUR CODE HERE\n",
        "raise NotImplementedError()\n",
        "\n",
        "# Norma-2\n",
        "# YOUR CODE HERE\n",
        "raise NotImplementedError()\n",
        "\n",
        "# Norma-inf\n",
        "# YOUR CODE HERE\n",
        "raise NotImplementedError()"
      ]
    },
    {
      "cell_type": "markdown",
      "id": "9f761373",
      "metadata": {
        "deletable": false,
        "editable": false,
        "nbgrader": {
          "cell_type": "markdown",
          "checksum": "d5f79969b2351fdfd8855bd61cdb499d",
          "grade": false,
          "grade_id": "cell-a71abb2c14ab4d7f",
          "locked": true,
          "schema_version": 3,
          "solution": false,
          "task": false
        },
        "id": "9f761373"
      },
      "source": [
        "b) $\\mathbf{B} = \\begin{pmatrix}\n",
        "0 & 1 & 0\\\\\n",
        "1 & 0 & 1\\\\\n",
        "0 & 1 & 0\n",
        "\\end{pmatrix}$"
      ]
    },
    {
      "cell_type": "code",
      "execution_count": null,
      "id": "6ba6238f",
      "metadata": {
        "deletable": false,
        "nbgrader": {
          "cell_type": "code",
          "checksum": "f181abf21472dcea0a1e6873e8fc7823",
          "grade": false,
          "grade_id": "cell-ef98aae59040c769",
          "locked": false,
          "schema_version": 3,
          "solution": true,
          "task": false
        },
        "id": "6ba6238f"
      },
      "outputs": [],
      "source": [
        "# Definición de la matriz\n",
        "# YOUR CODE HERE\n",
        "raise NotImplementedError()\n",
        "\n",
        "# Norma-1\n",
        "# YOUR CODE HERE\n",
        "raise NotImplementedError()\n",
        "\n",
        "# Norma-2\n",
        "# YOUR CODE HERE\n",
        "raise NotImplementedError()\n",
        "\n",
        "# Norma-inf\n",
        "# YOUR CODE HERE\n",
        "raise NotImplementedError()"
      ]
    },
    {
      "cell_type": "markdown",
      "id": "7c0d00b5",
      "metadata": {
        "deletable": false,
        "editable": false,
        "nbgrader": {
          "cell_type": "markdown",
          "checksum": "ec72942e458af18136f1a715ec36a7ec",
          "grade": false,
          "grade_id": "cell-c1ea1ea138682e10",
          "locked": true,
          "schema_version": 3,
          "solution": false,
          "task": false
        },
        "id": "7c0d00b5"
      },
      "source": [
        "c) $\\mathbf{C} = \\begin{pmatrix}\n",
        "2 &  4\\\\\n",
        "5 &  7\n",
        "\\end{pmatrix}$"
      ]
    },
    {
      "cell_type": "code",
      "execution_count": null,
      "id": "f110a16a",
      "metadata": {
        "deletable": false,
        "nbgrader": {
          "cell_type": "code",
          "checksum": "5fe37bc447f996c9fbd371929b3e9147",
          "grade": false,
          "grade_id": "cell-e5c7496302cbc0da",
          "locked": false,
          "schema_version": 3,
          "solution": true,
          "task": false
        },
        "id": "f110a16a"
      },
      "outputs": [],
      "source": [
        "# Definición de la matriz\n",
        "# YOUR CODE HERE\n",
        "raise NotImplementedError()\n",
        "\n",
        "# Norma-1\n",
        "# YOUR CODE HERE\n",
        "raise NotImplementedError()\n",
        "\n",
        "# Norma-2\n",
        "# YOUR CODE HERE\n",
        "raise NotImplementedError()\n",
        "\n",
        "# Norma-inf\n",
        "# YOUR CODE HERE\n",
        "raise NotImplementedError()"
      ]
    },
    {
      "cell_type": "markdown",
      "id": "fd179673",
      "metadata": {
        "deletable": false,
        "editable": false,
        "nbgrader": {
          "cell_type": "markdown",
          "checksum": "633dbb60f8d225dfb28eb3e005515167",
          "grade": false,
          "grade_id": "cell-71b8902c5b440cd7",
          "locked": true,
          "schema_version": 3,
          "solution": false,
          "task": false
        },
        "id": "fd179673"
      },
      "source": [
        "d) $\\mathbf{D} = \\begin{pmatrix}\n",
        "\\frac{1}{2} &  \\frac{3}{2}\\\\\n",
        "\\frac{5}{2} &  -\\frac{1}{2}\n",
        "\\end{pmatrix}$"
      ]
    },
    {
      "cell_type": "code",
      "execution_count": null,
      "id": "ddb902bb",
      "metadata": {
        "deletable": false,
        "nbgrader": {
          "cell_type": "code",
          "checksum": "17836b9bfa19062c3fa513eaa7501f1e",
          "grade": false,
          "grade_id": "cell-c834a6173ef1634e",
          "locked": false,
          "schema_version": 3,
          "solution": true,
          "task": false
        },
        "id": "ddb902bb"
      },
      "outputs": [],
      "source": [
        "# Definición de la matriz\n",
        "# YOUR CODE HERE\n",
        "raise NotImplementedError()\n",
        "\n",
        "# Norma-1\n",
        "# YOUR CODE HERE\n",
        "raise NotImplementedError()\n",
        "\n",
        "# Norma-2\n",
        "# YOUR CODE HERE\n",
        "raise NotImplementedError()\n",
        "\n",
        "# Norma-inf\n",
        "# YOUR CODE HERE\n",
        "raise NotImplementedError()"
      ]
    },
    {
      "cell_type": "markdown",
      "id": "587f883e",
      "metadata": {
        "deletable": false,
        "editable": false,
        "nbgrader": {
          "cell_type": "markdown",
          "checksum": "6c635ac84b864350230b24032c6a5bab",
          "grade": false,
          "grade_id": "cell-2ca916a1c4277d0e",
          "locked": true,
          "schema_version": 3,
          "solution": false,
          "task": false
        },
        "id": "587f883e"
      },
      "source": [
        "## Ejercicio Final\n",
        "\n",
        "Para reforzar lo aprendido en esta clase, deberás generar la función ```norma_frob``` la cuál calculara la norma de Frobenius para matrices.\n",
        "\n",
        "**NOTA**: Para este ejercicio, no se puede hacer uso de ```np.linalg.norm```"
      ]
    },
    {
      "cell_type": "code",
      "execution_count": null,
      "id": "c09b04fe",
      "metadata": {
        "deletable": false,
        "nbgrader": {
          "cell_type": "code",
          "checksum": "3e0a6c1a010d033d19655d7f73d4b05b",
          "grade": false,
          "grade_id": "cell-0e19714de2d5b429",
          "locked": false,
          "schema_version": 3,
          "solution": true,
          "task": false
        },
        "id": "c09b04fe"
      },
      "outputs": [],
      "source": [
        "import numpy as np\n",
        "\n",
        "def norma_frob(matriz):\n",
        "    \n",
        "    # YOUR CODE HERE\n",
        "    raise NotImplementedError()\n",
        "    \n",
        "    return norma"
      ]
    },
    {
      "cell_type": "code",
      "execution_count": null,
      "id": "9a0639f9",
      "metadata": {
        "deletable": false,
        "editable": false,
        "nbgrader": {
          "cell_type": "code",
          "checksum": "76098d9fb49e6bf1f64b8826114705ad",
          "grade": true,
          "grade_id": "cell-e9e87db3b09a8857",
          "locked": true,
          "points": 100,
          "schema_version": 3,
          "solution": false,
          "task": false
        },
        "id": "9a0639f9"
      },
      "outputs": [],
      "source": [
        "\"\"\"Prueba 1: Norma de Frobenius para matrices\"\"\"\n",
        "from nose.tools import assert_equal\n",
        "from numpy.linalg import norm\n",
        "\n",
        "# Norma de Frobenius\n",
        "# Caso 1\n",
        "assert_equal(norma_frob(np.array([[30, 20, 10], [40, 34, 12]])), norm(np.array([[30, 20, 10], [40, 34, 12]]), 'fro'))\n",
        "print(\"La norma de Frobenius de\\n\", np.array([[30, 20, 10], [40, 34, 12]]), \"\\nes:\", norma_frob(np.array([[30, 20, 10], [40, 34, 12]])))\n",
        "\n",
        "# Caso 2\n",
        "assert_equal(norma_frob(np.array([[-8, -9], [-1, -1], [7, 4]])), norm(np.array([[-8, -9], [-1, -1], [7, 4]]), 'fro'))\n",
        "print(\"La norma de Frobenius de\\n\", np.array([[-8, -9], [-1, -1], [7, 4]]), \"\\nes:\", norma_frob(np.array([[-8, -9], [-1, -1], [7, 4]])))\n",
        "\n",
        "# Caso 3\n",
        "assert_equal(norma_frob(np.array([[0, 5, 4], [5, 0, 3], [4, 3, 0]])), norm(np.array([[0, 5, 4], [5, 0, 3], [4, 3, 0]]), 'fro'))\n",
        "print(\"La norma de Frobenius de\\n\", np.array([[0, 5, 4], [5, 0, 3], [4, 3, 0]]), \"\\nes:\", norma_frob(np.array([[0, 5, 4], [5, 0, 3], [4, 3, 0]])))\n",
        "\n",
        "# Caso 4\n",
        "assert_equal(norma_frob(np.array([[1.00, 0.97, 0.79, 0.45], [0.97, 1.00, 0.86, 0.39], [0.79, 0.86, 1.00, 0.54], [0.45, 0.39, 0.54, 1.00]])), \n",
        "             norm(np.array([[1.00, 0.97, 0.79, 0.45], [0.97, 1.00, 0.86, 0.39], [0.79, 0.86, 1.00, 0.54], [0.45, 0.39, 0.54, 1.00]]), 'fro'))\n",
        "print(\"La norma de Frobenius de\\n\", np.array([[1.00, 0.97, 0.79, 0.45], [0.97, 1.00, 0.86, 0.39], [0.79, 0.86, 1.00, 0.54], [0.45, 0.39, 0.54, 1.00]]), \"\\nes:\", \n",
        "      norma_frob(np.array([[1.00, 0.97, 0.79, 0.45], [0.97, 1.00, 0.86, 0.39], [0.79, 0.86, 1.00, 0.54], [0.45, 0.39, 0.54, 1.00]])))"
      ]
    }
  ],
  "metadata": {
    "kernelspec": {
      "display_name": "Python 3 (ipykernel)",
      "language": "python",
      "name": "python3"
    },
    "language_info": {
      "codemirror_mode": {
        "name": "ipython",
        "version": 3
      },
      "file_extension": ".py",
      "mimetype": "text/x-python",
      "name": "python",
      "nbconvert_exporter": "python",
      "pygments_lexer": "ipython3",
      "version": "3.8.12"
    },
    "colab": {
      "name": "Clase_NormasVectorialesYMatriciales_Alumno.ipynb",
      "provenance": [],
      "toc_visible": true,
      "include_colab_link": true
    }
  },
  "nbformat": 4,
  "nbformat_minor": 5
}