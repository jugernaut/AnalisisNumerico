{
  "cells": [
    {
      "cell_type": "markdown",
      "metadata": {
        "id": "view-in-github",
        "colab_type": "text"
      },
      "source": [
        "<a href=\"https://colab.research.google.com/github/jugernaut/AnalisisNumerico/blob/desarrollo/02_ResolucionDeSistemasLineales/PostClase_NormasVectoriales.ipynb\" target=\"_parent\"><img src=\"https://colab.research.google.com/assets/colab-badge.svg\" alt=\"Open In Colab\"/></a>"
      ]
    },
    {
      "cell_type": "markdown",
      "id": "7d38fc4b",
      "metadata": {
        "deletable": false,
        "editable": false,
        "nbgrader": {
          "cell_type": "markdown",
          "checksum": "a48066b425bb0f353b5e99b5b7734df8",
          "grade": false,
          "grade_id": "cell-e6b4757d31fefa8a",
          "locked": true,
          "schema_version": 3,
          "solution": false,
          "task": false
        },
        "id": "7d38fc4b"
      },
      "source": [
        "# Normas Vectoriales y Matriciales\n",
        "\n",
        "## Notebook post-clase\n",
        "\n",
        "---"
      ]
    },
    {
      "cell_type": "markdown",
      "id": "5f3db96e",
      "metadata": {
        "deletable": false,
        "editable": false,
        "nbgrader": {
          "cell_type": "markdown",
          "checksum": "f617899a32ba7335ea2da55f051014ee",
          "grade": false,
          "grade_id": "cell-17d5ee032f68cc4b",
          "locked": true,
          "schema_version": 3,
          "solution": false,
          "task": false
        },
        "id": "5f3db96e"
      },
      "source": [
        "## Recapitulación\n",
        "\n",
        "### Normas vectoriales\n",
        "\n",
        "Sea $p \\geq 1$, las normas de Hölder, o *normas-p* están definidas por:\n",
        "\n",
        "$$\n",
        "\\left\\Vert\\vec{x}\\right\\Vert_{p}=\\left[\\sum_{i=1}^{n}\\left|x_{i}\\right|^{p}\\right]^{1/p} \\qquad \\text{para}\\,1\\leq p<\\infty\n",
        "$$\n",
        "\n",
        "Los casos más importantes de está norma son:\n",
        "\n",
        "* Norma-1 ($p = 1$):\n",
        "\n",
        "$$\n",
        "\\left\\Vert \\vec{x}\\right\\Vert _{1}=\\sum_{i=1}^{n}\\left|x_{i}\\right|\n",
        "$$\n",
        "\n",
        "* Norma-2 o norma euclideana ($p = 2$)\n",
        "\n",
        "$$\n",
        "\\left\\Vert\\vec{x}\\right\\Vert_{2}=\\left[\\sum_{i=1}^{n}\\left|x_{i}\\right|^{2}\\right]^{1/2}\n",
        "$$\n",
        "\n",
        "* Y la norma-$\\infty$ o norma del supremo ($p = \\infty$)\n",
        "\n",
        "$$\n",
        "\\lim_{p \\rightarrow \\infty} \\left\\Vert \\vec{x}\\right\\Vert _{p} = \\left\\Vert \\vec{x}\\right\\Vert _{\\infty}= \\max_{1 \\leq i \\leq n} \\left| x_i \\right|\n",
        "$$\n",
        "\n",
        "### Normas matriciales\n",
        "\n",
        "Sea $p\\geq1,\\:\\vec{x}\\in\\mathbb{R}^{n}$, la p-norma de una matriz $\\mathbf{A}\\in \\mathbf{M}_{n\\times n}$ esta definida por.\n",
        "\n",
        "$$\n",
        "\\left\\Vert \\mathbf{A}\\right\\Vert _{p} = \\sup_{\\vec{x}\\neq\\vec{0}}\\frac{\\left\\Vert A\\vec{x}\\right\\Vert _{p}}{\\left\\Vert \\vec{x}\\right\\Vert _{p}}\n",
        "$$\n",
        "\n",
        "* Norma matricial inducida por la norma-1 vectorial ($p = 1$).\n",
        "\n",
        "$$\n",
        "\\left\\Vert \\mathbf{A}\\right\\Vert _{1}\\ = \\sup_{\\vec{x}\\neq\\vec{0}}\\frac{\\left\\Vert A\\vec{x}\\right\\Vert _{1}}{\\left\\Vert\\vec{x}\\right\\Vert _{1}} = \\max_{1\\leq j\\leq n}\\sum_{i=1}^{n}\\left|a_{ij}\\right| = \\max_{1\\leq j\\leq n}\\left\\Vert \\vec{a}_{j}\\right\\Vert _{1} \\quad \\text{suma de columnas}\n",
        "$$\n",
        "\n",
        "* Norma matricial inducida por la norma del supremo ($p = \\infty$).\n",
        "\n",
        "$$\n",
        "\\left\\Vert \\mathbf{A}\\right\\Vert _{\\infty} = \\sup_{\\vec{x}\\neq\\vec{0}}\\frac{\\left\\Vert A\\vec{x}\\right\\Vert _{\\infty}}{\\left\\Vert \\vec{x}\\right\\Vert _{\\infty}} = \\max_{1\\leq i\\leq n}\\sum_{j=1}^{n}\\left|a_{ij}\\right| = \\max_{1\\leq i\\leq n}\\left\\Vert \\vec{a}_{i}\\right\\Vert _{1} \\quad \\text{suma de renglones}\n",
        "$$\n",
        "\n",
        "* El caso particular de $p=2$ es conocido como norma euclidiana:\n",
        "$$\\left\\Vert \\mathbf{A}\\right\\Vert _{2}=\\sqrt{\\max{\\text{eig}(\\mathbf{A}^{T}\\mathbf{A})}}$$\n",
        "\n",
        "* Además de estas, existe la norma de Frobenius:\n",
        "\n",
        "$$\n",
        "\\left\\Vert \\mathbf{A} \\right\\Vert_{F} = \\sqrt{\\sum_{i = 1}^{m} \\sum_{j = 1}^{n} |a_{ij}^2|} = \\sqrt{\\text{tr}\\,\\left(\\mathbf{A}^{*}\\mathbf{A}\\right)} = \\sqrt{\\sum_{i = 1}^{\\min{m, n}} \\sigma_{i}^2}\n",
        "$$\n",
        "\n",
        "donde $\\mathbf{A^{*}}$ es la traspuesta conjugada y $\\sigma_{i}$ son los valores singulares de $\\mathbf{A}$"
      ]
    },
    {
      "cell_type": "markdown",
      "id": "73f53148",
      "metadata": {
        "deletable": false,
        "editable": false,
        "nbgrader": {
          "cell_type": "markdown",
          "checksum": "32b1e4a63dde7790968acc9600320ed5",
          "grade": false,
          "grade_id": "cell-7f1d0b87a5928780",
          "locked": true,
          "schema_version": 3,
          "solution": false,
          "task": false
        },
        "id": "73f53148"
      },
      "source": [
        "## Proyecto de tema\n",
        "\n",
        "Hasta ahora, se ha trabajado de manera sencilla y práctica el manejo de la norma para las matrices. A manera de cimentar tus conocimientos y desarrollar tu pensamiento computacional, la tarea a elaborar esta ocasión es la siguiente:\n",
        "\n",
        "Escribir la función ```normMat```, la cual recibe como parámetro una matriz de $n \\times n$. Dicha función debe calcular la norma-2 para matrices siguiendo el ejemplo 2 del notebook de clase o siguiendo alguno de los métodos que se presentan en dicho notebook. Recuerda evaluar las condiciones necesarias para llevar a cabo este cálculo.\n",
        "\n",
        "**NOTA**: Está permitido el uso del módulo ```numpy``` para el la manipulación de arreglo/matrices. No está permitido el uso de las funciones ```np.linalg.norm()``` y ```np.linalg.eigvals```. El cálculo de los eigenvalores debe ser explícito en la función."
      ]
    },
    {
      "cell_type": "code",
      "execution_count": null,
      "id": "b207e4e6",
      "metadata": {
        "deletable": false,
        "nbgrader": {
          "cell_type": "code",
          "checksum": "a53183a8a63399e4dbcfcfea3c1c9684",
          "grade": false,
          "grade_id": "cell-51dcbfcf368e0cfd",
          "locked": false,
          "schema_version": 3,
          "solution": true,
          "task": false
        },
        "id": "b207e4e6"
      },
      "outputs": [],
      "source": [
        "import numpy as np\n",
        "\n",
        "def normMat(matriz):\n",
        "    \n",
        "    # YOUR CODE HERE\n",
        "    raise NotImplementedError()\n",
        "    \n",
        "    return norma"
      ]
    },
    {
      "cell_type": "code",
      "execution_count": null,
      "id": "8ce8f01d",
      "metadata": {
        "deletable": false,
        "editable": false,
        "nbgrader": {
          "cell_type": "code",
          "checksum": "84208055f076a93d6f4e413ea440b4e4",
          "grade": true,
          "grade_id": "cell-c21d43e621e9f322",
          "locked": true,
          "points": 100,
          "schema_version": 3,
          "solution": false,
          "task": false
        },
        "id": "8ce8f01d"
      },
      "outputs": [],
      "source": [
        "\"\"\"Prueba: Evaluación de la función normMat\"\"\"\n",
        "from numpy.testing import assert_approx_equal\n",
        "from numpy.linalg import norm\n",
        "\n",
        "# Norma-2 de matrices\n",
        "# Casos válidos\n",
        "assert_approx_equal(normMat(np.array([[2, 5], [1, 3]])), norm(np.array([[2, 5], [1, 3]])), 2)\n",
        "print(\"Norma-2 de la matriz\\n\", np.array([[2, 5], [1, 3]]), \"\\nes:\", normMat(np.array([[2, 5], [1, 3]])), \"\\n\")\n",
        "\n",
        "assert_approx_equal(normMat(np.array([[3, 7, 10], [20, 40, 10], [4, 5, 2]])), norm(np.array([[3, 7, 10], [20, 40, 10], [4, 5, 2]])), 2)\n",
        "print(\"Norma-2 de la matriz\\n\", np.array([[3, 7, 10], [20, 40, 10], [4, 5, 2]]), \"\\nes:\", \n",
        "      normMat(np.array([[3, 7, 10], [20, 40, 10], [4, 5, 2]])), \"\\n\")\n",
        "\n",
        "assert_approx_equal(normMat(np.array([[0, 1, 2, -1], [1, -1, -3, 1], [4, 0, 0, 1], [2, 3, 8, -2]])), \n",
        "                    norm(np.array([[0, 1, 2, -1], [1, -1, -3, 1], [4, 0, 0, 1], [2, 3, 8, -2]])), 2)\n",
        "print(\"Norma-2 de la matriz\\n\", np.array([[0, 1, 2, -1], [1, -1, -3, 1], [4, 0, 0, 1], [2, 3, 8, -2]]), \"\\nes:\", \n",
        "      normMat(np.array([[0, 1, 2, -1], [1, -1, -3, 1], [4, 0, 0, 1], [2, 3, 8, -2]])), \"\\n\")"
      ]
    }
  ],
  "metadata": {
    "kernelspec": {
      "display_name": "Python 3 (ipykernel)",
      "language": "python",
      "name": "python3"
    },
    "language_info": {
      "codemirror_mode": {
        "name": "ipython",
        "version": 3
      },
      "file_extension": ".py",
      "mimetype": "text/x-python",
      "name": "python",
      "nbconvert_exporter": "python",
      "pygments_lexer": "ipython3",
      "version": "3.8.12"
    },
    "colab": {
      "name": "PostClase_NormasVectorialesYMatriciales_Alumno.ipynb",
      "provenance": [],
      "toc_visible": true,
      "include_colab_link": true
    }
  },
  "nbformat": 4,
  "nbformat_minor": 5
}