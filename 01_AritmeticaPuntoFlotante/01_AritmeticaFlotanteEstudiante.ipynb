{
 "cells": [
  {
   "cell_type": "markdown",
   "metadata": {
    "deletable": false,
    "editable": false,
    "id": "gTmXfouXUnDx",
    "nbgrader": {
     "cell_type": "markdown",
     "checksum": "0cebd55074fad292ddd086193c96e575",
     "grade": false,
     "grade_id": "cell-288d929d733864da",
     "locked": true,
     "schema_version": 3,
     "solution": false,
     "task": false
    }
   },
   "source": [
    "<font color=\"Teal\" face=\"Comic Sans MS,arial\">\n",
    "  <h1 align=\"center\"><i>Números de punto flotante y Técnicas de redondeo</i></h1>\n",
    "  </font>\n",
    "  <font color=\"Black\" face=\"Comic Sans MS,arial\">\n",
    "  <h5 align=\"center\"><i>Profesora: \tUrsula Xiomara Iturrarán Viveros</i></h5>\n",
    "  <h5 align=\"center\"><i>Ayudante: Juan Pablo Cordero Santiago</i></h5>\n",
    "  <h5 align=\"center\"><i>MACTII: Edgar Dominguez Rosas y José Antonio Borras Gutiérrez</i></h5>\n",
    "  <h5 align=\"center\"><i>Materia: Análisis Numérico</i></h5>\n",
    "  </font>"
   ]
  },
  {
   "cell_type": "code",
   "execution_count": null,
   "metadata": {
    "deletable": false,
    "editable": false,
    "id": "CYm0-5kQaZ5l",
    "nbgrader": {
     "cell_type": "code",
     "checksum": "61dbf90aef18aee40ee33924323a8c1b",
     "grade": false,
     "grade_id": "cell-3c156066947b3ff6",
     "locked": true,
     "schema_version": 3,
     "solution": false,
     "task": false
    }
   },
   "outputs": [],
   "source": [
    "from math import pi\n",
    "from PF import truncar,rdnd"
   ]
  },
  {
   "cell_type": "markdown",
   "metadata": {
    "deletable": false,
    "editable": false,
    "id": "GaeW9nV7Um4-",
    "nbgrader": {
     "cell_type": "markdown",
     "checksum": "496ca8b35d187e9c92ce6dbf96689891",
     "grade": false,
     "grade_id": "cell-157bca13af78f485",
     "locked": true,
     "schema_version": 3,
     "solution": false,
     "task": false
    }
   },
   "source": [
    "# **Sistemas de punto flotante** "
   ]
  },
  {
   "cell_type": "markdown",
   "metadata": {
    "deletable": false,
    "editable": false,
    "id": "1YSnXp8xUmul",
    "nbgrader": {
     "cell_type": "markdown",
     "checksum": "1fa44049b688de05776548deb4d261ad",
     "grade": false,
     "grade_id": "cell-6a278ec3cd2ae093",
     "locked": true,
     "schema_version": 3,
     "solution": false,
     "task": false
    }
   },
   "source": [
    "## Definición de un sistema de punto flotante.\n",
    "\n",
    "**Se consideran los elementos de un sistema de punto flotante a los números que tienen la siguiente forma:**\n",
    "\n",
    "$$x = \\pm (d_{1}.d_{2}d_{3}d_{4},...,d_{t}) \\times \\beta^{e}$$\n",
    "donde\n",
    "\n",
    "1. $t=$ precisión del sistema de punto flotante.\n",
    "2. $\\beta =$ base del sistema de punto flotante.\n",
    "3. $e=$ Exponente.\n",
    "\n",
    "además se debe considerar que:\n",
    "\n",
    "$$0 \\quad < d_{1} < \\quad \\beta$$\n",
    "$$0 \\quad \\leq d_{i} < \\quad \\beta, \\quad \\text{para} \\quad i=2,3,4,...,t$$\n",
    "$$e \\in [L,U], \\quad \\text{donde} \\quad L <  0 < U$$\n",
    "\n",
    "Se denota como $\\mathbb{F}= fl(\\beta, t,L,U)$ se conoce como notación estándar."
   ]
  },
  {
   "cell_type": "markdown",
   "metadata": {
    "deletable": false,
    "editable": false,
    "id": "p4QgvJVAUmmN",
    "nbgrader": {
     "cell_type": "markdown",
     "checksum": "ab554f7d2b42ef9b5334a471d3244f83",
     "grade": false,
     "grade_id": "cell-6fdc1e734c871ee6",
     "locked": true,
     "schema_version": 3,
     "solution": false,
     "task": false
    }
   },
   "source": [
    "# **¿Cómo representa los números internamente la computadora?**"
   ]
  },
  {
   "cell_type": "markdown",
   "metadata": {
    "deletable": false,
    "editable": false,
    "id": "lGN0DG-3UmZ4",
    "nbgrader": {
     "cell_type": "markdown",
     "checksum": "a8335ecd74da5e97118f48b45fc216bb",
     "grade": false,
     "grade_id": "cell-e87d3147df648ab6",
     "locked": true,
     "schema_version": 3,
     "solution": false,
     "task": false
    }
   },
   "source": [
    "**La computadora tiene memoria limitada por lo tanto, no puede representar una infinidad de números solo una cantidad limitada.**\n",
    "\n",
    "Los números de la computadora son números de un sistema de punto\n",
    "flotante, ¿Qué pasa si un número tiene expansion periódica infinita\n",
    "como lo puede representar la computadora?\n",
    "\n",
    "Pensemos que la precisión $t = 2$ (también se usa $p = 2$) y pensemos en el número $x = 16/9(= 1.7777777777777777)$, la computadora lo\n",
    "aproximará a 2 dígitos, pero ¿cómo? Para esto existen dos formas, con\n",
    "redondeo o truncamiento. Definamos completamente al sistema de\n",
    "punto flotante hipotético al que nos referimos en este caso:"
   ]
  },
  {
   "cell_type": "markdown",
   "metadata": {
    "deletable": false,
    "editable": false,
    "id": "Pgp5PbpsUmAS",
    "nbgrader": {
     "cell_type": "markdown",
     "checksum": "0e40e109c1143d2921a02bf36f0aa250",
     "grade": false,
     "grade_id": "cell-1ff94ed41e35b44b",
     "locked": true,
     "schema_version": 3,
     "solution": false,
     "task": false
    }
   },
   "source": [
    "# **Redondeo y truncamiento**"
   ]
  },
  {
   "cell_type": "markdown",
   "metadata": {
    "deletable": false,
    "editable": false,
    "id": "x7iFLJXjUkXr",
    "nbgrader": {
     "cell_type": "markdown",
     "checksum": "17acd0f576a8b9482eecf825fcd8e6e8",
     "grade": false,
     "grade_id": "cell-94f3a27281108458",
     "locked": true,
     "schema_version": 3,
     "solution": false,
     "task": false
    }
   },
   "source": [
    "$\\color{white}{Este\\ sistema\\ lo\\ denotaremos\\ como:\\ fl(10, 3, −3, 3),\\ esto\\ quiere\\ decir\\ que\\ tiene\\ base\\ 10,\\ que\\ tiene\\ 3\\ d\\acute{i}gitos\\ de\\ precisi\\acute{o}n\\ y\\ que\\ el\\ exponente\\ e\\ se\\ encuentra\\ en\\ el\\ intervalo\\ [−3, 3]}$\n",
    "\n",
    "¿Qué elementos se encuentran en este sistema de punto flotante?\n",
    "\n",
    "Probemos $x_{1} = 7$, sabemos que lo podemos escribir como:\n",
    "\n",
    "$$x = 7 = 7.0 \\times 10^{0}$$\n",
    "\n",
    "Siendo la base $β = 10$ y la precisión $t = 3$ (también se denota como $p$) y el exponente, en este caso, es $e = 0 \\in [−3, 3]$, el exponente de $x_{1}$ está en el interavalo $[−3, 3]$, solo tenemos un dígito que es el 7 que esta en la base $\\beta = 10$, por lo tanto es un número que se expresa completamente sin ningún problema en este sistema de punto flotante dado, es decir $7.0 \\in fl(10, 3, −3, 3)$ "
   ]
  },
  {
   "cell_type": "markdown",
   "metadata": {
    "deletable": false,
    "editable": false,
    "id": "jUmaNH5NOAHi",
    "nbgrader": {
     "cell_type": "markdown",
     "checksum": "829e418e82a36b02adb213a57999da2e",
     "grade": false,
     "grade_id": "cell-bd0b6aa6deb364b5",
     "locked": true,
     "schema_version": 3,
     "solution": false,
     "task": false
    }
   },
   "source": [
    "## Ejemplos: Representación"
   ]
  },
  {
   "cell_type": "markdown",
   "metadata": {
    "deletable": false,
    "editable": false,
    "id": "jAyXcs9GUkMS",
    "nbgrader": {
     "cell_type": "markdown",
     "checksum": "6a39da2021461d9a5995678ebab16efc",
     "grade": false,
     "grade_id": "cell-fbdd38ed9a9cbd38",
     "locked": true,
     "schema_version": 3,
     "solution": false,
     "task": false
    }
   },
   "source": [
    "**Ejemplo 1**: Representación de número en un sistema\n",
    "\n",
    "$\\color{white}{¿C\\acute{o}mo\\ puedo\\ representar\\ al\\ n\\acute{u}mero\\ x_{2} = 148,\\ escribiendolo\\ en\\ la\\\n",
    "notaci\\acute{o}n\\ est\\acute{a}ndar,\\ si\\ fl(10, 3, −3, 3)?}$\n",
    "\n",
    "Tenemos que:\n",
    "\n",
    "$$x_{2} = 1.48 \\times 10^{2}$$\n",
    "\n",
    "Como tenemos 3 dígitos de precisión, alcanza para expresar el $1.48$,\n",
    "además, la base es $\\beta = 10$ y $1.48$ está en base 10. Por otro lado como el exponente es $e = 2 \\in [−3, 3]$, este también es un número que se puede representar exactamente en el sistema de flotante dado, es decir $x_{2} \\in fl(10, 3, −3, 3)$, la computadora no necesita aproximarlo de ninguna forma, pues es exactamente representable en este sistema de punto flotante."
   ]
  },
  {
   "cell_type": "markdown",
   "metadata": {
    "deletable": false,
    "editable": false,
    "id": "GsXzj3LxUkAs",
    "nbgrader": {
     "cell_type": "markdown",
     "checksum": "7b932eb99271cba576e4436c76593e04",
     "grade": false,
     "grade_id": "cell-7c768acf44eb4141",
     "locked": true,
     "schema_version": 3,
     "solution": false,
     "task": false
    }
   },
   "source": [
    "**Ejemplo 2**: Representar un número\n",
    "\n",
    "$\\color{white}{¿C\\acute{o}mo\\ puedo\\ representar\\ al\\ n\\acute{u}mero\\ x_2 = 8540,\\ escribiendolo\\ en\\ la\\ notaci\\acute{o}n\\ est\\acute{a}ndar,\\ si\\ fl(10, 3, −3, 3)?}$\n",
    "\n",
    "Tenemos:\n",
    "\n",
    "$$x_{3} = 8540.0 \\times 10^{0} = 8.540 \\times 10^{3} = 8.54 \\times 10^{3}$$\n",
    "\n",
    "Como el sistema tiene 3 dígitos de precisión disponibles, en este caso\n",
    "el último dígito es cero, **SI** alcanza para expresar el $8.540$, además este número está en la base $\\beta = 10$ y el exponente es $e = 3 \\in [−3, 3]$, por lo que este número puede ser representado se forma exacta en el sistema de punto flotante $fl(10, 3, −3, 3)$."
   ]
  },
  {
   "cell_type": "markdown",
   "metadata": {
    "deletable": false,
    "editable": false,
    "id": "wJWz-_55Uj27",
    "nbgrader": {
     "cell_type": "markdown",
     "checksum": "60d03c1945993a57e77063f71656b89e",
     "grade": false,
     "grade_id": "cell-e75e43ac194874d1",
     "locked": true,
     "schema_version": 3,
     "solution": false,
     "task": false
    }
   },
   "source": [
    "**Ejemplo 3**: Aproximar un número\n",
    "\n",
    "**¿Cómo puedo representar al número $x_{4} = 2543$, escribiendolo en la\n",
    "notación estándar, si $fl(10, 3, −3, 3)$?**\n",
    "\n",
    "Tenemos:\n",
    "\n",
    "$$x_{4} = 2543.0 × 10^{0} = 2.543 × 10^{3}$$\n",
    "\n",
    "Como el sistema tiene 3 dígitos de precisión disponibles, en este caso,\n",
    "**NO** alcanza para expresar el $2.543$, aunque está en la base $\\beta = 10$ y el exponente es $e = 3 \\in [−3, 3]$, pero este número se tiene que truncar o redondear para poder ser *aproximado* en el sistema de punto flotante $fl(10, 3, −3, 3)$, pues solo hay 3 dígitos y tenemos 4 dígitos diferentes\n",
    "de cero."
   ]
  },
  {
   "cell_type": "markdown",
   "metadata": {
    "deletable": false,
    "editable": false,
    "id": "6jgPg4bkUi_R",
    "nbgrader": {
     "cell_type": "markdown",
     "checksum": "fd2ada5c902ce5b96effd087f3f593ca",
     "grade": false,
     "grade_id": "cell-4850e618cb60225b",
     "locked": true,
     "schema_version": 3,
     "solution": false,
     "task": false
    }
   },
   "source": [
    "## Truncamiento\n",
    "\n",
    "La técnica de truncamiento es la más simple, pues solo se consideran\n",
    "los dígitos disponibles y lo demas se borra. Consideremos $x_{7} = 2555$, al truncar para aproximar al sistema de punto flotante $fl(10, 3, −3, 3)$, tenemos que $x_{7} = 2555 = 2.555 \\times 10^{3} = 2.55 \\times 10^{3}$, con truncamiento.\n",
    "\n",
    "*Diferencia entre truncamiento y redondeo*\n",
    "\n",
    "Cuando truncamos un número dado, siempre aproximamos con el\n",
    "elemento menor o igual (perteneciente al sistema de punto flotante en\n",
    "cuestión), mientras que cuando redondeamos puede ser que se\n",
    "aproxime al menor o al mayor, dependiendo de su cercanía a\n",
    "cualquiera de estos dos números o si se da un empate entre el mayor y\n",
    "menor."
   ]
  },
  {
   "cell_type": "markdown",
   "metadata": {
    "deletable": false,
    "editable": false,
    "id": "xzml5K7qUjuD",
    "nbgrader": {
     "cell_type": "markdown",
     "checksum": "e4b33df1d1c6b40f6f8cf28e2437ea5b",
     "grade": false,
     "grade_id": "cell-df844027b8ec6ab4",
     "locked": true,
     "schema_version": 3,
     "solution": false,
     "task": false
    }
   },
   "source": [
    "## Técnicas de redondeo y truncamiento\n",
    "\n",
    "$\\color{white}{Considerando\\ el\\ caso\\ x_4 = 2543,\\ para\\ aproximarlo\\ a\\ alg\\acute{u}n\\ elemento\\ de\\ fl(10, 3, −3, 3),\\ podemos\\ redondearlo\\ al\\ elemento\\ m\\acute{a}s\\ cercano\\ en\\ este\\ sistema\\ de\\ punto\\ flotante}$\n",
    "\n",
    "Tenemos:\n",
    "\n",
    "$$x_4 = 2543.0 \\times 10^{0} = 2.543 \\times 10^{3}$$\n",
    "\n",
    "Se encuentra entre dos elementos $x_{l}$ y $x_{u}$ que si están en $fl(10, 3, −3, 3)$:\n",
    "\n",
    "\\begin{array}{cc}\n",
    "x_{l} = 2540 < x_{4} & = & 2543 < x_{u} = 2550\\\\\n",
    "x_{l} = 2.54 \\times 10^{3} < x_{4} & = & 2.543 \\times 10^{3} < x_{u} = 2.55 \\times 10^{3}\n",
    "\\end{array}\n",
    "\n",
    "Como tengo que redondear al más cercano entonces $fl(2453) = x_{l} = 2.54 \\times 10^{3}$. Estaré entonces realizando una\n",
    "aproximación que tendrá un error de aproximación."
   ]
  },
  {
   "cell_type": "markdown",
   "metadata": {
    "deletable": false,
    "editable": false,
    "id": "JBoW-EGvUjjk",
    "nbgrader": {
     "cell_type": "markdown",
     "checksum": "bf1ee77283730e9b570f0e7ad8cba559",
     "grade": false,
     "grade_id": "cell-04fd06864f447a31",
     "locked": true,
     "schema_version": 3,
     "solution": false,
     "task": false
    }
   },
   "source": [
    "Realizar los siguientes ejemplos de truncamiento al más cercano\n",
    "\n",
    "* $x_{5} = 2549.99999999999999$\n",
    "* $x_{6} = 2550.00000000000001$\n",
    "* $x_{7} = 2555$"
   ]
  },
  {
   "cell_type": "markdown",
   "metadata": {
    "deletable": false,
    "editable": false,
    "id": "AsmMHAq7UjbU",
    "nbgrader": {
     "cell_type": "markdown",
     "checksum": "1204d2fb5597dc3c39e64754d5068e7d",
     "grade": false,
     "grade_id": "cell-3fc4de113159582e",
     "locked": true,
     "schema_version": 3,
     "solution": false,
     "task": false
    }
   },
   "source": [
    "Consideremos $x_{5} = 2549.99999999999999$\n",
    "\n",
    "\\begin{array}{cc}\n",
    "x_{l} = 2540 < x_5  & = & 2549.99999999999999 < x_{u} = 2550\\\\\n",
    "x_{l} = 2.54 \\times 10^{3} & < & 2.54999999999999999 \\times 10^{3} < x_{u} = 2.55 \\times 10^{3}\n",
    "\\end{array}\n",
    "\n",
    "Como tengo que redondear al más cercano entonces\n",
    "\n",
    "$fl(2549.99999999999999) = x_{u} = 2.55 \\times 10^{3}$."
   ]
  },
  {
   "cell_type": "markdown",
   "metadata": {
    "deletable": false,
    "editable": false,
    "id": "IJazRp9EUjRR",
    "nbgrader": {
     "cell_type": "markdown",
     "checksum": "cfdd3fca231fc6b898eed262f04d088c",
     "grade": false,
     "grade_id": "cell-2e559a4a63edf009",
     "locked": true,
     "schema_version": 3,
     "solution": false,
     "task": false
    }
   },
   "source": [
    "Consideremos $x_{6} = 2549.00000000000001$\n",
    "\n",
    "\\begin{array}{cc}\n",
    "x_{l} = 2540 < x_{6} & = & 2549.00000000000001 < x_{u} = 2550\\\\\n",
    "x_{l} = 2.54 \\times 10^{3} & < & 2549.00000000000001 \\times 10^{3} < x_{u} = 2.55 \\times 10^{3}\n",
    "\\end{array}\n",
    "\n",
    "Como tengo que redondear al más cercano entonces\n",
    "\n",
    "$fl(2549.00000000000001) = x_{u} = 2.55 \\times 10^{3}$\n",
    "\n"
   ]
  },
  {
   "cell_type": "markdown",
   "metadata": {
    "deletable": false,
    "editable": false,
    "id": "DrDstCO5UjI2",
    "nbgrader": {
     "cell_type": "markdown",
     "checksum": "aaf1e13bda2ea1f25dae3ee5bbc731c8",
     "grade": false,
     "grade_id": "cell-a9ceea9a7cfac18d",
     "locked": true,
     "schema_version": 3,
     "solution": false,
     "task": false
    }
   },
   "source": [
    "Consideremos $x_{7} = 2555$\n",
    "\n",
    "\\begin{array}{cc}\n",
    "x_{l} = 2550 < x_{6} & = & 2555 < x_{u} = 2560\\\\\n",
    "x_{l} = 2.55 \\times 10^{3} & < & 2.555 \\times 10^{3} < x_{u} = 2.56 \\times 10^{3}\n",
    "\\end{array}\n",
    "\n",
    "En este caso se produce un empate, pues el número a aproximar se\n",
    "encuentra entre el el número inferior $x_{l}$ y superior $x_{u}$ que pertenecen sistema de punto flotante. En este caso se realiza el redondeo a pares, que significa que se redondea al elemento de punto flotante cuyo último dígito significativo sea par. En este caso:\n",
    "\n",
    "$fl(2555.0) = 2.56 \\times 10^{3} = 2560.0$"
   ]
  },
  {
   "cell_type": "markdown",
   "metadata": {
    "deletable": false,
    "editable": false,
    "id": "faQ9Zzzfb0Qy",
    "nbgrader": {
     "cell_type": "markdown",
     "checksum": "537318379b2968b83cd4a0169101e267",
     "grade": false,
     "grade_id": "cell-25bd31e95de3f9d4",
     "locked": true,
     "schema_version": 3,
     "solution": false,
     "task": false
    }
   },
   "source": [
    "# Redondedo vs truncamiento"
   ]
  },
  {
   "cell_type": "markdown",
   "metadata": {
    "deletable": false,
    "editable": false,
    "id": "DIb8I62Vb1AA",
    "nbgrader": {
     "cell_type": "markdown",
     "checksum": "91bb10f53cb463937fec469859ff94d5",
     "grade": false,
     "grade_id": "cell-9c73ed4471f9f43b",
     "locked": true,
     "schema_version": 3,
     "solution": false,
     "task": false
    }
   },
   "source": [
    "Para la resolver la dificultad del ejemplo anterior (ejemplo 3) se puede utilizar, como ya dijimos, el redondeo o el truncamiento. El truncamiento consiste, de forma simple, en ignorar todos aquellos digítos que no alcanzan a representarse en el sistema de punto flotante que estemos utilizando, en este caso $fl(10, 3, −3, 3)$. En el caso del redondeo, el número que ocupamos para representar el número real es aquel que se aproxime más dentro del sistema de punto flotante que hemos definido. Veamos los siguientes ejemplos continuando con el sistema $fl(10, 3, −3, 3)$."
   ]
  },
  {
   "cell_type": "markdown",
   "metadata": {
    "deletable": false,
    "editable": false,
    "id": "mPhG5k67b1Gc",
    "nbgrader": {
     "cell_type": "markdown",
     "checksum": "4e6f8b452dc22049078770c65a220f1e",
     "grade": false,
     "grade_id": "cell-bd0685b8e70a7e26",
     "locked": true,
     "schema_version": 3,
     "solution": false,
     "task": false
    }
   },
   "source": [
    "a) Consideremos $x_{a} = 2549.99999999999999$\n",
    "\n",
    "Se encuentra entre dos elementos $x_{l}$ y $x_{u}$ que si están en $fl(10, 3, −3, 3)$:\n",
    "\n",
    "\\begin{array}{cc}\n",
    "x_{l} = 2540 < x_5  & = & 2549.99999999999999 < x_{u} = 2550\\\\\n",
    "x_{l} = 2.54 \\times 10^{3} & < & 2.54999999999999999 \\times 10^{3} < x_{u} = 2.55 \\times 10^{3}\n",
    "\\end{array}\n",
    "\n",
    "Como tengo que redondear al más cercano entonces\n",
    "\n",
    "$fl(2549.99999999999999) = x_{u} = 2.55 \\times 10^{3}$."
   ]
  },
  {
   "cell_type": "markdown",
   "metadata": {
    "deletable": false,
    "editable": false,
    "id": "rgCctOubb1er",
    "nbgrader": {
     "cell_type": "markdown",
     "checksum": "dc62828f376857f92af88d89f0a367e5",
     "grade": false,
     "grade_id": "cell-88ea04e6bff21dbb",
     "locked": true,
     "schema_version": 3,
     "solution": false,
     "task": false
    }
   },
   "source": [
    "b) Consideremos $x_{b} = 2555$\n",
    "\n",
    "\\begin{array}{cc}\n",
    "x_{l} = 2550 < x_{6} & = & 2555 < x_{u} = 2560\\\\\n",
    "x_{l} = 2.55 \\times 10^{3} & < & 2.555 \\times 10^{3} < x_{u} = 2.56 \\times 10^{3}\n",
    "\\end{array}\n",
    "\n",
    "En este caso se produce un empate, pues el número a aproximar se\n",
    "encuentra entre el el número inferior $x_{l}$ y superior $x_{u}$ que pertenecen sistema de punto flotante. En este caso se realiza el redondeo a pares, que significa que se redondea al elemento de punto flotante cuyo último dígito significativo sea par. En este caso:\n",
    "\n",
    "$fl(2555.0) = 2560.0 = 2.56 \\times 10^{3} $"
   ]
  },
  {
   "cell_type": "markdown",
   "metadata": {
    "deletable": false,
    "editable": false,
    "id": "9X8TZedPcmCg",
    "nbgrader": {
     "cell_type": "markdown",
     "checksum": "cd63cc06407007fb2cf0e4447247a312",
     "grade": false,
     "grade_id": "cell-e715bd06587bb541",
     "locked": true,
     "schema_version": 3,
     "solution": false,
     "task": false
    }
   },
   "source": [
    "Si, en el caso de $x_{b} = 2555$, hubieramos truncado entonces la representación en punto flotante sería $2.55 \\times 10^{3}$,"
   ]
  },
  {
   "cell_type": "markdown",
   "metadata": {
    "deletable": false,
    "editable": false,
    "id": "JSNcAE9Nh-wb",
    "nbgrader": {
     "cell_type": "markdown",
     "checksum": "d9aa9201634cdc19aa2032719018b93a",
     "grade": false,
     "grade_id": "cell-3a253f9a8782d3b5",
     "locked": true,
     "schema_version": 3,
     "solution": false,
     "task": false
    }
   },
   "source": [
    "Tambien se han creado para este notebook dos funciones,\n",
    "\n",
    "```\n",
    "rdnd(x,n), truncar(x,n)\n",
    "```\n",
    "las cuales permiten redondear y truncar."
   ]
  },
  {
   "cell_type": "code",
   "execution_count": null,
   "metadata": {
    "colab": {
     "base_uri": "https://localhost:8080/"
    },
    "id": "ATdWvrZnh9g5",
    "outputId": "3222a747-feea-4d26-e7ca-e266f04bb9f5"
   },
   "outputs": [],
   "source": [
    "#Retomando lo anterior, añade la linea para redondear a tres digitos\n",
    "rdnd(2555,3)"
   ]
  },
  {
   "cell_type": "code",
   "execution_count": null,
   "metadata": {
    "colab": {
     "base_uri": "https://localhost:8080/"
    },
    "id": "sOzFjFmrjG4B",
    "outputId": "029de05a-2e22-4929-9b25-abd96b582a5d"
   },
   "outputs": [],
   "source": [
    "# Ahora truncamos,\n",
    "truncar(2555,3)"
   ]
  },
  {
   "cell_type": "code",
   "execution_count": null,
   "metadata": {
    "colab": {
     "base_uri": "https://localhost:8080/"
    },
    "id": "2GcxN97EcJCg",
    "outputId": "68ef4c01-23b8-4697-a67e-8d1bf4c58db8"
   },
   "outputs": [],
   "source": [
    "rdnd(2555,3)"
   ]
  },
  {
   "cell_type": "markdown",
   "metadata": {
    "deletable": false,
    "editable": false,
    "id": "PkZUPZx3dhWL",
    "nbgrader": {
     "cell_type": "markdown",
     "checksum": "5c0722a521d030eabcaf48db2e288809",
     "grade": false,
     "grade_id": "cell-9ce3ed21120f24f1",
     "locked": true,
     "schema_version": 3,
     "solution": false,
     "task": false
    }
   },
   "source": [
    "#### Ejemplo : Uso de funciones\n",
    "\n",
    "a) Utiliza la función $\\texttt{rdnd}$, que se importo en la primer celda, para obtener la representación de $\\pi$ considerando un redondeo a 4 dígitos.\n",
    "\n",
    "b) Utiliza la función $\\texttt{rdnd}$, que se importo en la primer celda, para obtener la representación de $5/3$ considerando un truncamiento a 5 dígitos."
   ]
  },
  {
   "cell_type": "code",
   "execution_count": null,
   "metadata": {
    "colab": {
     "base_uri": "https://localhost:8080/"
    },
    "id": "dn5KU3tLdltW",
    "outputId": "5aad7480-127f-4647-bd33-b890c13f7214"
   },
   "outputs": [],
   "source": [
    "#(a)\n",
    "rdnd(pi,4)"
   ]
  },
  {
   "cell_type": "code",
   "execution_count": null,
   "metadata": {
    "id": "BG9McwhVknBG",
    "outputId": "a189dfb0-904e-4335-839c-0b0a68ef7b45"
   },
   "outputs": [],
   "source": [
    "#(b)\n",
    "truncar(5/3,5)"
   ]
  },
  {
   "cell_type": "markdown",
   "metadata": {
    "deletable": false,
    "editable": false,
    "id": "U3TBc_2Zkvtt",
    "nbgrader": {
     "cell_type": "markdown",
     "checksum": "2899051b420ff47c8cb5fe048e04dfcb",
     "grade": false,
     "grade_id": "cell-2d363c6ca099ffa7",
     "locked": true,
     "schema_version": 3,
     "solution": false,
     "task": false
    }
   },
   "source": [
    "#### Ejercicios:truncar y redondeo\n",
    "\n",
    "Utiliza la función $\\texttt{truncar}$, para obtener la representación de los siguintes números considerando un truncamiento a 5 dígitos.\n",
    "\n",
    "a)$\\pi$ $\\quad$ b) $124.036$ $\\quad$"
   ]
  },
  {
   "cell_type": "code",
   "execution_count": null,
   "metadata": {
    "deletable": false,
    "id": "ESud_lAXkwbS",
    "nbgrader": {
     "cell_type": "code",
     "checksum": "d2a86f0116184f030d4891615c5fa3cc",
     "grade": false,
     "grade_id": "cell-d4a2eb99a2f0a9dc",
     "locked": false,
     "schema_version": 3,
     "solution": true,
     "task": false
    },
    "outputId": "521affb0-3003-4db3-a961-f958fbce3d97"
   },
   "outputs": [],
   "source": [
    "#(a)\n",
    "# YOUR CODE HERE\n",
    "raise NotImplementedError()"
   ]
  },
  {
   "cell_type": "code",
   "execution_count": null,
   "metadata": {
    "deletable": false,
    "id": "hLjHyTRHkwj6",
    "nbgrader": {
     "cell_type": "code",
     "checksum": "522e7f566043aad94d0cafeb47065443",
     "grade": false,
     "grade_id": "cell-91324a6fd12ef8af",
     "locked": false,
     "schema_version": 3,
     "solution": true,
     "task": false
    },
    "outputId": "098dfdb3-120e-4c24-f41e-aab41cf2cf09"
   },
   "outputs": [],
   "source": [
    "#(b)\n",
    "# YOUR CODE HERE\n",
    "raise NotImplementedError()"
   ]
  },
  {
   "cell_type": "markdown",
   "metadata": {
    "deletable": false,
    "editable": false,
    "id": "iHTYXPGXlKAD",
    "nbgrader": {
     "cell_type": "markdown",
     "checksum": "95fcf7141ad6afe09b34655cd2d77400",
     "grade": false,
     "grade_id": "cell-f16b7426c2a38771",
     "locked": true,
     "schema_version": 3,
     "solution": false,
     "task": false
    }
   },
   "source": [
    "Ejercicios\n",
    "\n",
    "Utiliza la función $\\texttt{rdnd}$, para obtener la representación de los siguintes números considerando un truncamiento a 4 dígitos.\n",
    "\n",
    "a)$\\pi$ $\\quad$ b) $124.036$ $\\quad$  c) $5/3$"
   ]
  },
  {
   "cell_type": "code",
   "execution_count": null,
   "metadata": {
    "deletable": false,
    "id": "IH14VwC9lMOG",
    "nbgrader": {
     "cell_type": "code",
     "checksum": "ef92e0f800b8f2e2802c177a4ac12133",
     "grade": false,
     "grade_id": "cell-408fa4db7fcdb0b8",
     "locked": false,
     "schema_version": 3,
     "solution": true,
     "task": false
    },
    "outputId": "a449833b-e0c0-4c37-e492-4f043cf66c69"
   },
   "outputs": [],
   "source": [
    "#(a)\n",
    "# YOUR CODE HERE\n",
    "raise NotImplementedError()"
   ]
  },
  {
   "cell_type": "code",
   "execution_count": null,
   "metadata": {
    "deletable": false,
    "id": "IfOFEMD5lMT7",
    "nbgrader": {
     "cell_type": "code",
     "checksum": "4c925da1cd32f027fe5e1f28df6c1ec3",
     "grade": false,
     "grade_id": "cell-9ed201d27585d9eb",
     "locked": false,
     "schema_version": 3,
     "solution": true,
     "task": false
    },
    "outputId": "b2ff70af-662c-4061-812b-fc59b27b172a"
   },
   "outputs": [],
   "source": [
    "#(b)\n",
    "# YOUR CODE HERE\n",
    "raise NotImplementedError()"
   ]
  },
  {
   "cell_type": "code",
   "execution_count": null,
   "metadata": {
    "deletable": false,
    "id": "4OfHqm1PlMdx",
    "nbgrader": {
     "cell_type": "code",
     "checksum": "0f46fb8324adc0ce1fa800da773d1166",
     "grade": false,
     "grade_id": "cell-282d68a05fdd0ace",
     "locked": false,
     "schema_version": 3,
     "solution": true,
     "task": false
    },
    "outputId": "644948f4-7f6b-4798-9051-d33cae93bc0e"
   },
   "outputs": [],
   "source": [
    "#(c)\n",
    "# YOUR CODE HERE\n",
    "raise NotImplementedError()"
   ]
  },
  {
   "cell_type": "markdown",
   "metadata": {
    "deletable": false,
    "editable": false,
    "id": "E7wdiJ3elfFL",
    "nbgrader": {
     "cell_type": "markdown",
     "checksum": "15269442f024a5f7e32dd09f9a245d1c",
     "grade": false,
     "grade_id": "cell-fde46f295c69abe3",
     "locked": true,
     "schema_version": 3,
     "solution": false,
     "task": false
    }
   },
   "source": [
    "# Aritemetica de punto flotante\n",
    "\n",
    "Consideremos la siguiente función: $f(x)=x^3-6.1x^2+3.2x+1.5$, evaluada en $f(4.71)$. Si estamos trabajando con una representación de punto flotante de los números, entonces, para cada una de las operaciones relizadas en la evaluación de dicha función se obtienen resultados aproximados, de acuerdo con los dígitos con los que contemos para representar los resultados. A continuación, se muestra cómo se vería la evaluación de la función $f$ de forma exacta, con truncamiento de 3 dígitos y con redondeo de 3 dígitos.\n",
    "$$Exacta: \\quad f(4.71)=104.487111-135.32301+15.072+1.5=-14.263899$$\n",
    "$$Truncamiento: \\quad f(4.71)=104.-134.+15.0+1.50=-13.5 \\quad \\qquad \\qquad$$\n",
    "$$Redondeo: \\quad f(4.71)=105.-135.+15.1+1.50=-13.4 \\quad \\qquad \\qquad \\qquad$$"
   ]
  },
  {
   "cell_type": "markdown",
   "metadata": {
    "deletable": false,
    "editable": false,
    "id": "PAMu8aBVlsyB",
    "nbgrader": {
     "cell_type": "markdown",
     "checksum": "ff16083d956f61d9a99f26cf40ff2ccb",
     "grade": false,
     "grade_id": "cell-15f3f7a63fda5abb",
     "locked": true,
     "schema_version": 3,
     "solution": false,
     "task": false
    }
   },
   "source": [
    "#### Ejemplo: Aritmética Flotante \n",
    "\n",
    "Reproduce, usando código de python, la evaluación de $f$ de usando aritmética de truncamiento de 3 dígitos."
   ]
  },
  {
   "cell_type": "code",
   "execution_count": null,
   "metadata": {
    "id": "F46LIPyLlr-4",
    "outputId": "619cafa2-5d5d-4b84-c103-b2f7263e667f"
   },
   "outputs": [],
   "source": [
    "# f(x) usando truncamiento\n",
    "x=4.71\n",
    "eval_f=truncar( truncar(x**3,3) - truncar( 6.1*truncar(x**2,3), 3) + truncar(3.2*x,3) + 1.5 , 3 )\n",
    "print(eval_f)"
   ]
  },
  {
   "cell_type": "markdown",
   "metadata": {
    "deletable": false,
    "editable": false,
    "id": "pB4pV-TBltnm",
    "nbgrader": {
     "cell_type": "markdown",
     "checksum": "076a9b826de744897ebf58097a34f2bd",
     "grade": false,
     "grade_id": "cell-f707662a7eaaac71",
     "locked": true,
     "schema_version": 3,
     "solution": false,
     "task": false
    }
   },
   "source": [
    "Ejemplo:\n",
    "\n",
    "Reproduce, usando código de python, la evaluación de $f$ de usando aritmética de redondeo de 3 dígitos."
   ]
  },
  {
   "cell_type": "code",
   "execution_count": null,
   "metadata": {
    "id": "vWUDEOWjlt5O",
    "outputId": "d237e7ba-cc79-464b-a7b4-e6a1150996de"
   },
   "outputs": [],
   "source": [
    "x=4.71\n",
    "eval_f=rdnd( rdnd(rdnd(x*x,3)*x,3) - rdnd( 6.1*rdnd(x**2,3), 3) + rdnd(3.2*x,3) + 1.5 , 3 )\n",
    "print(eval_f)"
   ]
  },
  {
   "cell_type": "markdown",
   "metadata": {
    "deletable": false,
    "editable": false,
    "id": "g3DI-fPmmAGH",
    "nbgrader": {
     "cell_type": "markdown",
     "checksum": "a471604f8420e4cd36fada4e4ccf95d3",
     "grade": false,
     "grade_id": "cell-b569a0bfa037b4c6",
     "locked": true,
     "schema_version": 3,
     "solution": false,
     "task": false
    }
   },
   "source": [
    "## Error relativo\n",
    "Con lo abordado en las secciones previas, es claro que, el hecho de que el cálculo de una computadora está limitado, implica que tiene **errores**. El error relativo es una forma de medir el error de un valor real '$y$' con respeto de su aproximación '$fl(y)$' y esta dada por la expresión:\n",
    "\n",
    "$$\\left|\\frac{y-fl(y)}{y}\\right|$$.\n",
    "\n",
    "En muchas ocasiones el valor real '$y$' es un número abstracto que no puede ser representado por una computadora, sin embargo, para fines didácticos consideraremos que el valor real '$y$' es el valor que se obtiene al considerar toda la precicisón (dígitos) de la computadora.\n"
   ]
  },
  {
   "cell_type": "markdown",
   "metadata": {
    "deletable": false,
    "editable": false,
    "id": "TMFVYbXzmDhR",
    "nbgrader": {
     "cell_type": "markdown",
     "checksum": "f4b5c0ea7f16e34eca92269a460042ed",
     "grade": false,
     "grade_id": "cell-882b3185f315e605",
     "locked": true,
     "schema_version": 3,
     "solution": false,
     "task": false
    }
   },
   "source": [
    "Pensemos, de nuevo, en la función $f(x)=x^3-6.1x^2+3.2x+1.5$, evaluada en $f(4.71)$. Como se muestra al inicio de la sección 2.2.1, la evaluación exacta nos da $y=−14.263899$ y de la evaluación usando truncamiento se obtiene $fl(y)=-13.5$.\n",
    "\n",
    "Entonces el error relativo es:\n",
    "$$\\left|\\frac{-14.263899+13.5}{-14.263899}\\right|\\approx 0.05 \\quad Truncamiento $$"
   ]
  },
  {
   "cell_type": "code",
   "execution_count": null,
   "metadata": {
    "id": "cEBlEgsHmUdI",
    "outputId": "07f24d7d-5c13-4690-8fe9-80eed4d1ff3f"
   },
   "outputs": [],
   "source": [
    "#---- Error relativo de truncamiento para f(4.71) ----\n",
    "x=4.71\n",
    "y=x**3-6.1*x**2+3.2*x+1.5 #valor 'exacto'\n",
    "fly=truncar( truncar(x**3,3) - truncar( 6.1*truncar(x**2,3), 3) + truncar(3.2*x,3) + 1.5 , 3 ) #valor aproximado\n",
    "er=abs( (y-fly)/y ) #error relativo\n",
    "print(er)"
   ]
  },
  {
   "cell_type": "markdown",
   "metadata": {
    "deletable": false,
    "editable": false,
    "id": "UNmAzOOimVAk",
    "nbgrader": {
     "cell_type": "markdown",
     "checksum": "dd29f5e836a27fd0ba840fc48cfd5c0e",
     "grade": false,
     "grade_id": "cell-daa7c264ace87ca6",
     "locked": true,
     "schema_version": 3,
     "solution": false,
     "task": false
    }
   },
   "source": [
    "#### Ejercicio: Error relativo\n",
    "\n",
    "Encuentra el error relativo de las siguientes operaciones usando truncamiento a 4 dígitos, para ello creo u ncodigo que lo resuelva:\n",
    "\n",
    "a)$\\pi - \\frac{22}{7}$ $\\quad$ b) $\\left( \\frac{2}{9}\\right) \\left(\\frac{9}{7} \\right)$$\\quad$ "
   ]
  },
  {
   "cell_type": "code",
   "execution_count": null,
   "metadata": {
    "id": "EPLuhbbVmjB_"
   },
   "outputs": [],
   "source": [
    "#----  Error relativo de truncamiento para (a)  ----\n",
    "\n",
    "#Inserta el valor de y para el caso propuesto\n",
    "y=pi-22/7#valor 'exacto'"
   ]
  },
  {
   "cell_type": "code",
   "execution_count": null,
   "metadata": {
    "deletable": false,
    "id": "hFIYl4KymjJJ",
    "nbgrader": {
     "cell_type": "code",
     "checksum": "f89fd738bb941bea9be5338145e9bc91",
     "grade": false,
     "grade_id": "cell-78c6cd0333fb0bd5",
     "locked": false,
     "schema_version": 3,
     "solution": true,
     "task": false
    },
    "outputId": "792eab82-27dc-442b-c2a8-31cedb87b6b4"
   },
   "outputs": [],
   "source": [
    "#Continuando con el problema, el valor flotante sera:\n",
    "fly=truncar( truncar(pi,4)-truncar(22/7,4) , 4 )#valor aproximado con truncamiento\n",
    "\n",
    "#Define el valor del error relativo, con \"er\" la variabel a imprimir\n",
    "# YOUR CODE HERE\n",
    "raise NotImplementedError()\n",
    "print(er)"
   ]
  },
  {
   "cell_type": "markdown",
   "metadata": {
    "deletable": false,
    "editable": false,
    "id": "LF2WbKRoDgFQ",
    "nbgrader": {
     "cell_type": "markdown",
     "checksum": "00f396dc17b2e9d7f29d4c9c3dbe5fd5",
     "grade": false,
     "grade_id": "cell-cc74cadad5c18b99",
     "locked": true,
     "schema_version": 3,
     "solution": false,
     "task": false
    }
   },
   "source": [
    "Para la parte b), definiremos de manera total una función \"def\" en la cual resolvera para el error relativo"
   ]
  },
  {
   "cell_type": "code",
   "execution_count": null,
   "metadata": {
    "deletable": false,
    "id": "EL9BZS3gm8da",
    "nbgrader": {
     "cell_type": "code",
     "checksum": "4ce1f98c2963638538c12db46216fbf0",
     "grade": false,
     "grade_id": "cell-7002d6a0210062be",
     "locked": false,
     "schema_version": 3,
     "solution": true,
     "task": false
    }
   },
   "outputs": [],
   "source": [
    "#--- Error relativo de truncamiento para (b)  ----\n",
    "def ejerciciob():\n",
    "    #Escribe un codigo donde sea capaz de redondear la suma de tres numeros a dos digitos despues del punto\n",
    "    # YOUR CODE HERE\n",
    "    raise NotImplementedError()"
   ]
  },
  {
   "cell_type": "code",
   "execution_count": null,
   "metadata": {
    "id": "zIVGmV3XDgFS",
    "outputId": "21a39c33-b7d2-4f24-8971-a09a0f7017c5"
   },
   "outputs": [],
   "source": [
    "ejerciciob()"
   ]
  },
  {
   "cell_type": "code",
   "execution_count": null,
   "metadata": {
    "deletable": false,
    "editable": false,
    "id": "32uIKlPFDgFS",
    "nbgrader": {
     "cell_type": "code",
     "checksum": "a1ad92ad5ebdd30c01e09607dded8b9d",
     "grade": true,
     "grade_id": "cell-457f0ae2f5d6c742",
     "locked": true,
     "points": 3,
     "schema_version": 3,
     "solution": false,
     "task": false
    }
   },
   "outputs": [],
   "source": [
    "assert ejerciciob() == 0.0007499999999998341, \"Error en el resultado, revisa tu función\"\n",
    "\n",
    "print(\"El ejercicio pasa la prueba\")"
   ]
  },
  {
   "cell_type": "markdown",
   "metadata": {
    "deletable": false,
    "editable": false,
    "id": "LKfPW8X1wn68",
    "nbgrader": {
     "cell_type": "markdown",
     "checksum": "313ee49dc01ba62034873c87ea8bd1b5",
     "grade": false,
     "grade_id": "cell-9c13226e08808db3",
     "locked": true,
     "schema_version": 3,
     "solution": false,
     "task": false
    }
   },
   "source": [
    "#### Recálculo de f(x) con expresión factorizada\n",
    "\n",
    "Retomemos, una vez más, la función $f(x)=x^3-6.1x^2+3.2x+1.5$, si factorizamos algunos términos, podemos reexpressar la función como: $ f(x)=((x-6.1)x+3.2)x+1.5$. Ambas expresiones de $f$ son algebráicamente equivalentes; sin embargo, la pregunta es si obtendremos el mismo error relativo que obtuvimos anteriormente, al comienzo de la sección 2.1.3.\n",
    "\n",
    "Recalculando, empleando la expresión factorizada tenemos:\n",
    "$$Truncamiento: \\quad f(4.71)=((4.71-6.1)(4.71)+3.2)(4.71)+1.5=-14.2$$\n",
    "$$Redondeo: \\quad f(4.71)=((4.71-6.1)(4.71)+3.2)(4.71)+1.5=-14.3$$\n",
    "Así,los errores relativos seran:\n",
    "$$\\left|\\frac{-14.263899+14.2}{-14.263899}\\right|\\approx 0.0045 \\quad Truncamiento $$\n",
    "$$\\left|\\frac{-14.263899+14.3}{-14.263899}\\right|\\approx 0.0025 \\quad Redondeo $$\n",
    "De este ejemplo podemos concluir que nuestros resultados han disminuido un orden de magnitud si factorizamos nuestros los valores a evaluar."
   ]
  },
  {
   "cell_type": "markdown",
   "metadata": {
    "deletable": false,
    "editable": false,
    "id": "n2a90sBbwo4Z",
    "nbgrader": {
     "cell_type": "markdown",
     "checksum": "1341d310df94209c8719576611475154",
     "grade": false,
     "grade_id": "cell-79efcb0e0e10a154",
     "locked": true,
     "schema_version": 3,
     "solution": false,
     "task": false
    }
   },
   "source": [
    "#### Ejemplo : Error elativo\n",
    "Usa código de python para realizar los cálculos anteriores con redondeo de 3 dígitos."
   ]
  },
  {
   "cell_type": "code",
   "execution_count": null,
   "metadata": {
    "deletable": false,
    "id": "Qqa1HSgKws-B",
    "nbgrader": {
     "cell_type": "code",
     "checksum": "c24a829c2e10f8abd295ac81f93bff8c",
     "grade": false,
     "grade_id": "cell-3291eb62c78d10f2",
     "locked": false,
     "schema_version": 3,
     "solution": true,
     "task": false
    }
   },
   "outputs": [],
   "source": [
    "#----  Error relativo de redondeo  ----\n",
    "def ErrorRelativo():\n",
    "    # YOUR CODE HERE\n",
    "    raise NotImplementedError()\n",
    "    return er"
   ]
  },
  {
   "cell_type": "code",
   "execution_count": null,
   "metadata": {
    "id": "F_KPFUpaDgFU",
    "outputId": "84d35b74-42d5-465c-efae-af8256a8c5b1"
   },
   "outputs": [],
   "source": [
    "ErrorRelativo()"
   ]
  },
  {
   "cell_type": "code",
   "execution_count": null,
   "metadata": {
    "deletable": false,
    "editable": false,
    "id": "bOfQ3QRPDgFV",
    "nbgrader": {
     "cell_type": "code",
     "checksum": "1ca01af9d61b7e3789bea4c530ee505d",
     "grade": true,
     "grade_id": "cell-41ec51e939e03233",
     "locked": true,
     "points": 3,
     "schema_version": 3,
     "solution": false,
     "task": false
    }
   },
   "outputs": [],
   "source": [
    "assert ErrorRelativo() == 0.0025309349147810893, \"Error en el resultado, revisa tu función\"\n",
    "\n",
    "print(\"El ejercicio pasa la prueba\")"
   ]
  },
  {
   "cell_type": "markdown",
   "metadata": {
    "id": "Cqr3uOUvDgFV"
   },
   "source": [
    "El código se ha definido como un todo, sin independencia de variables $y$ y $x$, ¿creés posible definir una función llamada \"ErrorRelativo\" la cual tenga dependencia de parametros como $[x,y,...]$ ? para mejorar su funcionabilidad?"
   ]
  },
  {
   "cell_type": "code",
   "execution_count": null,
   "metadata": {
    "id": "PfwRDp6uDgFV"
   },
   "outputs": [],
   "source": [
    "# Eres libre de intentarlo..."
   ]
  },
  {
   "cell_type": "markdown",
   "metadata": {
    "deletable": false,
    "editable": false,
    "id": "pMakbVZDw2Ip",
    "nbgrader": {
     "cell_type": "markdown",
     "checksum": "818e068666053891944b532767b6bb05",
     "grade": false,
     "grade_id": "cell-5d51db22bdc4dcbe",
     "locked": true,
     "schema_version": 3,
     "solution": false,
     "task": false
    }
   },
   "source": [
    "# Ejercicios Finales\n",
    "\n",
    "Ejercicio a):\n",
    "\n",
    "Explica brevemente, ¿por qué las siguientes evaluaciones lógicas, mostradas en la introducción, dan resultados erróneos?\n",
    "\n",
    "* $(\\sqrt(3))^2=3$\n",
    "* $(0.1+0.1+0.1) = 0.3$\n",
    "* $ 0.9999999999999999999 < 1.0 $"
   ]
  },
  {
   "cell_type": "markdown",
   "metadata": {
    "deletable": false,
    "editable": false,
    "id": "kXK5uPWjw2yZ",
    "nbgrader": {
     "cell_type": "markdown",
     "checksum": "632e3485ffdf7fb03ba43a1d274f46ee",
     "grade": false,
     "grade_id": "cell-a7e58813c34f453a",
     "locked": true,
     "schema_version": 3,
     "solution": false,
     "task": false
    }
   },
   "source": [
    "Ejercicio b):\n",
    "\n",
    "El hecho que $ 0.9999999999999999999 < 1.0 $ de como resultado $\\textbf{False}$, ¿se explica por una representación de punto flotante de redondeo o de truncamiento? ¿Por qué?"
   ]
  },
  {
   "cell_type": "markdown",
   "metadata": {
    "deletable": false,
    "editable": false,
    "id": "xW3H-xI0w72G",
    "nbgrader": {
     "cell_type": "markdown",
     "checksum": "f7bd76319c0c3e2708a756a6b864e35f",
     "grade": false,
     "grade_id": "cell-d12389b828eea555",
     "locked": true,
     "schema_version": 3,
     "solution": false,
     "task": false
    }
   },
   "source": [
    "Ejercicio c):\n",
    "\n",
    "Dados dos puntos $(x_0,y_0)$ y $(x_1,y_1)$ que definen una recta, tal que $y_1 \\neq y_0$, se tienen dos fórmulas para encontrar la intersección-$x$:\n",
    "\n",
    "$x=\\frac{x_0 y_1 - x_1 y_0}{y_1-y_0}   \\quad \\quad , \\quad \\quad x=x_0-\\frac{(x_1-x_0)y_0}{y_1-y_0} $\n",
    "\n",
    "Usa los puntos $(x_0 , y_0 ) = (1.31, 3.24)$ y $(x_1 , y_1 ) = (1.93, 4.76)$ así como aritmética de redondeo de 3 dígitos para determinar qué método es mejor. ¿ A qué crees que se deba esta diferencia ?"
   ]
  },
  {
   "cell_type": "markdown",
   "metadata": {
    "id": "43GTH0lkUiRd"
   },
   "source": [
    "<center>\n",
    "<img src=\"https://github.com/jugernaut/Prometeo/blob/desarrollo/Figuras/gracias.png?raw=1\" width=\"600\"> \n",
    "</center>"
   ]
  }
 ],
 "metadata": {
  "colab": {
   "collapsed_sections": [],
   "name": "AfterClass01_NumeroFlotanteyUnidadDeRedondeov3Profesor.ipynb",
   "provenance": [],
   "toc_visible": true
  },
  "kernelspec": {
   "display_name": "Python 3 (ipykernel)",
   "language": "python",
   "name": "python3"
  },
  "language_info": {
   "codemirror_mode": {
    "name": "ipython",
    "version": 3
   },
   "file_extension": ".py",
   "mimetype": "text/x-python",
   "name": "python",
   "nbconvert_exporter": "python",
   "pygments_lexer": "ipython3",
   "version": "3.8.10"
  }
 },
 "nbformat": 4,
 "nbformat_minor": 1
}
