{
  "cells": [
    {
      "cell_type": "markdown",
      "metadata": {
        "id": "view-in-github",
        "colab_type": "text"
      },
      "source": [
        "<a href=\"https://colab.research.google.com/github/jugernaut/AnalisisNumerico/blob/desarrollo/01_AritmeticaPuntoFlotante/PreAritmeticaFlotanteEstudiante.ipynb\" target=\"_parent\"><img src=\"https://colab.research.google.com/assets/colab-badge.svg\" alt=\"Open In Colab\"/></a>"
      ]
    },
    {
      "cell_type": "markdown",
      "metadata": {
        "deletable": false,
        "editable": false,
        "id": "wQUx70fo1Ghp",
        "nbgrader": {
          "cell_type": "markdown",
          "checksum": "9728cac940bec66536e1912a245c3c61",
          "grade": false,
          "grade_id": "cell-e78e615406853e83",
          "locked": true,
          "schema_version": 3,
          "solution": false,
          "task": false
        }
      },
      "source": [
        "<font color=\"Teal\" face=\"Comic Sans MS,arial\">\n",
        "  <h1 align=\"center\"><i>Aritmética de punto flotante</i></h1>\n",
        "  </font>\n",
        "  <font color=\"Black\" face=\"Comic Sans MS,arial\">\n",
        "  <h5 align=\"center\"><i>Profesora: \tUrsula Xiomara Iturrarán Viveros</i></h5>\n",
        "    <h5 align=\"center\"><i>Ayudante: Juan Pablo Cordero Santiago</i></h5>\n",
        "  <h5 align=\"center\"><i>Materia: Análisis Numérico</i></h5>\n",
        "</font>"
      ]
    },
    {
      "cell_type": "markdown",
      "metadata": {
        "deletable": false,
        "editable": false,
        "id": "0PSr9b03qaOC",
        "nbgrader": {
          "cell_type": "markdown",
          "checksum": "3f8508b48d37a0f62a96eb6aee39185e",
          "grade": false,
          "grade_id": "cell-3eb9f120a746c5a9",
          "locked": true,
          "schema_version": 3,
          "solution": false,
          "task": false
        }
      },
      "source": [
        "### Introducción\n",
        "La aritmética realizada por una computadora es diferente a nuestro álgebra que utilizamos día a día, por ejemplo cuando **sumamos** $3+6=9$, o **multiplicamos** $5 \\times 6 = 30$ no hay ningún problema, pero al realizar operaciones como **raíces** y **exponentes** $(\\sqrt(3))^2=3$ no necesariamente obtendremos lo mismo de una computadora.\n",
        "\n",
        "De manera computacional: cada número esta representado unicamente por un valor fijo de dígitos. Por ejemplo; solo los **números racionales** y **no pares** pueden ser expresados  exactamente. Entonces retomando el caso de $\\sqrt(3)$, este es un **número no racional** y estará representado en una computadora por un número fijo de dígitos, estos logrando una buena aproximación, pero tenemos casos donde esta discrepancia se incrementa de manera indeseable.\n",
        "\n",
        "Para ello analizemos los siguientes ejercicios de igualdad:"
      ]
    },
    {
      "cell_type": "code",
      "execution_count": null,
      "metadata": {
        "id": "RCMsHPDPQSST"
      },
      "outputs": [],
      "source": [
        "(0.1+0.1+0.1) == 0.3"
      ]
    },
    {
      "cell_type": "markdown",
      "metadata": {
        "deletable": false,
        "editable": false,
        "id": "8g63QunZQnij",
        "nbgrader": {
          "cell_type": "markdown",
          "checksum": "a0d8a2650e870d5ae90d46f99f2bc07c",
          "grade": false,
          "grade_id": "cell-bbfb5051f18c290d",
          "locked": true,
          "schema_version": 3,
          "solution": false,
          "task": false
        }
      },
      "source": [
        " <center> ¿Estas de acuerdo con la respuesta? ¿Qué crees que este pasando?</center>\n",
        "\n",
        " <center> Analicemos el caso ahora de $\\sqrt(3))^2=3$  </center>"
      ]
    },
    {
      "cell_type": "code",
      "execution_count": null,
      "metadata": {
        "id": "WfCFdWHsRPJ4"
      },
      "outputs": [],
      "source": [
        "( (3)**(0.5) )**(2) == 3"
      ]
    },
    {
      "cell_type": "markdown",
      "metadata": {
        "deletable": false,
        "editable": false,
        "id": "EHLonNcoqVeQ",
        "nbgrader": {
          "cell_type": "markdown",
          "checksum": "91e9339c22884ac79fdcad433fd4d9de",
          "grade": false,
          "grade_id": "cell-28ba3d6b4bbe37e3",
          "locked": true,
          "schema_version": 3,
          "solution": false,
          "task": false
        }
      },
      "source": [
        "## Número en una computadora (64-Bits)\n",
        "Una computadora funciona en base a dos dígitos **0** o **1**. Consideremos el siguiente ejemplo de 64 bits:\n",
        "\n",
        "$$ \\underset{Signo}{\\underbrace{0}} \\quad \\underset{Parte Entera}{\\underbrace{10000000011}} \\quad \\underset{Parte Fraccionaria}{\\underbrace{1011100100010000000000000000000000000000000000000000}},$$\n",
        "\n",
        "\n",
        "el primer dígito indica el signo y se denota como $s$, los siguientes $11$ dígitos se denotan como $c$ y representan un exponente y los otros $54$ son la parte fraccionaria $f$:\n",
        "\n",
        "$$(-1)^s2^{c-1023}(1+f)$$\n",
        "\n",
        "el $1$ que se suma a la parte fraccionaria tiene que ver con el concepto de **bit implícito**, que veremos más adelante.\n",
        "\n",
        "Desarrollando el ejemplo pasado, obtenemos que: $s$ es cero indicando que el número es positivo, para $c$ cada dígito representa el factor multiplicando a la potencia del número $2$ elevado a la posición donde se encuentra:\n",
        "\n",
        "$$c= 1 \\cdot 2^{10}+0 \\cdot 2^{9}+\\cdot \\cdot \\cdot +0 \\cdot 2^{2}+1 \\cdot 2^{1}+1 \\cdot 2^{0}=1024+2+1=1027$$\n",
        "\n",
        "$f$ representa la parte fraccionaria del número, tambien denominada mantisa y está expresada como:\n",
        "\n",
        "$$f=1\\cdot\\left(\\frac{1}{2}\\right)^1+0\\cdot\\left(\\frac{1}{2}\\right)^2+1\\cdot\\left(\\frac{1}{2}\\right)^3+1\\cdot\\left(\\frac{1}{2}\\right)^4+1\\cdot\\left(\\frac{1}{2}\\right)^5+\\cdot\\cdot\\cdot1\\cdot\\left(\\frac{1}{2}\\right)^8 +\\cdot\\cdot\\cdot1\\cdot\\left(\\frac{1}{2}\\right)^{12}+\\cdot\\cdot\\cdot$$\n",
        "\n",
        "donde de nuevo la posición del dígito indica la potencia de la fracción. Finalmente obtenemos que:\n",
        "\n",
        "$$ \\quad(-1)^s2^{c-1023}(1+f)=(-1)^02^{1027-1023}\\left(1+\\frac{1}{2}+\\frac{1}{8}+\\frac{1}{16}+\\frac{1}{32}+\\frac{1}{256}+\\frac{1}{4096}\\right)$$\n",
        "\n",
        "$$(-1)^s2^{c-1023}(1+f)= 16 \\cdot (1.722900391)$$\n",
        "\n",
        "$$(-1)^s2^{c-1023}(1+f)= 27.56640625$$"
      ]
    },
    {
      "cell_type": "markdown",
      "metadata": {
        "deletable": false,
        "editable": false,
        "id": "E6xA2WFjoIaC",
        "nbgrader": {
          "cell_type": "markdown",
          "checksum": "c693638fd1ca1af20d170aa4a4d7b629",
          "grade": false,
          "grade_id": "cell-048589a583d0d617",
          "locked": true,
          "schema_version": 3,
          "solution": false,
          "task": false
        }
      },
      "source": [
        "### Limitaciones\n",
        "\n",
        "Calculemos los dos número más cercanos a nuestro ejemplo, para el más pequeño cambiamos nuestro último $1$ a $0$ y todos los números a continuación a $1$, obteniendo:\n",
        "\n",
        "$$0 \\quad 10000000011 \\quad 1011100100001111111111111111111111111111111111111111$$\n",
        "\n",
        "y para el valor más grande, solo cambiamos el último $0$ a $1$:\n",
        "\n",
        "$$0 \\quad 10000000011 \\quad 1011100100010000000000000000000000000000000000000001$$\n",
        "\n",
        "Esto implica que nuestro número calculado no solo representa ese valor, si no la mitad de números reales entre $27.56640625$ y sus dos números más cercanos.\n",
        "\n",
        "Marco En pocas palabras esto significa que su pudiéramos ubicar estos 3 valores en la recta numérica, podríamos ver que hay mucho espacio entre ellos, y eso se traduce en que **no sería posible representar un valor que se encuentre en estos huecos**."
      ]
    },
    {
      "cell_type": "markdown",
      "metadata": {
        "deletable": false,
        "editable": false,
        "id": "tThAmp3WVtMN",
        "nbgrader": {
          "cell_type": "markdown",
          "checksum": "9f7942b1046d4c964ed21f643d687a9f",
          "grade": false,
          "grade_id": "cell-9641fa41b7a86af4",
          "locked": true,
          "schema_version": 3,
          "solution": false,
          "task": false
        }
      },
      "source": [
        "## Notación Decimal\n",
        "\n",
        "Veamos como se construye un valor en notación **decimal** ($\\beta=10$);\n",
        "\n",
        "$$\\pm0.d_1 d_2 \\cdot \\cdot \\cdot d_k \\times 10^n, \\quad 1< d_1 < 9, \\quad 0 < d_i < 9$$\n",
        "\n",
        "para cada $i=2,...,k.$ \n",
        "\n",
        "Cualquier número real y positivo en el rango de la computadora puede ser normalizado para ser expresado como:\n",
        "\n",
        "$$\\pm0.d_1 d_2 \\cdot \\cdot \\cdot d_k d_{k+1} d_{k+2} \\cdot \\cdot \\cdot \\times 10^n$$"
      ]
    },
    {
      "cell_type": "markdown",
      "metadata": {
        "deletable": false,
        "editable": false,
        "id": "ePR2k6RBXtQ2",
        "nbgrader": {
          "cell_type": "markdown",
          "checksum": "0126a243758e4fa72f9da085a31f7e5c",
          "grade": false,
          "grade_id": "cell-e94a8568552b2dc1",
          "locked": true,
          "schema_version": 3,
          "solution": false,
          "task": false
        }
      },
      "source": [
        "## Notación de punto flotante (truncamiento y redondeo)\n",
        "\n",
        "Se denota como $fl(y)$ y se obtiene delimitando el tamaño de la **mantisa**, una de ellas puede ser simplemente **truncando** en el término $d_{k+1}$:\n",
        "\n",
        "$$ fl(y) = 0.d_1 d_2 \\cdot  \\cdot  \\cdot \\times 10^n$$\n",
        "\n",
        "otra manera es **redondeando**, si el dígito $k+1$ es menor a cinco, cortamos, obteniendo el mismo resultado, pero si este es cinco o mayor, se agrega el valor de uno al $k$-ésimo término.\n",
        "\n",
        "$$fl(y)=\\pm 0.d_{1}d_{2}...\\tilde{d_{k}}\\times10^{n} \\qquad \\tilde{d_{k}}=\\begin{cases}\n",
        "\\begin{array}{c}\n",
        "d_{k} \\quad si\\,d_{k+1}<10/2\\\\\n",
        "d_{k}+1 \\quad si\\,d_{k+1}\\geq 10/2\n",
        "\\end{array}\\end{cases}$$"
      ]
    },
    {
      "cell_type": "markdown",
      "metadata": {
        "deletable": false,
        "editable": false,
        "id": "Gx00UlJmwwkz",
        "nbgrader": {
          "cell_type": "markdown",
          "checksum": "9a2dbf273d048fe2b75a5cc1cd5f43d1",
          "grade": false,
          "grade_id": "cell-c249cf1775acec42",
          "locked": true,
          "schema_version": 3,
          "solution": false,
          "task": false
        }
      },
      "source": [
        "###  Limitaciones en *Python*\n",
        "\n",
        "Empleando la versión de *Python* que usa *google colab* por default, responde las siguientes preguntas y actividades:\n",
        "\n",
        "*   ¿Qué tipo de precisión se emplea en *python*?.\n",
        "*   ¿Por qué la operación de la celda inferior devuelve `False`, aunque claramente debería devolver `True`?.\n",
        "*   La función `round()` se emplea para redondear un valor a un cierto número de cifras significativas. Modifica el segundo *prtint* de la celda inferior para que el resultado sea `True`."
      ]
    },
    {
      "cell_type": "code",
      "execution_count": null,
      "metadata": {
        "deletable": false,
        "id": "YM488a98w1bw",
        "nbgrader": {
          "cell_type": "code",
          "checksum": "f6099bacdf8112c59d09508706f736fb",
          "grade": false,
          "grade_id": "cell-2179c16f0d85b6f8",
          "locked": false,
          "schema_version": 3,
          "solution": true,
          "task": false
        }
      },
      "outputs": [],
      "source": [
        "print(.1 + .1 + .1 == .3)\n",
        "\n",
        "print(round(.1, 1) + round(.1, 1) + round(.1, 1) == round(.3, 1))\n",
        "\n",
        "# YOUR CODE HERE\n",
        "raise NotImplementedError()"
      ]
    },
    {
      "cell_type": "markdown",
      "metadata": {
        "deletable": false,
        "editable": false,
        "nbgrader": {
          "cell_type": "markdown",
          "checksum": "b5b742e2cc2e5d3432b662d0968bd196",
          "grade": false,
          "grade_id": "cell-ecae02f3d7425fea",
          "locked": true,
          "schema_version": 3,
          "solution": false,
          "task": false
        },
        "id": "QGYsmHdhi9o8"
      },
      "source": [
        "### Ejercicio\n",
        "\n",
        "Define una función llamada `SumRound(a,b,c)` que sea capaz de redondear la suma de $a+b+c$ a dos dígitos después del punto decimal."
      ]
    },
    {
      "cell_type": "code",
      "execution_count": null,
      "metadata": {
        "deletable": false,
        "id": "ntl0YrtHPboF",
        "nbgrader": {
          "cell_type": "code",
          "checksum": "9dbf92d813453d231caf31a270f6de40",
          "grade": false,
          "grade_id": "cell-39a456858bbf6cf4",
          "locked": false,
          "schema_version": 3,
          "solution": true,
          "task": false
        }
      },
      "outputs": [],
      "source": [
        "def SumRound(a,b,c):\n",
        "    #Escribe un codigo donde sea capaz de redondear la suma de tres numeros a dos digitos despues del punto\n",
        "    # YOUR CODE HERE\n",
        "    raise NotImplementedError()"
      ]
    },
    {
      "cell_type": "markdown",
      "metadata": {
        "deletable": false,
        "editable": false,
        "id": "QWQ6I3QKPboG",
        "nbgrader": {
          "cell_type": "markdown",
          "checksum": "a0ae9febc458fd8943fe305be9f0a782",
          "grade": false,
          "grade_id": "cell-ca06b53f6dba3642",
          "locked": true,
          "schema_version": 3,
          "solution": false,
          "task": false
        }
      },
      "source": [
        "Vamos a comprobar que la función previamente definida es la correcta."
      ]
    },
    {
      "cell_type": "code",
      "execution_count": null,
      "metadata": {
        "id": "kvs6p0zjPboG"
      },
      "outputs": [],
      "source": [
        "SumRound(0.001,2.1,-2.1)\n",
        "#0.001+2.1-2.1 = 0.001"
      ]
    },
    {
      "cell_type": "code",
      "execution_count": null,
      "metadata": {
        "deletable": false,
        "editable": false,
        "id": "UIK3_8L9PboG",
        "nbgrader": {
          "cell_type": "code",
          "checksum": "940bf866ad55bf56319d680ba47e9ece",
          "grade": true,
          "grade_id": "cell-17b2aa31e64bc5a1",
          "locked": true,
          "points": 3,
          "schema_version": 3,
          "solution": false,
          "task": false
        }
      },
      "outputs": [],
      "source": [
        "\"\"\"Verificando el resultado obtenido con la función SumRound(a,b,c)\"\"\"\n",
        "assert (SumRound(0.111,10.1,0.1) == 10.31 and SumRound(0.1,0.1,0.1) == 0.3 and \n",
        "        SumRound(0.001,2.1,-2.1) == 0.0), \"Error en el resultado, revisa tu función\"\n",
        "\n",
        "print(\"La funcion SumRound pasa la prueba\")"
      ]
    },
    {
      "cell_type": "markdown",
      "metadata": {
        "deletable": false,
        "editable": false,
        "id": "6svVvyrE5dNR",
        "nbgrader": {
          "cell_type": "markdown",
          "checksum": "8ee397c4d364e7272d37f8405edf7ddb",
          "grade": false,
          "grade_id": "cell-06991c30ccae9c80",
          "locked": true,
          "schema_version": 3,
          "solution": false,
          "task": false
        }
      },
      "source": [
        "## Aritmética de punto flotante (Error en cómputo científico)\n",
        "\n",
        "Con lo abordado en los temas previos, es claro que el cálculo de una computadora está limitado, lo cual implica que tiene **errores**. Uno de estos errores es el aproximar un número en su forma de punto flotante ya sea por **redondeo** o **truncamiento**.\n",
        "\n",
        "Es por este motivo que es importante conocer las diferentes formas de medir la magnitud de un error. Sea $fl(x)$ el número de máquina generado en el sistema $\\mathcal F$ asociado al valor real $x$, tendremos 2 formas de evaluar la magnitud del error."
      ]
    },
    {
      "cell_type": "markdown",
      "metadata": {
        "deletable": false,
        "editable": false,
        "id": "uzbeMDwP7rq4",
        "nbgrader": {
          "cell_type": "markdown",
          "checksum": "5ba24a969769ff7624bc8678a06a3a63",
          "grade": false,
          "grade_id": "cell-b14fd45952a9c2f8",
          "locked": true,
          "schema_version": 3,
          "solution": false,
          "task": false
        }
      },
      "source": [
        "### Error relativo\n",
        "Esta forma de medir el error de un valor real con respeto de su aproximación considera la magnitud del valor real, y esta dada por la expresión.\n",
        "\n",
        "$$\\left|\\frac{y-fl(y)}{y}\\right|$$\n",
        "\n",
        "De la expresión anterior podemos ver que esta normalizada, de modo que podemos generar la diferencia porcentual entre la aproximación y el valor real.\n"
      ]
    },
    {
      "cell_type": "markdown",
      "metadata": {
        "deletable": false,
        "editable": false,
        "id": "nsnSPhae8149",
        "nbgrader": {
          "cell_type": "markdown",
          "checksum": "d539b771be165037f57718f13a197ebc",
          "grade": false,
          "grade_id": "cell-c9e04e0b6fdaceee",
          "locked": true,
          "schema_version": 3,
          "solution": false,
          "task": false
        }
      },
      "source": [
        "### Error absoluto\n",
        "\n",
        "El error absoluto únicamente considera la magnitud de la diferencia entre $y$ y su aproximación $fl(y)$, es decir.\n",
        "\n",
        "$$\\left|y-fl(y)\\right|$$\n",
        "\n",
        "El error absoluto muestra la diferencia entre la aproximación $fl(y)$ y el valor $y$. En otras palabras, existe un número real $\\delta$ que depende de $y$, tal que\n",
        "\n",
        "$$fl(y)=y(1+\\delta)\\quad $$ siendo $$ \\,\\left|\\delta\\right|\\leq u$$\n",
        "\n",
        "Por otra parte, debido a que los números de punto flotante no están igualmente espaciados, es necesario tratar de encontrar una cota para el error absoluto.\n",
        "\n",
        "El error absoluto está acotado por la siguiente expresión.\n",
        "\n",
        "$$\\left|y-fl(y)\\right|\\leq\\frac{1}{2}\\beta^{-n+e}$$"
      ]
    },
    {
      "cell_type": "markdown",
      "metadata": {
        "deletable": false,
        "editable": false,
        "id": "ueMk4P85-XP0",
        "nbgrader": {
          "cell_type": "markdown",
          "checksum": "b276053851f747e26c9f80316ace71bb",
          "grade": false,
          "grade_id": "cell-ec88d39abfa0b0b0",
          "locked": true,
          "schema_version": 3,
          "solution": false,
          "task": false
        }
      },
      "source": [
        "## Ejemplos y ejercicios\n",
        "\n",
        "\n",
        "**1.   Ejemplo:**\n",
        "\n",
        "Calcular el error relativo y absoluto del valor $\\pi=3.14159265...$ al utilizar el método de truncamiento y el de redondeo a cinco dígitos (Hint: para el valor de $y$ utiliza $\\pi$ a cinco dígitos):\n",
        "\n",
        "Por truncamiento $fl(y)=0.31415\\times 10^1$, y para el redondeo tenemos un nueve en el sexto digito, por lo que;\n",
        "$$ fl(y)=(0.31415+0.00001)\\times 10^1=0.31416\\times10^1$$\n",
        "\n",
        "El error absoluto y relativo para el método de truncamiento es cero, mientras que para el caso del redondeo:\n",
        "$$\\left|y-fl(y)\\right|=\\left| 3.1415-3.1416 \\right|=0.0001$$\n",
        "\n",
        "$$\\left|\\frac{y-fl(y)}{y}\\right|=\\left|\\frac{0.0001}{0.31415\\times10^1}\\right|\\approx 0.00031$$\n",
        "\n",
        "**Ejercicios:**\n",
        "\n",
        "\n",
        "Calcula el el error absoluto y relativo para los siguientes casos, redondeando a 4 dígitos el resultado final:\n",
        "\n",
        "\n",
        "a) $y=e, \\quad f(y)=2.718$     $\\qquad \\qquad$   b) $y=e^{10}, \\quad f(y)=1400$\n",
        "\n",
        "c) $y=\\sqrt(2), \\quad f(y)=1.414$   $\\,\\,$ $\\qquad$   d) $y=9!, \\quad f(y)=\\sqrt(18\\pi)(9/e)^9$"
      ]
    },
    {
      "cell_type": "markdown",
      "metadata": {
        "deletable": false,
        "editable": false,
        "id": "OyChikLBPboJ",
        "nbgrader": {
          "cell_type": "markdown",
          "checksum": "0e5de9a6fc406f22944e80ea8e34129d",
          "grade": false,
          "grade_id": "cell-9b0f5e53de4bd489",
          "locked": true,
          "schema_version": 3,
          "solution": false,
          "task": false
        }
      },
      "source": [
        "Ahora de ejercicio crearemos un función que calcule el error absoluto y relativo."
      ]
    },
    {
      "cell_type": "code",
      "execution_count": null,
      "metadata": {
        "deletable": false,
        "id": "rkilQijIPboK",
        "nbgrader": {
          "cell_type": "code",
          "checksum": "779bf43bf997c6a52df5c4de81dbbdec",
          "grade": false,
          "grade_id": "cell-07d543d1aa19ec0f",
          "locked": false,
          "schema_version": 3,
          "solution": true,
          "task": false
        }
      },
      "outputs": [],
      "source": [
        "def ErrorAbsolutoyRelativo(y,f):\n",
        "    import math\n",
        "    #y es el valor y f su aproximacion\n",
        "    #define el valor Relativo, nombre de la variable \"ErrorRelativo\"\n",
        "    # YOUR CODE HERE\n",
        "    raise NotImplementedError()\n",
        "    return round(ErrorRelativo, 4)"
      ]
    },
    {
      "cell_type": "markdown",
      "metadata": {
        "deletable": false,
        "editable": false,
        "id": "RVrVimwmPboK",
        "nbgrader": {
          "cell_type": "markdown",
          "checksum": "d941ed00bd65e5036593aa787936b165",
          "grade": false,
          "grade_id": "cell-262f3ce7e7fa2518",
          "locked": true,
          "schema_version": 3,
          "solution": false,
          "task": false
        }
      },
      "source": [
        "La segunda parte del ejercicio de va a evaluar la función diseñada con los ejemplos propuestos, cada una vale un punto. Procura ejecutar tu código para revisar que funcione correctamente."
      ]
    },
    {
      "cell_type": "code",
      "execution_count": null,
      "metadata": {
        "id": "Zd1DRXLfPboK"
      },
      "outputs": [],
      "source": [
        "from math import e\n",
        "import math\n",
        "ErrorAbsolutoyRelativo(math.factorial(9),math.sqrt(18/math.pi)*(9/e)**9)"
      ]
    },
    {
      "cell_type": "code",
      "execution_count": null,
      "metadata": {
        "deletable": false,
        "editable": false,
        "id": "SGnSBj0UPboM",
        "nbgrader": {
          "cell_type": "code",
          "checksum": "6e00ff66cf580425f20dbf35c41ec365",
          "grade": true,
          "grade_id": "cell-c350336521d99eee",
          "locked": true,
          "points": 4,
          "schema_version": 3,
          "solution": false,
          "task": false
        }
      },
      "outputs": [],
      "source": [
        "from math import e\n",
        "import math\n",
        "\n",
        "\"\"\"Verificando el resultado obtenido con la función ErrorAbsolutoyRelativo(y,f)\"\"\"\n",
        "assert (ErrorAbsolutoyRelativo(e,2.718) == 0.0001 and ErrorAbsolutoyRelativo(math.sqrt(2),1.414) == 0.0002 and \n",
        "        ErrorAbsolutoyRelativo(e**(10),1400) == 0.9364 and\n",
        "        ErrorAbsolutoyRelativo(math.factorial(9),math.sqrt(18/math.pi)*(9/e)**9) == 0.6846), \"Error en el resultado, revisa tu función\"\n",
        "\n",
        "print(\"La funcion ErrorAbsolutoyRelativo pasa la prueba\")"
      ]
    },
    {
      "cell_type": "markdown",
      "metadata": {
        "deletable": false,
        "editable": false,
        "id": "74sdWNFcX_Xv",
        "nbgrader": {
          "cell_type": "markdown",
          "checksum": "7ed4a1b7bae81b8c491dc1fd056b0258",
          "grade": false,
          "grade_id": "cell-574d0a9567921fdd",
          "locked": true,
          "schema_version": 3,
          "solution": false,
          "task": false
        }
      },
      "source": [
        "## Bibliografía\n",
        "1. Numerical Methods, Third Edition, J. Douglas Faires\n",
        "2. Notas del curso de Analisis Numerico, [Git](https://github.com/jugernaut/Numerico2021), Miguel Angel Pérez Leon.\n",
        "3. Riswan Butt: Numerical Analysys Using Matlab, Jones and Bartlett."
      ]
    }
  ],
  "metadata": {
    "colab": {
      "collapsed_sections": [],
      "name": "PreAritmeticaFlotanteEstudiante.ipynb",
      "provenance": [],
      "toc_visible": true,
      "include_colab_link": true
    },
    "kernelspec": {
      "display_name": "Python 3 (ipykernel)",
      "language": "python",
      "name": "python3"
    },
    "language_info": {
      "codemirror_mode": {
        "name": "ipython",
        "version": 3
      },
      "file_extension": ".py",
      "mimetype": "text/x-python",
      "name": "python",
      "nbconvert_exporter": "python",
      "pygments_lexer": "ipython3",
      "version": "3.8.10"
    }
  },
  "nbformat": 4,
  "nbformat_minor": 0
}