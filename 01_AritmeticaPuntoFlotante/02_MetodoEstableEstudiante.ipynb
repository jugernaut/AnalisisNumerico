{
  "cells": [
    {
      "cell_type": "markdown",
      "metadata": {
        "id": "view-in-github",
        "colab_type": "text"
      },
      "source": [
        "<a href=\"https://colab.research.google.com/github/jugernaut/AnalisisNumerico/blob/desarrollo/01_AritmeticaPuntoFlotante/02_MetodoEstableEstudiante.ipynb\" target=\"_parent\"><img src=\"https://colab.research.google.com/assets/colab-badge.svg\" alt=\"Open In Colab\"/></a>"
      ]
    },
    {
      "cell_type": "markdown",
      "id": "1bbc3bff",
      "metadata": {
        "deletable": false,
        "editable": false,
        "nbgrader": {
          "cell_type": "markdown",
          "checksum": "e290683858ddcaccde0bf37f46db5888",
          "grade": false,
          "grade_id": "cell-213723258773d10e",
          "locked": true,
          "schema_version": 3,
          "solution": false,
          "task": false
        },
        "id": "1bbc3bff"
      },
      "source": [
        "<font color=\"Teal\" face=\"Comic Sans MS,arial\">\n",
        "  <h1 align=\"center\"><i>Noción de método numéricamente estable</i></h1>\n",
        "  </font>\n",
        "  <font color=\"Black\" face=\"Comic Sans MS,arial\">\n",
        "  <h5 align=\"center\"><i>Profesora: \tUrsula Xiomara Iturrarán Viveros</i></h5>\n",
        "  <h5 align=\"center\"><i>Ayudante: Juan Pablo Cordero Santiago</i></h5>\n",
        "  <h5 align=\"center\"><i>MACTII: Edgar Dominguez Rosas y José Antonio Borras Gutiérrez</i></h5>\n",
        "  <h5 align=\"center\"><i>Materia: Análisis Numérico</i></h5>\n",
        "  </font>"
      ]
    },
    {
      "cell_type": "code",
      "execution_count": null,
      "id": "34030541",
      "metadata": {
        "id": "34030541"
      },
      "outputs": [],
      "source": [
        "import numpy as np\n",
        "import matplotlib.pyplot as plt"
      ]
    },
    {
      "cell_type": "markdown",
      "id": "b44075f6",
      "metadata": {
        "deletable": false,
        "editable": false,
        "nbgrader": {
          "cell_type": "markdown",
          "checksum": "ba1c3c8cd8c0f193e07ee610c6181caf",
          "grade": false,
          "grade_id": "cell-96817423271a859b",
          "locked": true,
          "schema_version": 3,
          "solution": false,
          "task": false
        },
        "id": "b44075f6"
      },
      "source": [
        "En el análisis numérico, para resolver un problema puede existir más de un método númerico que aproxime la solución y puede preferirse un método sobre otro, dependiendo de las características de dichos métodos. Un algoritmo, puede llegar a la solución en menos iteraciones que otro, por ejemplo. Otra catacterística que resulta clave es la estabilidad numérica, pues cuando un método no es estable se debe tener especial precaución en los valores de entrada que se utilizan. A continuación se muestran una definición y un algoritmo que ilustran el concepto de *método numéricamente estable*."
      ]
    },
    {
      "cell_type": "markdown",
      "id": "e08447fa",
      "metadata": {
        "deletable": false,
        "editable": false,
        "nbgrader": {
          "cell_type": "markdown",
          "checksum": "601d35e451a0ff4a448da00f277e1507",
          "grade": false,
          "grade_id": "cell-a3466ccd7e2f3e63",
          "locked": true,
          "schema_version": 3,
          "solution": false,
          "task": false
        },
        "id": "e08447fa"
      },
      "source": [
        "## Noción de método numéricamente estable\n",
        "\n",
        "Un método, es considerado estable si pequeños cambios (o perturbaciones) en los valores iniciales producen cambios pequeños en el resultado final. Cuando es posible tener pequeños cambios en los valores iniciales, que se traducen a grandes cambios en los resultados finales, el método es inestable. Algunos métodos solo son estables para cierta se selección de datos iniciales, este tipo de métodos se nombran condicionalmente estables."
      ]
    },
    {
      "cell_type": "markdown",
      "id": "3504a57c",
      "metadata": {
        "deletable": false,
        "editable": false,
        "nbgrader": {
          "cell_type": "markdown",
          "checksum": "754adb4a36dcecff9578f3442b113043",
          "grade": false,
          "grade_id": "cell-be565e572df2c065",
          "locked": true,
          "schema_version": 3,
          "solution": false,
          "task": false
        },
        "id": "3504a57c"
      },
      "source": [
        "## Ecuación logística\n",
        "\n",
        "Consideremos, por ejemplo, un algoritmo que calcule la sucesión de números $x_n$ definidos por la siguiente fórmula de recurrencia:\n",
        "\n",
        "\n",
        "$$ x_{n+1} = r x_n \\left( 1 - x_n \\right) $$\n",
        "Con $x \\in [0,1]$ y $r \\in [0,4]$\n",
        "\n",
        "La ecuación anterior es conocida como <*logistic map*> o *ecuación logísitica* y poder describir su comportamiento, en general requiere de un estudio más detallado; sin embargo, por el momento solo tomaremos la fórmula de recurrencia como ejemplo para introducir la noción de método numéricamente estable.\n",
        "\n",
        "Comencemos por calcular los 15 primeros términos de la sucesión que se obtiene si $x_0=0.8$ y $r=2.6$:"
      ]
    },
    {
      "cell_type": "code",
      "execution_count": null,
      "id": "7514dcbf",
      "metadata": {
        "id": "7514dcbf"
      },
      "outputs": [],
      "source": [
        "num_iters=15\n",
        "\n",
        "x=0.8 ; n=0\n",
        "print('x_0={}'.format(x) ) #imprime primer valor\n",
        "while n<num_iters: # sigue con iteraciones siempre que n>num_iters\n",
        "    x_sig=2.6*x*(1-x) #ec. logísitca\n",
        "    x=x_sig  \n",
        "    n=n+1  # n <-- (n+1)\n",
        "    print('x_{}={}'.format(n,x) ) #imprime nuevo valor\n"
      ]
    },
    {
      "cell_type": "markdown",
      "id": "22884ea0",
      "metadata": {
        "deletable": false,
        "editable": false,
        "nbgrader": {
          "cell_type": "markdown",
          "checksum": "4eff94e8ad264ed863a17afd24d8fec7",
          "grade": false,
          "grade_id": "cell-7a738a1d6f12b484",
          "locked": true,
          "schema_version": 3,
          "solution": false,
          "task": false
        },
        "id": "22884ea0"
      },
      "source": [
        "## Ejercicio\n",
        "\n",
        "Modifica el código anterior para que se detenga, no por el número de iteraciones, sino cuando $|x_{n+1}-x_n|<0.0001$"
      ]
    },
    {
      "cell_type": "code",
      "execution_count": null,
      "id": "de8bc40c",
      "metadata": {
        "deletable": false,
        "nbgrader": {
          "cell_type": "code",
          "checksum": "a2c187efef54ac8f2027546a45aebf7f",
          "grade": true,
          "grade_id": "cell-203e8f98fe74522e",
          "locked": false,
          "points": 0,
          "schema_version": 3,
          "solution": true,
          "task": false
        },
        "id": "de8bc40c"
      },
      "outputs": [],
      "source": [
        "# YOUR CODE HERE\n",
        "raise NotImplementedError()"
      ]
    },
    {
      "cell_type": "markdown",
      "id": "e65f647b",
      "metadata": {
        "deletable": false,
        "editable": false,
        "nbgrader": {
          "cell_type": "markdown",
          "checksum": "9c8b9a357ff43975a67c486209981a89",
          "grade": false,
          "grade_id": "cell-9c2b067f07c69d43",
          "locked": true,
          "schema_version": 3,
          "solution": false,
          "task": false
        },
        "id": "e65f647b"
      },
      "source": [
        "Como podemos ver, la sucesión parece estar convergiendo a un número. Para ilustrar mejor este comportamiento podemos graficar estos valores y para ello podemos definir una función que almacene los valores de la sucesión en una lista."
      ]
    },
    {
      "cell_type": "code",
      "execution_count": null,
      "id": "d44be3f1",
      "metadata": {
        "id": "d44be3f1"
      },
      "outputs": [],
      "source": [
        "def logmapN(x0,r,N):\n",
        "    x=x0 # valor inicial x0\n",
        "    suc_x=[x] #inicia la lista suc_x con el valor de x\n",
        "    for i in range(N): # comienza iteración\n",
        "        x_sig=r*x*(1-x) #ec. logística\n",
        "        x=x_sig         \n",
        "        suc_x.append(x) #el nuevo valor se anexa a la lista\n",
        "    return np.array(suc_x)\n",
        "\n",
        "x0=0.8 ; r=2.6 ;  num_iters=10\n",
        "logmapN(x0,r,num_iters) #probamos función logmapN"
      ]
    },
    {
      "cell_type": "markdown",
      "id": "2777fef6",
      "metadata": {
        "deletable": false,
        "editable": false,
        "nbgrader": {
          "cell_type": "markdown",
          "checksum": "e0606dbb41e6b25bf3d51ac9ca54c7dc",
          "grade": false,
          "grade_id": "cell-cdf5f8056a3a15df",
          "locked": true,
          "schema_version": 3,
          "solution": false,
          "task": false
        },
        "id": "2777fef6"
      },
      "source": [
        "Graficando estos valores:"
      ]
    },
    {
      "cell_type": "code",
      "execution_count": null,
      "id": "cbea1791",
      "metadata": {
        "id": "cbea1791"
      },
      "outputs": [],
      "source": [
        "x0=0.8 ; r=2.6 ;  num_iters=10\n",
        "lista_x=range(num_iters+1)\n",
        "lista_y=logmapN(x0,r,num_iters)\n",
        "\n",
        "fg=plt.figure(figsize=(8,6))\n",
        "plt.plot(lista_x,lista_y,marker='o',markerfacecolor='r')\n",
        "plt.title(r'$x_{n+1}= '+str(r)+'x_n(1-x_n)$')\n",
        "plt.xticks(lista_x)\n",
        "plt.xlabel('n')\n",
        "plt.ylabel('x(n)')\n",
        "plt.grid()\n",
        "plt.show()"
      ]
    },
    {
      "cell_type": "markdown",
      "id": "56b441ed",
      "metadata": {
        "deletable": false,
        "editable": false,
        "nbgrader": {
          "cell_type": "markdown",
          "checksum": "51d5fc14ea5e13f03a806575472c536b",
          "grade": false,
          "grade_id": "cell-592f1f5ba489b36d",
          "locked": true,
          "schema_version": 3,
          "solution": false,
          "task": false
        },
        "id": "56b441ed"
      },
      "source": [
        "Ahora, veamos qué sucede si conservamos el mismo valor de $r=2.6$ y usamos dos valores iniciales diferentes $x_0^{(a)}=0.8$ y $x_0^{(b)}=0.7$:"
      ]
    },
    {
      "cell_type": "code",
      "execution_count": null,
      "id": "3ba0e61c",
      "metadata": {
        "id": "3ba0e61c"
      },
      "outputs": [],
      "source": [
        "def logmapPlot(x0_a,x0_b,r,num_iters):\n",
        "    \n",
        "    lista_x=range(num_iters+1) #lista de enteros n\n",
        "    \n",
        "    #----------- Cálculo de los valores de la sucesión -------------\n",
        "    lista_y1=logmapN(x0_a,r,num_iters) #lista de valores x_n obtenidos para el valor inicial x0_a\n",
        "    lista_y2=logmapN(x0_b,r,num_iters) #lista de valores x_n obtenidos para el valor inicial x0_b\n",
        "    \n",
        "    #-------------------- Graficación #----------------------------\n",
        "    fg=plt.figure(figsize=(8,6)) #tamaño de la gráfica\n",
        "    plt.plot(lista_x,lista_y1,marker='+',color='b',label=r'$x_0={}$'.format(x0_a) )#Gráfica usando el valor inicial x0_a\n",
        "    plt.plot(lista_x,lista_y2,marker='x',color='g',label=r'$x_0={}$'.format(x0_b) )#Gráfica usando el valor inicial x0_b\n",
        "    plt.legend() \n",
        "    plt.title(r'$x_{n+1}= '+str(r)+'x_n(1-x_n)$') #título\n",
        "    plt.xticks(lista_x) \n",
        "    plt.xlabel('n') # etiqueta eje X\n",
        "    plt.ylabel('x(n)') #etiqueta eje y\n",
        "    plt.grid() #cuadrícula\n",
        "    plt.show()\n",
        "    #----------------------------------------------------------------\n",
        "    \n",
        "    return None\n",
        "\n",
        "x0_a=0.8; x0_b=0.7\n",
        "r=2.6  ; num_iter=10\n",
        "logmapPlot(x0_a,x0_b,r,num_iter)"
      ]
    },
    {
      "cell_type": "markdown",
      "id": "ea53fbce",
      "metadata": {
        "deletable": false,
        "editable": false,
        "nbgrader": {
          "cell_type": "markdown",
          "checksum": "f2b8e2a8b548a347cad08a8333b98a05",
          "grade": false,
          "grade_id": "cell-caa5c43ba901cf88",
          "locked": true,
          "schema_version": 3,
          "solution": false,
          "task": false
        },
        "id": "ea53fbce"
      },
      "source": [
        "Ahora, observemos el comportamiento de las sucesiones si:\n",
        "\n",
        "**(a)** Permanece $r=2.6$, pero alejamos más los valores iniciales, por ejemplo, tomando $x_0^{(a)}=0.95$ y $x_0^{(b)}=0.14$:\n",
        "\n",
        "**(b)** Cambiamos los parámetros a $x_0^{(a)}=0.95 , \\quad x_0^{(b)}=0.15,\\quad r=0.9,\\quad n_{iter}=12  $ \n",
        "\n",
        "**(c)** Cambiamos los parámetros a $x_0^{(a)}=0.3333 , \\quad x_0^{(b)}=0.3332,\\quad r=4,\\quad n_{iter}=30  $ "
      ]
    },
    {
      "cell_type": "markdown",
      "id": "ff64672f",
      "metadata": {
        "deletable": false,
        "editable": false,
        "nbgrader": {
          "cell_type": "markdown",
          "checksum": "b95668bf85c4f6a17a414971fdf72c19",
          "grade": false,
          "grade_id": "cell-4e55f09a748ca44a",
          "locked": true,
          "schema_version": 3,
          "solution": false,
          "task": false
        },
        "id": "ff64672f"
      },
      "source": [
        "## (a)"
      ]
    },
    {
      "cell_type": "code",
      "execution_count": null,
      "id": "5cb2f9fb",
      "metadata": {
        "id": "5cb2f9fb"
      },
      "outputs": [],
      "source": [
        "x0_a=0.95 ; x0_b=0.14\n",
        "r=2.6  ; num_iter=10\n",
        "logmapPlot(x0_a,x0_b,r,num_iter)"
      ]
    },
    {
      "cell_type": "markdown",
      "id": "3206ce44",
      "metadata": {
        "deletable": false,
        "editable": false,
        "nbgrader": {
          "cell_type": "markdown",
          "checksum": "637c21e2f5b72ef2656564b90d8c882c",
          "grade": false,
          "grade_id": "cell-13a39099ddcf787f",
          "locked": true,
          "schema_version": 3,
          "solution": false,
          "task": false
        },
        "id": "3206ce44"
      },
      "source": [
        "## (b)"
      ]
    },
    {
      "cell_type": "code",
      "execution_count": null,
      "id": "e652e769",
      "metadata": {
        "id": "e652e769"
      },
      "outputs": [],
      "source": [
        "x0_a=0.55 ; x0_b=0.15\n",
        "r=0.9  ; num_iter=12\n",
        "logmapPlot(x0_a,x0_b,r,num_iter)"
      ]
    },
    {
      "cell_type": "markdown",
      "id": "62d27929",
      "metadata": {
        "deletable": false,
        "editable": false,
        "nbgrader": {
          "cell_type": "markdown",
          "checksum": "d8d39a8c43ae8820fb84e2075fd4b8cc",
          "grade": false,
          "grade_id": "cell-1e5aaea639822d94",
          "locked": true,
          "schema_version": 3,
          "solution": false,
          "task": false
        },
        "id": "62d27929"
      },
      "source": [
        "## (c)"
      ]
    },
    {
      "cell_type": "code",
      "execution_count": null,
      "id": "464ae9ec",
      "metadata": {
        "id": "464ae9ec"
      },
      "outputs": [],
      "source": [
        "x0_a=0.3333 ; x0_b=0.3332\n",
        "r=4.0  ; num_iter=35\n",
        "logmapPlot(x0_a,x0_b,r,num_iter)"
      ]
    },
    {
      "cell_type": "markdown",
      "id": "d67bea46",
      "metadata": {
        "deletable": false,
        "editable": false,
        "nbgrader": {
          "cell_type": "markdown",
          "checksum": "0b02e3a3b29bb966b80686784a26f81c",
          "grade": false,
          "grade_id": "cell-25584faad527425e",
          "locked": true,
          "schema_version": 3,
          "solution": false,
          "task": false
        },
        "id": "d67bea46"
      },
      "source": [
        "Observando las gráficas de los tres incisos podemos decir que en el inciso **(a)** los valores convergen al mismo valor a pesar de estar muy alejados entre sí. Después, al cambiar el valor de $r$ en el inciso **(b)** se tiene un nuevo valor de convergencia; pero también puede notarse que a medida que las iteraciones avanzan, los valores $x_n$ de ambas sucesiones se van aproximando entre sí. Sin embargo, en el caso **(c)** se tiene que, aunque los valores iniciales están muy próximos entre sí las sucesiones se van alejando poco a poco hasta tener un comportamiento totalmente distinto.\n",
        "\n",
        "Así, los ejemplos **(a)** y **(b)** nos sirven para ilustrar un método numéricamente estable mientras que el inciso **(c)** sirve para ilustrar un método inestable.\n",
        "\n",
        "La estabilidad es un concepto que reaparece frecuentemente en el análisis numérico. En efecto, en la exposición de algunos de los métodos y algoritmos posteriores se analiza a detalle bajo qué condiciones se da la estabilidad; sin embargo, la idea es que con la noción introducida por estos ejemplos baste para seguir la discución acerca de la estabilidad del método, cuando sea el caso."
      ]
    },
    {
      "cell_type": "markdown",
      "id": "d72d906f",
      "metadata": {
        "deletable": false,
        "editable": false,
        "nbgrader": {
          "cell_type": "markdown",
          "checksum": "4082a1a835dbc6a2041ab8bcb6feb897",
          "grade": false,
          "grade_id": "cell-7e46b4ca2f44b279",
          "locked": true,
          "schema_version": 3,
          "solution": false,
          "task": false
        },
        "id": "d72d906f"
      },
      "source": [
        "## Ejercicio\n",
        "\n",
        "Modifica la función $\\texttt{logmapPlot}$ para definir una nueva función $\\texttt{logmapPlotDiff}$ que en lugar de graficar ambas sucesiones grafique la diferencia de las suceciones con respecto a la diferencia de los valores iniciales, esto es:\n",
        "$$ w_n =  \\frac{|x_n^{(a)}- x_n^{(b)}|}{|x_0^{(a)}- x_0^{(b)}|}$$"
      ]
    },
    {
      "cell_type": "code",
      "execution_count": null,
      "id": "8f327a47",
      "metadata": {
        "deletable": false,
        "nbgrader": {
          "cell_type": "code",
          "checksum": "fa12e713df9cb4fd642aba209afc82b0",
          "grade": true,
          "grade_id": "cell-44b36c3e77151ddc",
          "locked": false,
          "points": 0,
          "schema_version": 3,
          "solution": true,
          "task": false
        },
        "id": "8f327a47"
      },
      "outputs": [],
      "source": [
        "def logmapPlotDiff(x0_a,x0_b,r,num_iters):\n",
        "    # YOUR CODE HERE\n",
        "    raise NotImplementedError()\n",
        "    return None"
      ]
    },
    {
      "cell_type": "code",
      "execution_count": null,
      "id": "0c38d013",
      "metadata": {
        "id": "0c38d013"
      },
      "outputs": [],
      "source": [
        "x0_a=0.3333 ; x0_b=0.3332\n",
        "r=4.0  ; num_iter=35\n",
        "logmapPlotDiff(x0_a,x0_b,r,num_iter)"
      ]
    },
    {
      "cell_type": "code",
      "execution_count": null,
      "id": "14c16075",
      "metadata": {
        "id": "14c16075"
      },
      "outputs": [],
      "source": [
        "x0_a=0.95 ; x0_b=0.14\n",
        "r=2.6  ; num_iter=10\n",
        "logmapPlotDiff(x0_a,x0_b,r,num_iter)"
      ]
    }
  ],
  "metadata": {
    "kernelspec": {
      "display_name": "Python 3 (ipykernel)",
      "language": "python",
      "name": "python3"
    },
    "language_info": {
      "codemirror_mode": {
        "name": "ipython",
        "version": 3
      },
      "file_extension": ".py",
      "mimetype": "text/x-python",
      "name": "python",
      "nbconvert_exporter": "python",
      "pygments_lexer": "ipython3",
      "version": "3.8.10"
    },
    "colab": {
      "name": "02_MetodoEstableEstudiante.ipynb",
      "provenance": [],
      "include_colab_link": true
    }
  },
  "nbformat": 4,
  "nbformat_minor": 5
}