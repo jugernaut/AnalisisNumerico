{
  "cells": [
    {
      "cell_type": "markdown",
      "metadata": {
        "id": "view-in-github",
        "colab_type": "text"
      },
      "source": [
        "<a href=\"https://colab.research.google.com/github/jugernaut/AnalisisNumerico/blob/desarrollo/01_AritmeticaPuntoFlotante/AritmeticaPuntoFlotante.ipynb\" target=\"_parent\"><img src=\"https://colab.research.google.com/assets/colab-badge.svg\" alt=\"Open In Colab\"/></a>"
      ]
    },
    {
      "cell_type": "markdown",
      "metadata": {
        "id": "gTmXfouXUnDx",
        "nbgrader": {
          "grade": false,
          "grade_id": "cell-288d929d733864da",
          "locked": true,
          "schema_version": 3,
          "solution": false,
          "task": false
        }
      },
      "source": [
        "<font color=\"Teal\" face=\"Comic Sans MS,arial\">\n",
        "  <h1 align=\"center\"><i>Números de punto flotante y Técnicas de redondeo</i></h1>\n",
        "  </font>\n",
        "  <font color=\"Black\" face=\"Comic Sans MS,arial\">\n",
        "  <h5 align=\"center\"><i>Profesora: \tUrsula Xiomara Iturrarán Viveros</i></h5>\n",
        "  <h5 align=\"center\"><i>Ayudante: Juan Pablo Cordero Santiago</i></h5>\n",
        "  <h5 align=\"center\"><i>MACTII: Edgar Dominguez Rosas y José Antonio Borras Gutiérrez</i></h5>\n",
        "  <h5 align=\"center\"><i>Materia: Análisis Numérico</i></h5>\n",
        "  </font>"
      ]
    },
    {
      "cell_type": "markdown",
      "metadata": {
        "id": "GaeW9nV7Um4-",
        "nbgrader": {
          "grade": false,
          "grade_id": "cell-157bca13af78f485",
          "locked": true,
          "schema_version": 3,
          "solution": false,
          "task": false
        }
      },
      "source": [
        "# **Sistemas de punto flotante** "
      ]
    },
    {
      "cell_type": "markdown",
      "metadata": {
        "id": "1YSnXp8xUmul",
        "nbgrader": {
          "grade": false,
          "grade_id": "cell-6a278ec3cd2ae093",
          "locked": true,
          "schema_version": 3,
          "solution": false,
          "task": false
        }
      },
      "source": [
        "## Definición de un sistema de punto flotante.\n",
        "\n",
        "**Se consideran los elementos de un sistema de punto flotante a los números que tienen la siguiente forma:**\n",
        "\n",
        "$$x = \\pm (d_{1}.d_{2}d_{3}d_{4},...,d_{t}) \\times \\beta^{e}$$\n",
        "donde\n",
        "\n",
        "1. $t=$ precisión del sistema de punto flotante.\n",
        "2. $\\beta =$ base del sistema de punto flotante.\n",
        "3. $e=$ Exponente.\n",
        "\n",
        "además se debe considerar que:\n",
        "\n",
        "$$0 \\quad < d_{1} < \\quad \\beta$$\n",
        "$$0 \\quad \\leq d_{i} < \\quad \\beta, \\quad \\text{para} \\quad i=2,3,4,...,t$$\n",
        "$$e \\in [L,U], \\quad \\text{donde} \\quad L <  0 < U$$\n",
        "\n",
        "Se denota como $\\mathbb{F}= fl(\\beta, t,L,U)$ se conoce como notación estándar."
      ]
    },
    {
      "cell_type": "markdown",
      "metadata": {
        "id": "p4QgvJVAUmmN",
        "nbgrader": {
          "grade": false,
          "grade_id": "cell-6fdc1e734c871ee6",
          "locked": true,
          "schema_version": 3,
          "solution": false,
          "task": false
        }
      },
      "source": [
        "# **¿Cómo representa los números internamente la computadora?**"
      ]
    },
    {
      "cell_type": "markdown",
      "metadata": {
        "id": "lGN0DG-3UmZ4",
        "nbgrader": {
          "grade": false,
          "grade_id": "cell-e87d3147df648ab6",
          "locked": true,
          "schema_version": 3,
          "solution": false,
          "task": false
        }
      },
      "source": [
        "**La computadora tiene memoria limitada por lo tanto, no puede representar una infinidad de números solo una cantidad limitada.**\n",
        "\n",
        "Los números de la computadora son números de un sistema de punto\n",
        "flotante, ¿Qué pasa si un número tiene expansion periódica infinita\n",
        "como lo puede representar la computadora?\n",
        "\n",
        "Pensemos que la precisión $t = 2$ (también se usa $p = 2$) y pensemos en el número $x = 16/9(= 1.7777777777777777)$, la computadora lo\n",
        "aproximará a 2 dígitos, pero ¿cómo? Para esto existen dos formas, con\n",
        "redondeo o truncamiento. Definamos completamente al sistema de\n",
        "punto flotante hipotético al que nos referimos en este caso:"
      ]
    },
    {
      "cell_type": "markdown",
      "metadata": {
        "id": "Pgp5PbpsUmAS",
        "nbgrader": {
          "grade": false,
          "grade_id": "cell-1ff94ed41e35b44b",
          "locked": true,
          "schema_version": 3,
          "solution": false,
          "task": false
        }
      },
      "source": [
        "# **Redondeo y truncamiento**"
      ]
    },
    {
      "cell_type": "markdown",
      "metadata": {
        "id": "x7iFLJXjUkXr",
        "nbgrader": {
          "grade": false,
          "grade_id": "cell-94f3a27281108458",
          "locked": true,
          "schema_version": 3,
          "solution": false,
          "task": false
        }
      },
      "source": [
        "$\\color{white}{Este\\ sistema\\ lo\\ denotaremos\\ como:\\ fl(10, 3, −3, 3),\\ esto\\ quiere\\ decir\\ que\\ tiene\\ base\\ 10,\\ que\\ tiene\\ 3\\ d\\acute{i}gitos\\ de\\ precisi\\acute{o}n\\ y\\ que\\ el\\ exponente\\ e\\ se\\ encuentra\\ en\\ el\\ intervalo\\ [−3, 3]}$\n",
        "\n",
        "¿Qué elementos se encuentran en este sistema de punto flotante?\n",
        "\n",
        "Probemos $x_{1} = 7$, sabemos que lo podemos escribir como:\n",
        "\n",
        "$$x = 7 = 7.0 \\times 10^{0}$$\n",
        "\n",
        "Siendo la base $β = 10$ y la precisión $t = 3$ (también se denota como $p$) y el exponente, en este caso, es $e = 0 \\in [−3, 3]$, el exponente de $x_{1}$ está en el interavalo $[−3, 3]$, solo tenemos un dígito que es el 7 que esta en la base $\\beta = 10$, por lo tanto es un número que se expresa completamente sin ningún problema en este sistema de punto flotante dado, es decir $7.0 \\in fl(10, 3, −3, 3)$ "
      ]
    },
    {
      "cell_type": "markdown",
      "metadata": {
        "id": "jUmaNH5NOAHi",
        "nbgrader": {
          "grade": false,
          "grade_id": "cell-bd0b6aa6deb364b5",
          "locked": true,
          "schema_version": 3,
          "solution": false,
          "task": false
        }
      },
      "source": [
        "## Ejemplos: Representación"
      ]
    },
    {
      "cell_type": "markdown",
      "metadata": {
        "id": "jAyXcs9GUkMS",
        "nbgrader": {
          "grade": false,
          "grade_id": "cell-fbdd38ed9a9cbd38",
          "locked": true,
          "schema_version": 3,
          "solution": false,
          "task": false
        }
      },
      "source": [
        "**Ejemplo 1**: Representación de número en un sistema\n",
        "\n",
        "$\\color{white}{¿C\\acute{o}mo\\ puedo\\ representar\\ al\\ n\\acute{u}mero\\ x_{2} = 148,\\ escribiendolo\\ en\\ la\\\n",
        "notaci\\acute{o}n\\ est\\acute{a}ndar,\\ si\\ fl(10, 3, −3, 3)?}$\n",
        "\n",
        "Tenemos que:\n",
        "\n",
        "$$x_{2} = 1.48 \\times 10^{2}$$\n",
        "\n",
        "Como tenemos 3 dígitos de precisión, alcanza para expresar el $1.48$,\n",
        "además, la base es $\\beta = 10$ y $1.48$ está en base 10. Por otro lado como el exponente es $e = 2 \\in [−3, 3]$, este también es un número que se puede representar exactamente en el sistema de flotante dado, es decir $x_{2} \\in fl(10, 3, −3, 3)$, la computadora no necesita aproximarlo de ninguna forma, pues es exactamente representable en este sistema de punto flotante."
      ]
    },
    {
      "cell_type": "markdown",
      "metadata": {
        "id": "GsXzj3LxUkAs",
        "nbgrader": {
          "grade": false,
          "grade_id": "cell-7c768acf44eb4141",
          "locked": true,
          "schema_version": 3,
          "solution": false,
          "task": false
        }
      },
      "source": [
        "**Ejemplo 2**: Representar un número\n",
        "\n",
        "$\\color{white}{¿C\\acute{o}mo\\ puedo\\ representar\\ al\\ n\\acute{u}mero\\ x_2 = 8540,\\ escribiendolo\\ en\\ la\\ notaci\\acute{o}n\\ est\\acute{a}ndar,\\ si\\ fl(10, 3, −3, 3)?}$\n",
        "\n",
        "Tenemos:\n",
        "\n",
        "$$x_{3} = 8540.0 \\times 10^{0} = 8.540 \\times 10^{3} = 8.54 \\times 10^{3}$$\n",
        "\n",
        "Como el sistema tiene 3 dígitos de precisión disponibles, en este caso\n",
        "el último dígito es cero, **SI** alcanza para expresar el $8.540$, además este número está en la base $\\beta = 10$ y el exponente es $e = 3 \\in [−3, 3]$, por lo que este número puede ser representado se forma exacta en el sistema de punto flotante $fl(10, 3, −3, 3)$."
      ]
    },
    {
      "cell_type": "markdown",
      "metadata": {
        "id": "wJWz-_55Uj27",
        "nbgrader": {
          "grade": false,
          "grade_id": "cell-e75e43ac194874d1",
          "locked": true,
          "schema_version": 3,
          "solution": false,
          "task": false
        }
      },
      "source": [
        "**Ejemplo 3**: Aproximar un número\n",
        "\n",
        "**¿Cómo puedo representar al número $x_{4} = 2543$, escribiendolo en la\n",
        "notación estándar, si $fl(10, 3, −3, 3)$?**\n",
        "\n",
        "Tenemos:\n",
        "\n",
        "$$x_{4} = 2543.0 × 10^{0} = 2.543 × 10^{3}$$\n",
        "\n",
        "Como el sistema tiene 3 dígitos de precisión disponibles, en este caso,\n",
        "**NO** alcanza para expresar el $2.543$, aunque está en la base $\\beta = 10$ y el exponente es $e = 3 \\in [−3, 3]$, pero este número se tiene que truncar o redondear para poder ser *aproximado* en el sistema de punto flotante $fl(10, 3, −3, 3)$, pues solo hay 3 dígitos y tenemos 4 dígitos diferentes\n",
        "de cero."
      ]
    },
    {
      "cell_type": "markdown",
      "metadata": {
        "id": "6jgPg4bkUi_R",
        "nbgrader": {
          "grade": false,
          "grade_id": "cell-4850e618cb60225b",
          "locked": true,
          "schema_version": 3,
          "solution": false,
          "task": false
        }
      },
      "source": [
        "## Truncamiento\n",
        "\n",
        "La técnica de truncamiento es la más simple, pues solo se consideran\n",
        "los dígitos disponibles y lo demas se borra. Consideremos $x_{7} = 2555$, al truncar para aproximar al sistema de punto flotante $fl(10, 3, −3, 3)$, tenemos que $x_{7} = 2555 = 2.555 \\times 10^{3} = 2.55 \\times 10^{3}$, con truncamiento.\n",
        "\n",
        "*Diferencia entre truncamiento y redondeo*\n",
        "\n",
        "Cuando truncamos un número dado, siempre aproximamos con el\n",
        "elemento menor o igual (perteneciente al sistema de punto flotante en\n",
        "cuestión), mientras que cuando redondeamos puede ser que se\n",
        "aproxime al menor o al mayor, dependiendo de su cercanía a\n",
        "cualquiera de estos dos números o si se da un empate entre el mayor y\n",
        "menor."
      ]
    },
    {
      "cell_type": "markdown",
      "metadata": {
        "id": "xzml5K7qUjuD",
        "nbgrader": {
          "grade": false,
          "grade_id": "cell-df844027b8ec6ab4",
          "locked": true,
          "schema_version": 3,
          "solution": false,
          "task": false
        }
      },
      "source": [
        "## Técnicas de redondeo y truncamiento\n",
        "\n",
        "$\\color{white}{Considerando\\ el\\ caso\\ x_4 = 2543,\\ para\\ aproximarlo\\ a\\ alg\\acute{u}n\\ elemento\\ de\\ fl(10, 3, −3, 3),\\ podemos\\ redondearlo\\ al\\ elemento\\ m\\acute{a}s\\ cercano\\ en\\ este\\ sistema\\ de\\ punto\\ flotante}$\n",
        "\n",
        "Tenemos:\n",
        "\n",
        "$$x_4 = 2543.0 \\times 10^{0} = 2.543 \\times 10^{3}$$\n",
        "\n",
        "Se encuentra entre dos elementos $x_{l}$ y $x_{u}$ que si están en $fl(10, 3, −3, 3)$:\n",
        "\n",
        "\\begin{array}{cc}\n",
        "x_{l} = 2540 < x_{4} & = & 2543 < x_{u} = 2550\\\\\n",
        "x_{l} = 2.54 \\times 10^{3} < x_{4} & = & 2.543 \\times 10^{3} < x_{u} = 2.55 \\times 10^{3}\n",
        "\\end{array}\n",
        "\n",
        "Como tengo que redondear al más cercano entonces $fl(2453) = x_{l} = 2.54 \\times 10^{3}$. Estaré entonces realizando una\n",
        "aproximación que tendrá un error de aproximación."
      ]
    },
    {
      "cell_type": "markdown",
      "metadata": {
        "id": "JBoW-EGvUjjk",
        "nbgrader": {
          "grade": false,
          "grade_id": "cell-04fd06864f447a31",
          "locked": true,
          "schema_version": 3,
          "solution": false,
          "task": false
        }
      },
      "source": [
        "Realizar los siguientes ejemplos de truncamiento al más cercano\n",
        "\n",
        "* $x_{5} = 2549.99999999999999$\n",
        "* $x_{6} = 2550.00000000000001$\n",
        "* $x_{7} = 2555$"
      ]
    },
    {
      "cell_type": "markdown",
      "metadata": {
        "id": "AsmMHAq7UjbU",
        "nbgrader": {
          "grade": false,
          "grade_id": "cell-3fc4de113159582e",
          "locked": true,
          "schema_version": 3,
          "solution": false,
          "task": false
        }
      },
      "source": [
        "Consideremos $x_{5} = 2549.99999999999999$\n",
        "\n",
        "\\begin{array}{cc}\n",
        "x_{l} = 2540 < x_5  & = & 2549.99999999999999 < x_{u} = 2550\\\\\n",
        "x_{l} = 2.54 \\times 10^{3} & < & 2.54999999999999999 \\times 10^{3} < x_{u} = 2.55 \\times 10^{3}\n",
        "\\end{array}\n",
        "\n",
        "Como tengo que redondear al más cercano entonces\n",
        "\n",
        "$fl(2549.99999999999999) = x_{u} = 2.55 \\times 10^{3}$."
      ]
    },
    {
      "cell_type": "markdown",
      "metadata": {
        "id": "IJazRp9EUjRR",
        "nbgrader": {
          "grade": false,
          "grade_id": "cell-2e559a4a63edf009",
          "locked": true,
          "schema_version": 3,
          "solution": false,
          "task": false
        }
      },
      "source": [
        "Consideremos $x_{6} = 2549.00000000000001$\n",
        "\n",
        "\\begin{array}{cc}\n",
        "x_{l} = 2540 < x_{6} & = & 2549.00000000000001 < x_{u} = 2550\\\\\n",
        "x_{l} = 2.54 \\times 10^{3} & < & 2549.00000000000001 \\times 10^{3} < x_{u} = 2.55 \\times 10^{3}\n",
        "\\end{array}\n",
        "\n",
        "Como tengo que redondear al más cercano entonces\n",
        "\n",
        "$fl(2549.00000000000001) = x_{u} = 2.55 \\times 10^{3}$\n",
        "\n"
      ]
    },
    {
      "cell_type": "markdown",
      "metadata": {
        "id": "DrDstCO5UjI2",
        "nbgrader": {
          "grade": false,
          "grade_id": "cell-a9ceea9a7cfac18d",
          "locked": true,
          "schema_version": 3,
          "solution": false,
          "task": false
        }
      },
      "source": [
        "Consideremos $x_{7} = 2555$\n",
        "\n",
        "\\begin{array}{cc}\n",
        "x_{l} = 2550 < x_{6} & = & 2555 < x_{u} = 2560\\\\\n",
        "x_{l} = 2.55 \\times 10^{3} & < & 2.555 \\times 10^{3} < x_{u} = 2.56 \\times 10^{3}\n",
        "\\end{array}\n",
        "\n",
        "En este caso se produce un empate, pues el número a aproximar se\n",
        "encuentra entre el el número inferior $x_{l}$ y superior $x_{u}$ que pertenecen sistema de punto flotante. En este caso se realiza el redondeo a pares, que significa que se redondea al elemento de punto flotante cuyo último dígito significativo sea par. En este caso:\n",
        "\n",
        "$fl(2555.0) = 2.56 \\times 10^{3} = 2560.0$"
      ]
    },
    {
      "cell_type": "markdown",
      "metadata": {
        "id": "faQ9Zzzfb0Qy",
        "nbgrader": {
          "grade": false,
          "grade_id": "cell-25bd31e95de3f9d4",
          "locked": true,
          "schema_version": 3,
          "solution": false,
          "task": false
        }
      },
      "source": [
        "# Redondedo vs truncamiento"
      ]
    },
    {
      "cell_type": "markdown",
      "metadata": {
        "id": "DIb8I62Vb1AA",
        "nbgrader": {
          "grade": false,
          "grade_id": "cell-9c73ed4471f9f43b",
          "locked": true,
          "schema_version": 3,
          "solution": false,
          "task": false
        }
      },
      "source": [
        "Para la resolver la dificultad del ejemplo anterior (ejemplo 3) se puede utilizar, como ya dijimos, el redondeo o el truncamiento. El truncamiento consiste, de forma simple, en ignorar todos aquellos digítos que no alcanzan a representarse en el sistema de punto flotante que estemos utilizando, en este caso $fl(10, 3, −3, 3)$. En el caso del redondeo, el número que ocupamos para representar el número real es aquel que se aproxime más dentro del sistema de punto flotante que hemos definido. Veamos los siguientes ejemplos continuando con el sistema $fl(10, 3, −3, 3)$."
      ]
    },
    {
      "cell_type": "markdown",
      "metadata": {
        "id": "mPhG5k67b1Gc",
        "nbgrader": {
          "grade": false,
          "grade_id": "cell-bd0685b8e70a7e26",
          "locked": true,
          "schema_version": 3,
          "solution": false,
          "task": false
        }
      },
      "source": [
        "a) Consideremos $x_{a} = 2549.99999999999999$\n",
        "\n",
        "Se encuentra entre dos elementos $x_{l}$ y $x_{u}$ que si están en $fl(10, 3, −3, 3)$:\n",
        "\n",
        "\\begin{array}{cc}\n",
        "x_{l} = 2540 < x_5  & = & 2549.99999999999999 < x_{u} = 2550\\\\\n",
        "x_{l} = 2.54 \\times 10^{3} & < & 2.54999999999999999 \\times 10^{3} < x_{u} = 2.55 \\times 10^{3}\n",
        "\\end{array}\n",
        "\n",
        "Como tengo que redondear al más cercano entonces\n",
        "\n",
        "$fl(2549.99999999999999) = x_{u} = 2.55 \\times 10^{3}$."
      ]
    },
    {
      "cell_type": "markdown",
      "metadata": {
        "id": "rgCctOubb1er",
        "nbgrader": {
          "grade": false,
          "grade_id": "cell-88ea04e6bff21dbb",
          "locked": true,
          "schema_version": 3,
          "solution": false,
          "task": false
        }
      },
      "source": [
        "b) Consideremos $x_{b} = 2555$\n",
        "\n",
        "\\begin{array}{cc}\n",
        "x_{l} = 2550 < x_{6} & = & 2555 < x_{u} = 2560\\\\\n",
        "x_{l} = 2.55 \\times 10^{3} & < & 2.555 \\times 10^{3} < x_{u} = 2.56 \\times 10^{3}\n",
        "\\end{array}\n",
        "\n",
        "En este caso se produce un empate, pues el número a aproximar se\n",
        "encuentra entre el el número inferior $x_{l}$ y superior $x_{u}$ que pertenecen sistema de punto flotante. En este caso se realiza el redondeo a pares, que significa que se redondea al elemento de punto flotante cuyo último dígito significativo sea par. En este caso:\n",
        "\n",
        "$fl(2555.0) = 2560.0 = 2.56 \\times 10^{3} $"
      ]
    },
    {
      "cell_type": "markdown",
      "metadata": {
        "id": "9X8TZedPcmCg",
        "nbgrader": {
          "grade": false,
          "grade_id": "cell-e715bd06587bb541",
          "locked": true,
          "schema_version": 3,
          "solution": false,
          "task": false
        }
      },
      "source": [
        "Si, en el caso de $x_{b} = 2555$, hubieramos truncado entonces la representación en punto flotante sería $2.55 \\times 10^{3}$,"
      ]
    },
    {
      "cell_type": "markdown",
      "metadata": {
        "id": "E7wdiJ3elfFL",
        "nbgrader": {
          "grade": false,
          "grade_id": "cell-fde46f295c69abe3",
          "locked": true,
          "schema_version": 3,
          "solution": false,
          "task": false
        }
      },
      "source": [
        "# Aritemetica de punto flotante\n",
        "\n",
        "Consideremos la siguiente función: $f(x)=x^3-6.1x^2+3.2x+1.5$, evaluada en $f(4.71)$. Si estamos trabajando con una representación de punto flotante de los números, entonces, para cada una de las operaciones relizadas en la evaluación de dicha función se obtienen resultados aproximados, de acuerdo con los dígitos con los que contemos para representar los resultados. A continuación, se muestra cómo se vería la evaluación de la función $f$ de forma exacta, con truncamiento de 3 dígitos y con redondeo de 3 dígitos.\n",
        "$$Exacta: \\quad f(4.71)=104.487111-135.32301+15.072+1.5=-14.263899$$\n",
        "$$Truncamiento: \\quad f(4.71)=104.-134.+15.0+1.50=-13.5 \\quad \\qquad \\qquad$$\n",
        "$$Redondeo: \\quad f(4.71)=105.-135.+15.1+1.50=-13.4 \\quad \\qquad \\qquad \\qquad$$"
      ]
    },
    {
      "cell_type": "markdown",
      "metadata": {
        "id": "g3DI-fPmmAGH",
        "nbgrader": {
          "grade": false,
          "grade_id": "cell-b569a0bfa037b4c6",
          "locked": true,
          "schema_version": 3,
          "solution": false,
          "task": false
        }
      },
      "source": [
        "## Error relativo\n",
        "Con lo abordado en las secciones previas, es claro que, el hecho de que el cálculo de una computadora está limitado, implica que tiene **errores**. El error relativo es una forma de medir el error de un valor real '$y$' con respeto de su aproximación '$fl(y)$' y esta dada por la expresión:\n",
        "\n",
        "$$\\left|\\frac{y-fl(y)}{y}\\right|$$.\n",
        "\n",
        "En muchas ocasiones el valor real '$y$' es un número abstracto que no puede ser representado por una computadora, sin embargo, para fines didácticos consideraremos que el valor real '$y$' es el valor que se obtiene al considerar toda la precicisón (dígitos) de la computadora.\n"
      ]
    },
    {
      "cell_type": "markdown",
      "metadata": {
        "id": "TMFVYbXzmDhR",
        "nbgrader": {
          "grade": false,
          "grade_id": "cell-882b3185f315e605",
          "locked": true,
          "schema_version": 3,
          "solution": false,
          "task": false
        }
      },
      "source": [
        "Pensemos, de nuevo, en la función $f(x)=x^3-6.1x^2+3.2x+1.5$, evaluada en $f(4.71)$. Como se muestra al inicio de la sección 2.2.1, la evaluación exacta nos da $y=−14.263899$ y de la evaluación usando truncamiento se obtiene $fl(y)=-13.5$.\n",
        "\n",
        "Entonces el error relativo es:\n",
        "$$\\left|\\frac{-14.263899+13.5}{-14.263899}\\right|\\approx 0.05 \\quad Truncamiento $$"
      ]
    },
    {
      "cell_type": "markdown",
      "metadata": {
        "id": "UNmAzOOimVAk",
        "nbgrader": {
          "grade": false,
          "grade_id": "cell-daa7c264ace87ca6",
          "locked": true,
          "schema_version": 3,
          "solution": false,
          "task": false
        }
      },
      "source": [
        "#### Ejercicio: Error relativo\n",
        "\n",
        "Encuentra el error relativo de las siguientes operaciones usando truncamiento a 4 dígitos, para ello creo u ncodigo que lo resuelva:\n",
        "\n",
        "a)$\\pi - \\frac{22}{7}$ $\\quad$ b) $\\left( \\frac{2}{9}\\right) \\left(\\frac{9}{7} \\right)$$\\quad$ "
      ]
    },
    {
      "cell_type": "markdown",
      "metadata": {
        "id": "LKfPW8X1wn68",
        "nbgrader": {
          "grade": false,
          "grade_id": "cell-9c13226e08808db3",
          "locked": true,
          "schema_version": 3,
          "solution": false,
          "task": false
        }
      },
      "source": [
        "#### Recálculo de f(x) con expresión factorizada\n",
        "\n",
        "Retomemos, una vez más, la función $f(x)=x^3-6.1x^2+3.2x+1.5$, si factorizamos algunos términos, podemos reexpressar la función como: $ f(x)=((x-6.1)x+3.2)x+1.5$. Ambas expresiones de $f$ son algebráicamente equivalentes; sin embargo, la pregunta es si obtendremos el mismo error relativo que obtuvimos anteriormente, al comienzo de la sección 2.1.3.\n",
        "\n",
        "Recalculando, empleando la expresión factorizada tenemos:\n",
        "$$Truncamiento: \\quad f(4.71)=((4.71-6.1)(4.71)+3.2)(4.71)+1.5=-14.2$$\n",
        "$$Redondeo: \\quad f(4.71)=((4.71-6.1)(4.71)+3.2)(4.71)+1.5=-14.3$$\n",
        "Así,los errores relativos seran:\n",
        "$$\\left|\\frac{-14.263899+14.2}{-14.263899}\\right|\\approx 0.0045 \\quad Truncamiento $$\n",
        "$$\\left|\\frac{-14.263899+14.3}{-14.263899}\\right|\\approx 0.0025 \\quad Redondeo $$\n",
        "De este ejemplo podemos concluir que nuestros resultados han disminuido un orden de magnitud si factorizamos nuestros los valores a evaluar."
      ]
    },
    {
      "cell_type": "markdown",
      "metadata": {
        "id": "pMakbVZDw2Ip",
        "nbgrader": {
          "grade": false,
          "grade_id": "cell-5d51db22bdc4dcbe",
          "locked": true,
          "schema_version": 3,
          "solution": false,
          "task": false
        }
      },
      "source": [
        "# Ejercicios Finales\n",
        "\n",
        "Ejercicio a):\n",
        "\n",
        "Explica brevemente, ¿por qué las siguientes evaluaciones lógicas, mostradas en la introducción, dan resultados erróneos?\n",
        "\n",
        "* $(\\sqrt(3))^2=3$\n",
        "* $(0.1+0.1+0.1) = 0.3$\n",
        "* $ 0.9999999999999999999 < 1.0 $"
      ]
    },
    {
      "cell_type": "markdown",
      "metadata": {
        "id": "kXK5uPWjw2yZ",
        "nbgrader": {
          "grade": false,
          "grade_id": "cell-a7e58813c34f453a",
          "locked": true,
          "schema_version": 3,
          "solution": false,
          "task": false
        }
      },
      "source": [
        "Ejercicio b):\n",
        "\n",
        "El hecho que $ 0.9999999999999999999 < 1.0 $ de como resultado $\\textbf{False}$, ¿se explica por una representación de punto flotante de redondeo o de truncamiento? ¿Por qué?"
      ]
    },
    {
      "cell_type": "markdown",
      "metadata": {
        "id": "xW3H-xI0w72G",
        "nbgrader": {
          "grade": false,
          "grade_id": "cell-d12389b828eea555",
          "locked": true,
          "schema_version": 3,
          "solution": false,
          "task": false
        }
      },
      "source": [
        "Ejercicio c):\n",
        "\n",
        "Dados dos puntos $(x_0,y_0)$ y $(x_1,y_1)$ que definen una recta, tal que $y_1 \\neq y_0$, se tienen dos fórmulas para encontrar la intersección-$x$:\n",
        "\n",
        "$x=\\frac{x_0 y_1 - x_1 y_0}{y_1-y_0}   \\quad \\quad , \\quad \\quad x=x_0-\\frac{(x_1-x_0)y_0}{y_1-y_0} $\n",
        "\n",
        "Usa los puntos $(x_0 , y_0 ) = (1.31, 3.24)$ y $(x_1 , y_1 ) = (1.93, 4.76)$ así como aritmética de redondeo de 3 dígitos para determinar qué método es mejor. ¿ A qué crees que se deba esta diferencia ?"
      ]
    },
    {
      "cell_type": "markdown",
      "metadata": {
        "id": "43GTH0lkUiRd"
      },
      "source": [
        "<center>\n",
        "<img src=\"https://github.com/jugernaut/Prometeo/blob/desarrollo/Figuras/gracias.png?raw=1\" width=\"600\"> \n",
        "</center>"
      ]
    }
  ],
  "metadata": {
    "celltoolbar": "Create Assignment",
    "colab": {
      "collapsed_sections": [],
      "name": "AritmeticaPuntoFlotante.ipynb",
      "provenance": [],
      "toc_visible": true,
      "include_colab_link": true
    },
    "kernelspec": {
      "display_name": "Python 3 (ipykernel)",
      "language": "python",
      "name": "python3"
    },
    "language_info": {
      "codemirror_mode": {
        "name": "ipython",
        "version": 3
      },
      "file_extension": ".py",
      "mimetype": "text/x-python",
      "name": "python",
      "nbconvert_exporter": "python",
      "pygments_lexer": "ipython3",
      "version": "3.8.10"
    }
  },
  "nbformat": 4,
  "nbformat_minor": 0
}